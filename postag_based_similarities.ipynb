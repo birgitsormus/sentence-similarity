{
 "cells": [
  {
   "cell_type": "markdown",
   "id": "cd465dc1",
   "metadata": {},
   "source": [
    "### Imports and data preparation"
   ]
  },
  {
   "cell_type": "code",
   "execution_count": 1,
   "id": "39a15e21",
   "metadata": {},
   "outputs": [],
   "source": [
    "import spacy\n",
    "import pandas as pd"
   ]
  },
  {
   "cell_type": "code",
   "execution_count": 2,
   "id": "7fa8fa7a",
   "metadata": {},
   "outputs": [],
   "source": [
    "df = pd.read_csv(\"claim_reviews_en.csv\")"
   ]
  },
  {
   "cell_type": "code",
   "execution_count": 3,
   "id": "77d6f62d",
   "metadata": {},
   "outputs": [
    {
     "data": {
      "text/html": [
       "<div>\n",
       "<style scoped>\n",
       "    .dataframe tbody tr th:only-of-type {\n",
       "        vertical-align: middle;\n",
       "    }\n",
       "\n",
       "    .dataframe tbody tr th {\n",
       "        vertical-align: top;\n",
       "    }\n",
       "\n",
       "    .dataframe thead th {\n",
       "        text-align: right;\n",
       "    }\n",
       "</style>\n",
       "<table border=\"1\" class=\"dataframe\">\n",
       "  <thead>\n",
       "    <tr style=\"text-align: right;\">\n",
       "      <th></th>\n",
       "      <th>claim_text</th>\n",
       "      <th>label</th>\n",
       "      <th>review_url</th>\n",
       "      <th>fact_checker</th>\n",
       "      <th>appearances</th>\n",
       "      <th>reviews</th>\n",
       "    </tr>\n",
       "  </thead>\n",
       "  <tbody>\n",
       "    <tr>\n",
       "      <th>0</th>\n",
       "      <td>Ratan Tata Says, If The Death Of 65 Soldiers I...</td>\n",
       "      <td>not_credible</td>\n",
       "      <td>https://www.boomlive.in/photoshopped-tweet-cla...</td>\n",
       "      <td>{'name': 'BOOM', 'country': 'India', 'language...</td>\n",
       "      <td>[]</td>\n",
       "      <td>[{'label': 'not_credible', 'original_label': '...</td>\n",
       "    </tr>\n",
       "    <tr>\n",
       "      <th>1</th>\n",
       "      <td>The document that circulated did not come from...</td>\n",
       "      <td>not_credible</td>\n",
       "      <td>https://www.rappler.com/newsbreak/fact-check/2...</td>\n",
       "      <td>{'name': 'Rappler', 'country': 'Philippines', ...</td>\n",
       "      <td>[]</td>\n",
       "      <td>[{'label': 'not_credible', 'original_label': '...</td>\n",
       "    </tr>\n",
       "    <tr>\n",
       "      <th>2</th>\n",
       "      <td>News Outlets Did Not Report On Coronavirus Cas...</td>\n",
       "      <td>not_credible</td>\n",
       "      <td>https://leadstories.com/hoax-alert/2020/04/fac...</td>\n",
       "      <td>{'name': 'Lead Stories', 'country': 'United St...</td>\n",
       "      <td>[]</td>\n",
       "      <td>[{'label': 'not_credible', 'original_label': '...</td>\n",
       "    </tr>\n",
       "    <tr>\n",
       "      <th>3</th>\n",
       "      <td>RSS built the 6000-bed COVID centre in Indore</td>\n",
       "      <td>not_credible</td>\n",
       "      <td>https://www.altnews.in/rss-hasnt-build-second-...</td>\n",
       "      <td>{'name': 'Pravda Media Foundation', 'country':...</td>\n",
       "      <td>[]</td>\n",
       "      <td>[{'label': 'not_credible', 'original_label': '...</td>\n",
       "    </tr>\n",
       "    <tr>\n",
       "      <th>4</th>\n",
       "      <td>La justice belge a suspendu Covid Safe Ticket,...</td>\n",
       "      <td>not_verifiable</td>\n",
       "      <td>https://www.20minutes.fr/societe/3202587-20211...</td>\n",
       "      <td>{'name': '20 Minutes Fake off', 'country': 'Fr...</td>\n",
       "      <td>[]</td>\n",
       "      <td>[{'label': 'not_verifiable', 'original_label':...</td>\n",
       "    </tr>\n",
       "  </tbody>\n",
       "</table>\n",
       "</div>"
      ],
      "text/plain": [
       "                                          claim_text           label  \\\n",
       "0  Ratan Tata Says, If The Death Of 65 Soldiers I...    not_credible   \n",
       "1  The document that circulated did not come from...    not_credible   \n",
       "2  News Outlets Did Not Report On Coronavirus Cas...    not_credible   \n",
       "3      RSS built the 6000-bed COVID centre in Indore    not_credible   \n",
       "4  La justice belge a suspendu Covid Safe Ticket,...  not_verifiable   \n",
       "\n",
       "                                          review_url  \\\n",
       "0  https://www.boomlive.in/photoshopped-tweet-cla...   \n",
       "1  https://www.rappler.com/newsbreak/fact-check/2...   \n",
       "2  https://leadstories.com/hoax-alert/2020/04/fac...   \n",
       "3  https://www.altnews.in/rss-hasnt-build-second-...   \n",
       "4  https://www.20minutes.fr/societe/3202587-20211...   \n",
       "\n",
       "                                        fact_checker appearances  \\\n",
       "0  {'name': 'BOOM', 'country': 'India', 'language...          []   \n",
       "1  {'name': 'Rappler', 'country': 'Philippines', ...          []   \n",
       "2  {'name': 'Lead Stories', 'country': 'United St...          []   \n",
       "3  {'name': 'Pravda Media Foundation', 'country':...          []   \n",
       "4  {'name': '20 Minutes Fake off', 'country': 'Fr...          []   \n",
       "\n",
       "                                             reviews  \n",
       "0  [{'label': 'not_credible', 'original_label': '...  \n",
       "1  [{'label': 'not_credible', 'original_label': '...  \n",
       "2  [{'label': 'not_credible', 'original_label': '...  \n",
       "3  [{'label': 'not_credible', 'original_label': '...  \n",
       "4  [{'label': 'not_verifiable', 'original_label':...  "
      ]
     },
     "execution_count": 3,
     "metadata": {},
     "output_type": "execute_result"
    }
   ],
   "source": [
    "df.head()"
   ]
  },
  {
   "cell_type": "code",
   "execution_count": 4,
   "id": "5afdb787",
   "metadata": {},
   "outputs": [],
   "source": [
    "sentences = df[\"claim_text\"].tolist()"
   ]
  },
  {
   "cell_type": "code",
   "execution_count": 5,
   "id": "ea99551c",
   "metadata": {},
   "outputs": [
    {
     "data": {
      "text/plain": [
       "['Ratan Tata Says, If The Death Of 65 Soldiers Increases The Popularity Of A Prime Minister, Then Nobody Can Save This Country',\n",
       " 'The document that circulated did not come from the Civil Service Commission',\n",
       " 'News Outlets Did Not Report On Coronavirus Cases At Walmart, Amazon And Other Retailers']"
      ]
     },
     "execution_count": 5,
     "metadata": {},
     "output_type": "execute_result"
    }
   ],
   "source": [
    "sentences[:3]"
   ]
  },
  {
   "cell_type": "code",
   "execution_count": 6,
   "id": "6a31fcb2",
   "metadata": {
    "scrolled": true
   },
   "outputs": [],
   "source": [
    "# !python -m spacy download en_core_web_sm"
   ]
  },
  {
   "cell_type": "code",
   "execution_count": 7,
   "id": "91c85317",
   "metadata": {},
   "outputs": [],
   "source": [
    "nlp = spacy.load(\"en_core_web_sm\")"
   ]
  },
  {
   "cell_type": "code",
   "execution_count": 8,
   "id": "ff166725",
   "metadata": {},
   "outputs": [],
   "source": [
    "docs = []\n",
    "\n",
    "for sentence in sentences:\n",
    "    docs.append(nlp(sentence))"
   ]
  },
  {
   "cell_type": "code",
   "execution_count": 9,
   "id": "6a76a41d",
   "metadata": {},
   "outputs": [
    {
     "data": {
      "text/plain": [
       "(Ratan, 'PROPN')"
      ]
     },
     "execution_count": 9,
     "metadata": {},
     "output_type": "execute_result"
    }
   ],
   "source": [
    "docs[0][0], docs[0][0].pos_"
   ]
  },
  {
   "cell_type": "code",
   "execution_count": 10,
   "id": "4fe0be0e",
   "metadata": {},
   "outputs": [],
   "source": [
    "postags = []\n",
    "\n",
    "for doc in docs:\n",
    "    pos = []\n",
    "    for el in doc:\n",
    "        pos.append(el.pos_)\n",
    "    postags.append(pos)"
   ]
  },
  {
   "cell_type": "markdown",
   "id": "d1ebf4a0",
   "metadata": {},
   "source": [
    "### N-grams base"
   ]
  },
  {
   "cell_type": "code",
   "execution_count": 11,
   "id": "5ea5419b",
   "metadata": {},
   "outputs": [
    {
     "name": "stderr",
     "output_type": "stream",
     "text": [
      "C:\\Users\\sormu\\Anaconda3\\envs\\project\\lib\\site-packages\\scipy\\__init__.py:146: UserWarning: A NumPy version >=1.16.5 and <1.23.0 is required for this version of SciPy (detected version 1.23.4\n",
      "  warnings.warn(f\"A NumPy version >={np_minversion} and <{np_maxversion}\"\n"
     ]
    }
   ],
   "source": [
    "from nltk.util import bigrams, trigrams"
   ]
  },
  {
   "cell_type": "code",
   "execution_count": 12,
   "id": "526ffc1f",
   "metadata": {},
   "outputs": [],
   "source": [
    "bigrams_ = []\n",
    "trigrams_ = []\n",
    "\n",
    "for pos in postags:\n",
    "    bigrams_.append(list(bigrams(pos)))\n",
    "    trigrams_.append(list(trigrams(pos)))"
   ]
  },
  {
   "cell_type": "code",
   "execution_count": 13,
   "id": "383e7895",
   "metadata": {},
   "outputs": [],
   "source": [
    "bigram_similarities = []\n",
    "sample_sentence = bigrams_[0]\n",
    "\n",
    "for i, sent in enumerate(bigrams_):\n",
    "    same_bigrams = 0\n",
    "    for bigram in sample_sentence:\n",
    "        if bigram in sent:\n",
    "            same_bigrams += 1\n",
    "    bigram_similarities.append((same_bigrams, i))"
   ]
  },
  {
   "cell_type": "code",
   "execution_count": 14,
   "id": "cc3913f6",
   "metadata": {},
   "outputs": [
    {
     "data": {
      "text/plain": [
       "[(23, 0), (7, 1), (4, 2)]"
      ]
     },
     "execution_count": 14,
     "metadata": {},
     "output_type": "execute_result"
    }
   ],
   "source": [
    "bigram_similarities[:3]"
   ]
  },
  {
   "cell_type": "code",
   "execution_count": 15,
   "id": "fa905489",
   "metadata": {},
   "outputs": [
    {
     "data": {
      "text/plain": [
       "[(23, 0), (19, 12833), (19, 22958), (18, 2645), (18, 9840)]"
      ]
     },
     "execution_count": 15,
     "metadata": {},
     "output_type": "execute_result"
    }
   ],
   "source": [
    "sorted(bigram_similarities, key=lambda x: x[0], reverse=True)[:5]"
   ]
  },
  {
   "cell_type": "code",
   "execution_count": 16,
   "id": "5252bbeb",
   "metadata": {},
   "outputs": [],
   "source": [
    "trigram_similarities = []\n",
    "sample_sentence = trigrams_[0]\n",
    "\n",
    "for i, sent in enumerate(trigrams_):\n",
    "    same_trigrams = 0\n",
    "    for trigram in sample_sentence:\n",
    "        if trigram in sent:\n",
    "            same_trigrams += 1\n",
    "    trigram_similarities.append((same_trigrams, i))"
   ]
  },
  {
   "cell_type": "code",
   "execution_count": 17,
   "id": "4d5fa3da",
   "metadata": {},
   "outputs": [
    {
     "data": {
      "text/plain": [
       "[(22, 0), (11, 19034), (10, 2645), (9, 704), (9, 5717)]"
      ]
     },
     "execution_count": 17,
     "metadata": {},
     "output_type": "execute_result"
    }
   ],
   "source": [
    "sorted(trigram_similarities, key=lambda x: x[0], reverse=True)[:5]"
   ]
  },
  {
   "cell_type": "code",
   "execution_count": 18,
   "id": "cfba6a61",
   "metadata": {},
   "outputs": [
    {
     "name": "stdout",
     "output_type": "stream",
     "text": [
      "['PROPN', 'PROPN', 'VERB', 'PUNCT', 'SCONJ', 'DET', 'NOUN', 'ADP', 'NUM', 'PROPN', 'VERB', 'DET', 'PROPN', 'ADP', 'DET', 'PROPN', 'PROPN', 'PUNCT', 'ADV', 'PRON', 'AUX', 'VERB', 'DET', 'NOUN']\n"
     ]
    }
   ],
   "source": [
    "print(postags[0])"
   ]
  },
  {
   "cell_type": "code",
   "execution_count": 19,
   "id": "8faaceb5",
   "metadata": {},
   "outputs": [
    {
     "name": "stdout",
     "output_type": "stream",
     "text": [
      "['DET', 'PROPN', 'ADP', 'DET', 'PROPN', 'PROPN', 'ADP', 'PROPN', 'PUNCT', 'PROPN', 'PROPN', 'PUNCT', 'AUX', 'VERB', 'DET', 'PROPN', 'PROPN', 'VERB', 'DET', 'NOUN', 'ADP', 'ADJ', 'NOUN', 'ADJ', 'NOUN', 'PUNCT', 'NOUN', 'NOUN', 'NOUN', 'PUNCT', 'CCONJ', 'NOUN', 'VERB', 'ADP', 'ADJ', 'PROPN', 'PUNCT']\n"
     ]
    }
   ],
   "source": [
    "print(postags[19034])"
   ]
  },
  {
   "cell_type": "markdown",
   "id": "0fe052a2",
   "metadata": {},
   "source": [
    "### Dynamic time warping"
   ]
  },
  {
   "cell_type": "code",
   "execution_count": 20,
   "id": "eff0c725",
   "metadata": {},
   "outputs": [],
   "source": [
    "from fastdtw import fastdtw\n",
    "from scipy.spatial.distance import euclidean, cosine"
   ]
  },
  {
   "cell_type": "code",
   "execution_count": 21,
   "id": "a011e78b",
   "metadata": {},
   "outputs": [],
   "source": [
    "postags_set = set()\n",
    "\n",
    "for sent in postags:\n",
    "    postags_set.update(sent)"
   ]
  },
  {
   "cell_type": "code",
   "execution_count": 22,
   "id": "6baad3c0",
   "metadata": {},
   "outputs": [],
   "source": [
    "postag_mapping = {}\n",
    "\n",
    "for i, pos in enumerate(postags_set):\n",
    "    postag_mapping[pos] = i"
   ]
  },
  {
   "cell_type": "code",
   "execution_count": 23,
   "id": "c55315fa",
   "metadata": {},
   "outputs": [],
   "source": [
    "mapped_postags = [[postag_mapping[pos] for pos in sent] for sent in postags]"
   ]
  },
  {
   "cell_type": "markdown",
   "id": "23455a0c",
   "metadata": {},
   "source": [
    "#### Euclidean distance"
   ]
  },
  {
   "cell_type": "code",
   "execution_count": 24,
   "id": "f08c4ac8",
   "metadata": {},
   "outputs": [],
   "source": [
    "distances_with_sample = []\n",
    "distances_with_sample_path = []\n",
    "mapped_sample = mapped_postags[0]\n",
    "\n",
    "for i, sent in enumerate(mapped_postags):\n",
    "    distance, path = fastdtw(mapped_sample, sent, dist=euclidean)\n",
    "    distances_with_sample.append((i, distance))\n",
    "    distances_with_sample_path.append((i, distance, path))"
   ]
  },
  {
   "cell_type": "code",
   "execution_count": 25,
   "id": "44e2d8ff",
   "metadata": {},
   "outputs": [
    {
     "data": {
      "text/plain": [
       "[(0, 0.0), (13860, 33.0), (10614, 34.0), (4704, 35.0), (43053, 35.0)]"
      ]
     },
     "execution_count": 25,
     "metadata": {},
     "output_type": "execute_result"
    }
   ],
   "source": [
    "sorted(distances_with_sample, key=lambda x: x[1])[:5]"
   ]
  },
  {
   "cell_type": "code",
   "execution_count": 26,
   "id": "03ebc118",
   "metadata": {},
   "outputs": [
    {
     "name": "stdout",
     "output_type": "stream",
     "text": [
      "['PROPN', 'PROPN', 'VERB', 'PUNCT', 'SCONJ', 'DET', 'NOUN', 'ADP', 'NUM', 'PROPN', 'VERB', 'DET', 'PROPN', 'ADP', 'DET', 'PROPN', 'PROPN', 'PUNCT', 'ADV', 'PRON', 'AUX', 'VERB', 'DET', 'NOUN']\n"
     ]
    }
   ],
   "source": [
    "print(postags[0])"
   ]
  },
  {
   "cell_type": "code",
   "execution_count": 30,
   "id": "d772f355",
   "metadata": {},
   "outputs": [
    {
     "name": "stdout",
     "output_type": "stream",
     "text": [
      "['PROPN', 'PROPN', 'ADP', 'PROPN', 'VERB', 'ADP', 'DET', 'PROPN', 'ADP', 'PROPN', 'AUX', 'VERB']\n"
     ]
    }
   ],
   "source": [
    "print(postags[13860])"
   ]
  },
  {
   "cell_type": "code",
   "execution_count": 28,
   "id": "6fbc6862",
   "metadata": {},
   "outputs": [
    {
     "data": {
      "text/plain": [
       "'Ratan Tata Says, If The Death Of 65 Soldiers Increases The Popularity Of A Prime Minister, Then Nobody Can Save This Country'"
      ]
     },
     "execution_count": 28,
     "metadata": {},
     "output_type": "execute_result"
    }
   ],
   "source": [
    "sentences[0]"
   ]
  },
  {
   "cell_type": "code",
   "execution_count": 31,
   "id": "bf1b7cb1",
   "metadata": {},
   "outputs": [
    {
     "data": {
      "text/plain": [
       "'Viral Video Of Woman Kidnapped By A Group Of Men Is Scripted'"
      ]
     },
     "execution_count": 31,
     "metadata": {},
     "output_type": "execute_result"
    }
   ],
   "source": [
    "sentences[13860]"
   ]
  }
 ],
 "metadata": {
  "kernelspec": {
   "display_name": "Python 3 (ipykernel)",
   "language": "python",
   "name": "python3"
  },
  "language_info": {
   "codemirror_mode": {
    "name": "ipython",
    "version": 3
   },
   "file_extension": ".py",
   "mimetype": "text/x-python",
   "name": "python",
   "nbconvert_exporter": "python",
   "pygments_lexer": "ipython3",
   "version": "3.10.8"
  }
 },
 "nbformat": 4,
 "nbformat_minor": 5
}
