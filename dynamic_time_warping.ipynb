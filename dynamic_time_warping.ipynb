{
 "cells": [
  {
   "cell_type": "markdown",
   "id": "fb843850",
   "metadata": {},
   "source": [
    "## Imports and data processing"
   ]
  },
  {
   "cell_type": "code",
   "execution_count": 1,
   "id": "afb596ba",
   "metadata": {},
   "outputs": [],
   "source": [
    "import spacy\n",
    "import pandas as pd\n",
    "import numpy as np"
   ]
  },
  {
   "cell_type": "code",
   "execution_count": 2,
   "id": "99d1d16d",
   "metadata": {},
   "outputs": [],
   "source": [
    "df = pd.read_csv(\"claim_reviews_en.csv\")"
   ]
  },
  {
   "cell_type": "code",
   "execution_count": 3,
   "id": "34d4749f",
   "metadata": {},
   "outputs": [
    {
     "data": {
      "text/html": [
       "<div>\n",
       "<style scoped>\n",
       "    .dataframe tbody tr th:only-of-type {\n",
       "        vertical-align: middle;\n",
       "    }\n",
       "\n",
       "    .dataframe tbody tr th {\n",
       "        vertical-align: top;\n",
       "    }\n",
       "\n",
       "    .dataframe thead th {\n",
       "        text-align: right;\n",
       "    }\n",
       "</style>\n",
       "<table border=\"1\" class=\"dataframe\">\n",
       "  <thead>\n",
       "    <tr style=\"text-align: right;\">\n",
       "      <th></th>\n",
       "      <th>claim_text</th>\n",
       "      <th>label</th>\n",
       "      <th>review_url</th>\n",
       "      <th>fact_checker</th>\n",
       "      <th>appearances</th>\n",
       "      <th>reviews</th>\n",
       "    </tr>\n",
       "  </thead>\n",
       "  <tbody>\n",
       "    <tr>\n",
       "      <th>0</th>\n",
       "      <td>Ratan Tata Says, If The Death Of 65 Soldiers I...</td>\n",
       "      <td>not_credible</td>\n",
       "      <td>https://www.boomlive.in/photoshopped-tweet-cla...</td>\n",
       "      <td>{'name': 'BOOM', 'country': 'India', 'language...</td>\n",
       "      <td>[]</td>\n",
       "      <td>[{'label': 'not_credible', 'original_label': '...</td>\n",
       "    </tr>\n",
       "    <tr>\n",
       "      <th>1</th>\n",
       "      <td>The document that circulated did not come from...</td>\n",
       "      <td>not_credible</td>\n",
       "      <td>https://www.rappler.com/newsbreak/fact-check/2...</td>\n",
       "      <td>{'name': 'Rappler', 'country': 'Philippines', ...</td>\n",
       "      <td>[]</td>\n",
       "      <td>[{'label': 'not_credible', 'original_label': '...</td>\n",
       "    </tr>\n",
       "    <tr>\n",
       "      <th>2</th>\n",
       "      <td>News Outlets Did Not Report On Coronavirus Cas...</td>\n",
       "      <td>not_credible</td>\n",
       "      <td>https://leadstories.com/hoax-alert/2020/04/fac...</td>\n",
       "      <td>{'name': 'Lead Stories', 'country': 'United St...</td>\n",
       "      <td>[]</td>\n",
       "      <td>[{'label': 'not_credible', 'original_label': '...</td>\n",
       "    </tr>\n",
       "    <tr>\n",
       "      <th>3</th>\n",
       "      <td>RSS built the 6000-bed COVID centre in Indore</td>\n",
       "      <td>not_credible</td>\n",
       "      <td>https://www.altnews.in/rss-hasnt-build-second-...</td>\n",
       "      <td>{'name': 'Pravda Media Foundation', 'country':...</td>\n",
       "      <td>[]</td>\n",
       "      <td>[{'label': 'not_credible', 'original_label': '...</td>\n",
       "    </tr>\n",
       "    <tr>\n",
       "      <th>4</th>\n",
       "      <td>La justice belge a suspendu Covid Safe Ticket,...</td>\n",
       "      <td>not_verifiable</td>\n",
       "      <td>https://www.20minutes.fr/societe/3202587-20211...</td>\n",
       "      <td>{'name': '20 Minutes Fake off', 'country': 'Fr...</td>\n",
       "      <td>[]</td>\n",
       "      <td>[{'label': 'not_verifiable', 'original_label':...</td>\n",
       "    </tr>\n",
       "  </tbody>\n",
       "</table>\n",
       "</div>"
      ],
      "text/plain": [
       "                                          claim_text           label  \\\n",
       "0  Ratan Tata Says, If The Death Of 65 Soldiers I...    not_credible   \n",
       "1  The document that circulated did not come from...    not_credible   \n",
       "2  News Outlets Did Not Report On Coronavirus Cas...    not_credible   \n",
       "3      RSS built the 6000-bed COVID centre in Indore    not_credible   \n",
       "4  La justice belge a suspendu Covid Safe Ticket,...  not_verifiable   \n",
       "\n",
       "                                          review_url  \\\n",
       "0  https://www.boomlive.in/photoshopped-tweet-cla...   \n",
       "1  https://www.rappler.com/newsbreak/fact-check/2...   \n",
       "2  https://leadstories.com/hoax-alert/2020/04/fac...   \n",
       "3  https://www.altnews.in/rss-hasnt-build-second-...   \n",
       "4  https://www.20minutes.fr/societe/3202587-20211...   \n",
       "\n",
       "                                        fact_checker appearances  \\\n",
       "0  {'name': 'BOOM', 'country': 'India', 'language...          []   \n",
       "1  {'name': 'Rappler', 'country': 'Philippines', ...          []   \n",
       "2  {'name': 'Lead Stories', 'country': 'United St...          []   \n",
       "3  {'name': 'Pravda Media Foundation', 'country':...          []   \n",
       "4  {'name': '20 Minutes Fake off', 'country': 'Fr...          []   \n",
       "\n",
       "                                             reviews  \n",
       "0  [{'label': 'not_credible', 'original_label': '...  \n",
       "1  [{'label': 'not_credible', 'original_label': '...  \n",
       "2  [{'label': 'not_credible', 'original_label': '...  \n",
       "3  [{'label': 'not_credible', 'original_label': '...  \n",
       "4  [{'label': 'not_verifiable', 'original_label':...  "
      ]
     },
     "execution_count": 3,
     "metadata": {},
     "output_type": "execute_result"
    }
   ],
   "source": [
    "df.head()"
   ]
  },
  {
   "cell_type": "code",
   "execution_count": 135,
   "id": "6f51ef29",
   "metadata": {},
   "outputs": [
    {
     "data": {
      "text/plain": [
       "(47108, 6)"
      ]
     },
     "execution_count": 135,
     "metadata": {},
     "output_type": "execute_result"
    }
   ],
   "source": [
    "df.shape"
   ]
  },
  {
   "cell_type": "code",
   "execution_count": 4,
   "id": "c6da290c",
   "metadata": {},
   "outputs": [],
   "source": [
    "sentences = df[\"claim_text\"].tolist()"
   ]
  },
  {
   "cell_type": "code",
   "execution_count": 6,
   "id": "407f3052",
   "metadata": {},
   "outputs": [],
   "source": [
    "nlp = spacy.load(\"en_core_web_sm\")"
   ]
  },
  {
   "cell_type": "code",
   "execution_count": 7,
   "id": "f186a61c",
   "metadata": {},
   "outputs": [],
   "source": [
    "docs = []\n",
    "\n",
    "for sentence in sentences:\n",
    "    docs.append(nlp(sentence))"
   ]
  },
  {
   "cell_type": "code",
   "execution_count": 8,
   "id": "1df228e0",
   "metadata": {},
   "outputs": [],
   "source": [
    "postags = []\n",
    "\n",
    "for doc in docs:\n",
    "    pos = []\n",
    "    for el in doc:\n",
    "        pos.append(el.pos_)\n",
    "    postags.append(pos)"
   ]
  },
  {
   "cell_type": "code",
   "execution_count": 9,
   "id": "a4c96396",
   "metadata": {},
   "outputs": [],
   "source": [
    "postags_set = set()\n",
    "\n",
    "for sent in postags:\n",
    "    postags_set.update(sent)"
   ]
  },
  {
   "cell_type": "code",
   "execution_count": 10,
   "id": "c11c154c",
   "metadata": {},
   "outputs": [],
   "source": [
    "postag_mapping = {}\n",
    "\n",
    "for i, pos in enumerate(postags_set):\n",
    "    postag_mapping[pos] = i"
   ]
  },
  {
   "cell_type": "code",
   "execution_count": 11,
   "id": "f1b6d125",
   "metadata": {},
   "outputs": [],
   "source": [
    "mapped_postags = [[postag_mapping[pos] for pos in sent] for sent in postags]"
   ]
  },
  {
   "cell_type": "markdown",
   "id": "64fce481",
   "metadata": {},
   "source": [
    "## Dynamic time warping "
   ]
  },
  {
   "cell_type": "markdown",
   "id": "7bde7f1e",
   "metadata": {},
   "source": [
    "### Initial dtw where the cost=0 if the postags are the same and cost=1 otherwise"
   ]
  },
  {
   "cell_type": "code",
   "execution_count": 12,
   "id": "9da2b767",
   "metadata": {},
   "outputs": [],
   "source": [
    "def dtw(s, t, costs):\n",
    "    n, m = len(s), len(t)\n",
    "    dtw_matrix = np.zeros((n+1, m+1))\n",
    "    for i in range(n+1):\n",
    "        for j in range(m+1):\n",
    "            dtw_matrix[i, j] = np.inf\n",
    "    dtw_matrix[0, 0] = 0\n",
    "    \n",
    "    for i in range(1, n+1):\n",
    "        for j in range(1, m+1):\n",
    "            val1, val2 = s[i-1], t[j-1]\n",
    "            cost = costs[val1][val2]\n",
    "            last_min = np.min([dtw_matrix[i-1, j], dtw_matrix[i, j-1], dtw_matrix[i-1, j-1]])\n",
    "            dtw_matrix[i, j] = cost + last_min\n",
    "            \n",
    "    return dtw_matrix"
   ]
  },
  {
   "cell_type": "code",
   "execution_count": 13,
   "id": "b1605476",
   "metadata": {},
   "outputs": [],
   "source": [
    "costs = {}\n",
    "\n",
    "for val in postag_mapping.values():\n",
    "    costs[val] = {}\n",
    "    for other_val in postag_mapping.values():\n",
    "        if other_val == val:\n",
    "            costs[val][other_val] = 0\n",
    "        else:\n",
    "            costs[val][other_val] = 1"
   ]
  },
  {
   "cell_type": "code",
   "execution_count": 14,
   "id": "67f9a72c",
   "metadata": {},
   "outputs": [
    {
     "data": {
      "text/plain": [
       "18.0"
      ]
     },
     "execution_count": 14,
     "metadata": {},
     "output_type": "execute_result"
    }
   ],
   "source": [
    "dtw(mapped_postags[0], mapped_postags[1], costs)[-1, -1]"
   ]
  },
  {
   "cell_type": "code",
   "execution_count": 15,
   "id": "0f7f4c8c",
   "metadata": {},
   "outputs": [
    {
     "name": "stdout",
     "output_type": "stream",
     "text": [
      "[2, 2, 3, 17, 0, 14, 1, 10, 7, 2, 3, 14, 2, 10, 14, 2, 2, 17, 4, 9, 5, 3, 14, 1]\n"
     ]
    }
   ],
   "source": [
    "print(mapped_postags[0])"
   ]
  },
  {
   "cell_type": "code",
   "execution_count": 16,
   "id": "215b51ca",
   "metadata": {},
   "outputs": [],
   "source": [
    "distances_with_sample = []\n",
    "mapped_sample = mapped_postags[0]\n",
    "\n",
    "for i, sent in enumerate(mapped_postags):\n",
    "    distance = dtw(mapped_sample, sent, costs)[-1, -1]\n",
    "    distances_with_sample.append((i, distance))"
   ]
  },
  {
   "cell_type": "code",
   "execution_count": 17,
   "id": "1815cf2f",
   "metadata": {},
   "outputs": [
    {
     "data": {
      "text/plain": [
       "[(0, 0.0), (4704, 9.0), (9278, 10.0), (17346, 10.0), (18402, 10.0)]"
      ]
     },
     "execution_count": 17,
     "metadata": {},
     "output_type": "execute_result"
    }
   ],
   "source": [
    "sorted(distances_with_sample, key=lambda x: x[1])[:5]"
   ]
  },
  {
   "cell_type": "code",
   "execution_count": 18,
   "id": "19081000",
   "metadata": {},
   "outputs": [
    {
     "name": "stdout",
     "output_type": "stream",
     "text": [
      "['PROPN', 'PROPN', 'VERB', 'PUNCT', 'SCONJ', 'DET', 'NOUN', 'ADP', 'NUM', 'PROPN', 'VERB', 'DET', 'PROPN', 'ADP', 'DET', 'PROPN', 'PROPN', 'PUNCT', 'ADV', 'PRON', 'AUX', 'VERB', 'DET', 'NOUN']\n"
     ]
    }
   ],
   "source": [
    "print(postags[0])"
   ]
  },
  {
   "cell_type": "code",
   "execution_count": 19,
   "id": "6eab2a0e",
   "metadata": {},
   "outputs": [
    {
     "data": {
      "text/plain": [
       "'Ratan Tata Says, If The Death Of 65 Soldiers Increases The Popularity Of A Prime Minister, Then Nobody Can Save This Country'"
      ]
     },
     "execution_count": 19,
     "metadata": {},
     "output_type": "execute_result"
    }
   ],
   "source": [
    "sentences[0]"
   ]
  },
  {
   "cell_type": "code",
   "execution_count": 20,
   "id": "0cbeae6f",
   "metadata": {},
   "outputs": [
    {
     "name": "stdout",
     "output_type": "stream",
     "text": [
      "['PROPN', 'PROPN', 'PROPN', 'PUNCT', 'DET', 'NOUN', 'ADP', 'DET', 'PROPN', 'PROPN', 'ADP', 'PROPN', 'PUNCT', 'AUX', 'AUX', 'VERB', 'ADP', 'NOUN']\n"
     ]
    }
   ],
   "source": [
    "print(postags[4704])"
   ]
  },
  {
   "cell_type": "code",
   "execution_count": 21,
   "id": "bd344776",
   "metadata": {},
   "outputs": [
    {
     "data": {
      "text/plain": [
       "'Gen. Mark Milley, the chairman of the Joint Chiefs of Staff, has been arrested for treason'"
      ]
     },
     "execution_count": 21,
     "metadata": {},
     "output_type": "execute_result"
    }
   ],
   "source": [
    "sentences[4704]"
   ]
  },
  {
   "cell_type": "code",
   "execution_count": 70,
   "id": "1d8c09d1",
   "metadata": {},
   "outputs": [],
   "source": [
    "costs_base = {}\n",
    "\n",
    "for val in postag_mapping.values():\n",
    "    costs_base[val] = {}\n",
    "    for other_val in postag_mapping.values():\n",
    "        if other_val == val:\n",
    "            costs_base[val][other_val] = 0\n",
    "        else:\n",
    "            costs_base[val][other_val] = 1"
   ]
  },
  {
   "cell_type": "markdown",
   "id": "52d6a820",
   "metadata": {},
   "source": [
    "Example 1"
   ]
  },
  {
   "cell_type": "code",
   "execution_count": 71,
   "id": "2c0c4a12",
   "metadata": {},
   "outputs": [
    {
     "name": "stdout",
     "output_type": "stream",
     "text": [
      "177.9184534549713\n"
     ]
    }
   ],
   "source": [
    "start = time.time()\n",
    "\n",
    "distances_with_sample_updated_base = []\n",
    "mapped_sample_base = mapped_postags[785]\n",
    "\n",
    "for i, sent in enumerate(mapped_postags):\n",
    "    distance = dtw(mapped_sample_base, sent, costs_base)[-1, -1]\n",
    "    distances_with_sample_updated_base.append((i, distance))\n",
    "    \n",
    "end = time.time()\n",
    "print(end - start)"
   ]
  },
  {
   "cell_type": "code",
   "execution_count": 72,
   "id": "e5a2039e",
   "metadata": {},
   "outputs": [
    {
     "data": {
      "text/plain": [
       "[(785, 0.0), (33161, 0.0), (14249, 8.0), (6172, 10.0), (31890, 10.0)]"
      ]
     },
     "execution_count": 72,
     "metadata": {},
     "output_type": "execute_result"
    }
   ],
   "source": [
    "sorted(distances_with_sample_updated_base, key=lambda x: x[1])[:5]"
   ]
  },
  {
   "cell_type": "code",
   "execution_count": 73,
   "id": "839ad84d",
   "metadata": {},
   "outputs": [
    {
     "data": {
      "text/plain": [
       "'\"In the first two years and a couple months (as California treasurer), I have saved taxpayers and ratepayers over $5.2 billion.\"'"
      ]
     },
     "execution_count": 73,
     "metadata": {},
     "output_type": "execute_result"
    }
   ],
   "source": [
    "sentences[785]"
   ]
  },
  {
   "cell_type": "code",
   "execution_count": 74,
   "id": "8220c132",
   "metadata": {},
   "outputs": [
    {
     "name": "stdout",
     "output_type": "stream",
     "text": [
      "['PUNCT', 'ADP', 'DET', 'ADJ', 'NUM', 'NOUN', 'CCONJ', 'DET', 'NOUN', 'NOUN', 'PUNCT', 'ADP', 'PROPN', 'NOUN', 'PUNCT', 'PUNCT', 'PRON', 'AUX', 'VERB', 'NOUN', 'CCONJ', 'NOUN', 'ADP', 'SYM', 'NUM', 'NUM', 'PUNCT', 'PUNCT']\n"
     ]
    }
   ],
   "source": [
    "print(postags[785])"
   ]
  },
  {
   "cell_type": "code",
   "execution_count": 78,
   "id": "a970c79c",
   "metadata": {},
   "outputs": [
    {
     "data": {
      "text/plain": [
       "'“Within the first two years [of taking office], we increased internally generated revenue by close to N15 billion.”'"
      ]
     },
     "execution_count": 78,
     "metadata": {},
     "output_type": "execute_result"
    }
   ],
   "source": [
    "sentences[14249]"
   ]
  },
  {
   "cell_type": "code",
   "execution_count": 77,
   "id": "10a2a1fc",
   "metadata": {},
   "outputs": [
    {
     "name": "stdout",
     "output_type": "stream",
     "text": [
      "['PUNCT', 'ADP', 'DET', 'ADJ', 'NUM', 'NOUN', 'PUNCT', 'ADP', 'VERB', 'NOUN', 'PUNCT', 'PUNCT', 'PRON', 'VERB', 'ADV', 'VERB', 'NOUN', 'ADP', 'ADJ', 'ADP', 'PROPN', 'NUM', 'PUNCT', 'PUNCT']\n"
     ]
    }
   ],
   "source": [
    "print(postags[14249])"
   ]
  },
  {
   "cell_type": "code",
   "execution_count": 101,
   "id": "a7406f83",
   "metadata": {},
   "outputs": [
    {
     "data": {
      "text/plain": [
       "'\"For every extra year a girl goes to school, her income goes up 12 percent.\"'"
      ]
     },
     "execution_count": 101,
     "metadata": {},
     "output_type": "execute_result"
    }
   ],
   "source": [
    "sentences[31890]"
   ]
  },
  {
   "cell_type": "code",
   "execution_count": 102,
   "id": "18344831",
   "metadata": {},
   "outputs": [
    {
     "name": "stdout",
     "output_type": "stream",
     "text": [
      "['PUNCT', 'ADP', 'DET', 'ADJ', 'NOUN', 'DET', 'NOUN', 'VERB', 'ADP', 'NOUN', 'PUNCT', 'PRON', 'NOUN', 'VERB', 'ADV', 'NUM', 'NOUN', 'PUNCT', 'PUNCT']\n"
     ]
    }
   ],
   "source": [
    "print(postags[31890])"
   ]
  },
  {
   "cell_type": "markdown",
   "id": "5076c11c",
   "metadata": {},
   "source": [
    "Example 2"
   ]
  },
  {
   "cell_type": "code",
   "execution_count": 79,
   "id": "d3f2242f",
   "metadata": {},
   "outputs": [
    {
     "name": "stdout",
     "output_type": "stream",
     "text": [
      "127.90170860290527\n"
     ]
    }
   ],
   "source": [
    "start = time.time()\n",
    "\n",
    "distances_with_sample_2_base = []\n",
    "mapped_sample_2_base = mapped_postags[1220]\n",
    "\n",
    "for i, sent in enumerate(mapped_postags):\n",
    "    distance = dtw(mapped_sample_2_base, sent, costs_base)[-1, -1]\n",
    "    distances_with_sample_2_base.append((i, distance))\n",
    "    \n",
    "end = time.time()\n",
    "print(end - start)"
   ]
  },
  {
   "cell_type": "code",
   "execution_count": 80,
   "id": "97018c95",
   "metadata": {},
   "outputs": [
    {
     "data": {
      "text/plain": [
       "[(1220, 0.0), (30095, 4.0), (4704, 5.0), (27058, 5.0), (29073, 5.0)]"
      ]
     },
     "execution_count": 80,
     "metadata": {},
     "output_type": "execute_result"
    }
   ],
   "source": [
    "sorted(distances_with_sample_2_base, key=lambda x: x[1])[:5]"
   ]
  },
  {
   "cell_type": "code",
   "execution_count": 81,
   "id": "7706f933",
   "metadata": {},
   "outputs": [
    {
     "data": {
      "text/plain": [
       "'Jemima Goldsmith, the former wife of Pakistani Prime Minister Imran Khan, has given birth to a baby girl'"
      ]
     },
     "execution_count": 81,
     "metadata": {},
     "output_type": "execute_result"
    }
   ],
   "source": [
    "sentences[1220]"
   ]
  },
  {
   "cell_type": "code",
   "execution_count": 82,
   "id": "9daf2516",
   "metadata": {},
   "outputs": [
    {
     "name": "stdout",
     "output_type": "stream",
     "text": [
      "['PROPN', 'PROPN', 'PUNCT', 'DET', 'ADJ', 'NOUN', 'ADP', 'ADJ', 'PROPN', 'PROPN', 'PROPN', 'PROPN', 'PUNCT', 'AUX', 'VERB', 'NOUN', 'ADP', 'DET', 'NOUN', 'NOUN']\n"
     ]
    }
   ],
   "source": [
    "print(postags[1220])"
   ]
  },
  {
   "cell_type": "code",
   "execution_count": 85,
   "id": "5f9340d3",
   "metadata": {},
   "outputs": [
    {
     "data": {
      "text/plain": [
       "'Susan Rice, the director of the White House Domestic Policy Council, has been convicted of treason'"
      ]
     },
     "execution_count": 85,
     "metadata": {},
     "output_type": "execute_result"
    }
   ],
   "source": [
    "sentences[30095]"
   ]
  },
  {
   "cell_type": "code",
   "execution_count": 86,
   "id": "6dfd9dac",
   "metadata": {},
   "outputs": [
    {
     "name": "stdout",
     "output_type": "stream",
     "text": [
      "['PROPN', 'PROPN', 'PUNCT', 'DET', 'NOUN', 'ADP', 'DET', 'PROPN', 'PROPN', 'PROPN', 'PROPN', 'PROPN', 'PUNCT', 'AUX', 'AUX', 'VERB', 'ADP', 'NOUN']\n"
     ]
    }
   ],
   "source": [
    "print(postags[30095])"
   ]
  },
  {
   "cell_type": "code",
   "execution_count": 105,
   "id": "f9cfffce",
   "metadata": {},
   "outputs": [
    {
     "data": {
      "text/plain": [
       "'Gen. Mark Milley, the chairman of the Joint Chiefs of Staff, has been arrested for treason'"
      ]
     },
     "execution_count": 105,
     "metadata": {},
     "output_type": "execute_result"
    }
   ],
   "source": [
    "sentences[4704]"
   ]
  },
  {
   "cell_type": "code",
   "execution_count": 106,
   "id": "418ce770",
   "metadata": {},
   "outputs": [
    {
     "name": "stdout",
     "output_type": "stream",
     "text": [
      "['PROPN', 'PROPN', 'PROPN', 'PUNCT', 'DET', 'NOUN', 'ADP', 'DET', 'PROPN', 'PROPN', 'ADP', 'PROPN', 'PUNCT', 'AUX', 'AUX', 'VERB', 'ADP', 'NOUN']\n"
     ]
    }
   ],
   "source": [
    "print(postags[4704])"
   ]
  },
  {
   "cell_type": "code",
   "execution_count": 107,
   "id": "6d48322f",
   "metadata": {},
   "outputs": [
    {
     "data": {
      "text/plain": [
       "'Nigeria is the highest producer of HIV-infected babies'"
      ]
     },
     "execution_count": 107,
     "metadata": {},
     "output_type": "execute_result"
    }
   ],
   "source": [
    "sentences[27058]"
   ]
  },
  {
   "cell_type": "code",
   "execution_count": 108,
   "id": "20620f8d",
   "metadata": {},
   "outputs": [
    {
     "name": "stdout",
     "output_type": "stream",
     "text": [
      "['PROPN', 'AUX', 'DET', 'ADJ', 'NOUN', 'ADP', 'PROPN', 'PUNCT', 'VERB', 'NOUN']\n"
     ]
    }
   ],
   "source": [
    "print(postags[27058])"
   ]
  },
  {
   "cell_type": "markdown",
   "id": "dba62689",
   "metadata": {},
   "source": [
    "Example 3."
   ]
  },
  {
   "cell_type": "code",
   "execution_count": 87,
   "id": "2b80f57f",
   "metadata": {},
   "outputs": [
    {
     "name": "stdout",
     "output_type": "stream",
     "text": [
      "56.74076056480408\n"
     ]
    }
   ],
   "source": [
    "start = time.time()\n",
    "\n",
    "distances_with_sample_3_base = []\n",
    "mapped_sample_3_base = mapped_postags[23170]\n",
    "\n",
    "for i, sent in enumerate(mapped_postags):\n",
    "    distance = dtw(mapped_sample_3_base, sent, costs_base)[-1, -1]\n",
    "    distances_with_sample_3_base.append((i, distance))\n",
    "    \n",
    "end = time.time()\n",
    "print(end - start)"
   ]
  },
  {
   "cell_type": "code",
   "execution_count": 88,
   "id": "57ec5302",
   "metadata": {},
   "outputs": [
    {
     "data": {
      "text/plain": [
       "[(23170, 0.0), (2489, 2.0), (3096, 2.0), (13708, 2.0), (13947, 2.0)]"
      ]
     },
     "execution_count": 88,
     "metadata": {},
     "output_type": "execute_result"
    }
   ],
   "source": [
    "sorted(distances_with_sample_3_base, key=lambda x: x[1])[:5]"
   ]
  },
  {
   "cell_type": "code",
   "execution_count": 89,
   "id": "c6ddf663",
   "metadata": {},
   "outputs": [
    {
     "data": {
      "text/plain": [
       "'People experiencing coronavirus symptoms in Ontario should call 811'"
      ]
     },
     "execution_count": 89,
     "metadata": {},
     "output_type": "execute_result"
    }
   ],
   "source": [
    "sentences[23170]"
   ]
  },
  {
   "cell_type": "code",
   "execution_count": 90,
   "id": "dcaa7650",
   "metadata": {},
   "outputs": [
    {
     "name": "stdout",
     "output_type": "stream",
     "text": [
      "['NOUN', 'VERB', 'NOUN', 'NOUN', 'ADP', 'PROPN', 'AUX', 'VERB', 'NUM']\n"
     ]
    }
   ],
   "source": [
    "print(postags[23170])"
   ]
  },
  {
   "cell_type": "code",
   "execution_count": 93,
   "id": "5a42b600",
   "metadata": {},
   "outputs": [
    {
     "data": {
      "text/plain": [
       "'Video shows crackdown in Uganda following 2021 election'"
      ]
     },
     "execution_count": 93,
     "metadata": {},
     "output_type": "execute_result"
    }
   ],
   "source": [
    "sentences[2489]"
   ]
  },
  {
   "cell_type": "code",
   "execution_count": 94,
   "id": "ac9732cc",
   "metadata": {},
   "outputs": [
    {
     "name": "stdout",
     "output_type": "stream",
     "text": [
      "['NOUN', 'VERB', 'NOUN', 'ADP', 'PROPN', 'VERB', 'NUM', 'NOUN']\n"
     ]
    }
   ],
   "source": [
    "print(postags[2489])"
   ]
  },
  {
   "cell_type": "code",
   "execution_count": 113,
   "id": "ad9ea188",
   "metadata": {},
   "outputs": [
    {
     "data": {
      "text/plain": [
       "'Photo shows caged dogs in China in June 2020'"
      ]
     },
     "execution_count": 113,
     "metadata": {},
     "output_type": "execute_result"
    }
   ],
   "source": [
    "sentences[13708]"
   ]
  },
  {
   "cell_type": "code",
   "execution_count": 114,
   "id": "0438a247",
   "metadata": {},
   "outputs": [
    {
     "name": "stdout",
     "output_type": "stream",
     "text": [
      "['NOUN', 'NOUN', 'VERB', 'NOUN', 'ADP', 'PROPN', 'ADP', 'PROPN', 'NUM']\n"
     ]
    }
   ],
   "source": [
    "print(postags[13708])"
   ]
  },
  {
   "cell_type": "code",
   "execution_count": 115,
   "id": "65ba3d59",
   "metadata": {},
   "outputs": [
    {
     "data": {
      "text/plain": [
       "'Video shows fire in Shanghai in July 2020'"
      ]
     },
     "execution_count": 115,
     "metadata": {},
     "output_type": "execute_result"
    }
   ],
   "source": [
    "sentences[13947]"
   ]
  },
  {
   "cell_type": "code",
   "execution_count": 116,
   "id": "50d28e8d",
   "metadata": {},
   "outputs": [
    {
     "name": "stdout",
     "output_type": "stream",
     "text": [
      "['NOUN', 'VERB', 'NOUN', 'ADP', 'PROPN', 'ADP', 'PROPN', 'NUM']\n"
     ]
    }
   ],
   "source": [
    "print(postags[13947])"
   ]
  },
  {
   "cell_type": "code",
   "execution_count": 124,
   "id": "4959aae9",
   "metadata": {},
   "outputs": [
    {
     "name": "stdout",
     "output_type": "stream",
     "text": [
      "302\n"
     ]
    }
   ],
   "source": [
    "for i, val in enumerate(sorted(distances_with_sample_3_base, key=lambda x: x[1])):\n",
    "    if val[0] == 4459:\n",
    "        print(i)"
   ]
  },
  {
   "cell_type": "markdown",
   "id": "c8b86849",
   "metadata": {},
   "source": [
    "Example 4."
   ]
  },
  {
   "cell_type": "code",
   "execution_count": 95,
   "id": "49ecbdd7",
   "metadata": {},
   "outputs": [
    {
     "name": "stdout",
     "output_type": "stream",
     "text": [
      "101.95079731941223\n"
     ]
    }
   ],
   "source": [
    "start = time.time()\n",
    "\n",
    "distances_with_sample_4_base = []\n",
    "mapped_sample_4_base = mapped_postags[39429]\n",
    "\n",
    "for i, sent in enumerate(mapped_postags):\n",
    "    distance = dtw(mapped_sample_4_base, sent, costs_base)[-1, -1]\n",
    "    distances_with_sample_4_base.append((i, distance))\n",
    "    \n",
    "end = time.time()\n",
    "print(end - start)"
   ]
  },
  {
   "cell_type": "code",
   "execution_count": 96,
   "id": "cd9700ac",
   "metadata": {},
   "outputs": [
    {
     "data": {
      "text/plain": [
       "[(39429, 0.0), (42305, 4.0), (46292, 4.0), (1479, 5.0), (6954, 5.0)]"
      ]
     },
     "execution_count": 96,
     "metadata": {},
     "output_type": "execute_result"
    }
   ],
   "source": [
    "sorted(distances_with_sample_4_base, key=lambda x: x[1])[:5]"
   ]
  },
  {
   "cell_type": "code",
   "execution_count": 97,
   "id": "78e0a7bc",
   "metadata": {},
   "outputs": [
    {
     "data": {
      "text/plain": [
       "'Denzel Washington has left the Democrat Party and has turned his attention to help team Trump'"
      ]
     },
     "execution_count": 97,
     "metadata": {},
     "output_type": "execute_result"
    }
   ],
   "source": [
    "sentences[39429]"
   ]
  },
  {
   "cell_type": "code",
   "execution_count": 98,
   "id": "102cd946",
   "metadata": {},
   "outputs": [
    {
     "name": "stdout",
     "output_type": "stream",
     "text": [
      "['PROPN', 'PROPN', 'AUX', 'VERB', 'DET', 'PROPN', 'PROPN', 'CCONJ', 'AUX', 'VERB', 'PRON', 'NOUN', 'PART', 'VERB', 'NOUN', 'PROPN']\n"
     ]
    }
   ],
   "source": [
    "print(postags[39429])"
   ]
  },
  {
   "cell_type": "code",
   "execution_count": 99,
   "id": "4b1f03ea",
   "metadata": {},
   "outputs": [
    {
     "data": {
      "text/plain": [
       "'Mouthwash can kill Coronavirus and should be used to treat COVID'"
      ]
     },
     "execution_count": 99,
     "metadata": {},
     "output_type": "execute_result"
    }
   ],
   "source": [
    "sentences[42305]"
   ]
  },
  {
   "cell_type": "code",
   "execution_count": 100,
   "id": "5dd9cb7b",
   "metadata": {},
   "outputs": [
    {
     "name": "stdout",
     "output_type": "stream",
     "text": [
      "['PROPN', 'AUX', 'VERB', 'PROPN', 'CCONJ', 'AUX', 'AUX', 'VERB', 'PART', 'VERB', 'NOUN']\n"
     ]
    }
   ],
   "source": [
    "print(postags[42305])"
   ]
  },
  {
   "cell_type": "code",
   "execution_count": 125,
   "id": "4c5d7261",
   "metadata": {},
   "outputs": [
    {
     "name": "stdout",
     "output_type": "stream",
     "text": [
      "6\n"
     ]
    }
   ],
   "source": [
    "for i, val in enumerate(sorted(distances_with_sample_4_base, key=lambda x: x[1])):\n",
    "    if val[0] == 31531:\n",
    "        print(i)"
   ]
  },
  {
   "cell_type": "markdown",
   "id": "4c2184d2",
   "metadata": {},
   "source": [
    "### Dtw with more specific costs determined based on similarity"
   ]
  },
  {
   "cell_type": "markdown",
   "id": "7e63b42e",
   "metadata": {},
   "source": [
    "#### Setting the costs"
   ]
  },
  {
   "cell_type": "markdown",
   "id": "fd9b8acf",
   "metadata": {},
   "source": [
    "NOUN - PROPN - PRON (0.25) <br>\n",
    "AUX - VERB (0.4) <br>\n",
    "DET - ADP (0.5) <br>\n",
    "PART - ADP, PART - ADV (0.5) <br>\n",
    "SCONJ - CCONJ (0.25) <br>\n",
    "SCONJ - CCONJ - PART - ADP - ADV (0.8)"
   ]
  },
  {
   "cell_type": "code",
   "execution_count": 22,
   "id": "4a174105",
   "metadata": {},
   "outputs": [],
   "source": [
    "costs[postag_mapping[\"NOUN\"]][postag_mapping[\"PROPN\"]] = 0.25\n",
    "costs[postag_mapping[\"PROPN\"]][postag_mapping[\"NOUN\"]] = 0.25\n",
    "\n",
    "costs[postag_mapping[\"PRON\"]][postag_mapping[\"PROPN\"]] = 0.25\n",
    "costs[postag_mapping[\"PROPN\"]][postag_mapping[\"PRON\"]] = 0.25\n",
    "\n",
    "costs[postag_mapping[\"NOUN\"]][postag_mapping[\"PRON\"]] = 0.25\n",
    "costs[postag_mapping[\"PRON\"]][postag_mapping[\"NOUN\"]] = 0.25"
   ]
  },
  {
   "cell_type": "code",
   "execution_count": 23,
   "id": "ddc5f9ea",
   "metadata": {},
   "outputs": [],
   "source": [
    "costs[postag_mapping[\"AUX\"]][postag_mapping[\"VERB\"]] = 0.4\n",
    "costs[postag_mapping[\"VERB\"]][postag_mapping[\"AUX\"]] = 0.4"
   ]
  },
  {
   "cell_type": "code",
   "execution_count": 24,
   "id": "2a71b674",
   "metadata": {},
   "outputs": [],
   "source": [
    "costs[postag_mapping[\"DET\"]][postag_mapping[\"ADP\"]] = 0.5\n",
    "costs[postag_mapping[\"ADP\"]][postag_mapping[\"DET\"]] = 0.5"
   ]
  },
  {
   "cell_type": "code",
   "execution_count": 25,
   "id": "b668eec0",
   "metadata": {},
   "outputs": [],
   "source": [
    "costs[postag_mapping[\"PART\"]][postag_mapping[\"ADP\"]] = 0.5\n",
    "costs[postag_mapping[\"ADP\"]][postag_mapping[\"PART\"]] = 0.5\n",
    "\n",
    "costs[postag_mapping[\"PART\"]][postag_mapping[\"ADV\"]] = 0.5\n",
    "costs[postag_mapping[\"ADV\"]][postag_mapping[\"PART\"]] = 0.5"
   ]
  },
  {
   "cell_type": "code",
   "execution_count": 26,
   "id": "bc3a7054",
   "metadata": {},
   "outputs": [],
   "source": [
    "costs[postag_mapping[\"SCONJ\"]][postag_mapping[\"CCONJ\"]] = 0.25\n",
    "costs[postag_mapping[\"CCONJ\"]][postag_mapping[\"SCONJ\"]] = 0.25"
   ]
  },
  {
   "cell_type": "code",
   "execution_count": 27,
   "id": "f132e63c",
   "metadata": {},
   "outputs": [],
   "source": [
    "costs[postag_mapping[\"SCONJ\"]][postag_mapping[\"PART\"]] = 0.8\n",
    "costs[postag_mapping[\"PART\"]][postag_mapping[\"SCONJ\"]] = 0.8\n",
    "\n",
    "costs[postag_mapping[\"SCONJ\"]][postag_mapping[\"ADP\"]] = 0.8\n",
    "costs[postag_mapping[\"ADP\"]][postag_mapping[\"SCONJ\"]] = 0.8\n",
    "\n",
    "costs[postag_mapping[\"SCONJ\"]][postag_mapping[\"ADV\"]] = 0.8\n",
    "costs[postag_mapping[\"ADV\"]][postag_mapping[\"SCONJ\"]] = 0.8"
   ]
  },
  {
   "cell_type": "code",
   "execution_count": 28,
   "id": "d6e63357",
   "metadata": {},
   "outputs": [],
   "source": [
    "costs[postag_mapping[\"CCONJ\"]][postag_mapping[\"PART\"]] = 0.8\n",
    "costs[postag_mapping[\"PART\"]][postag_mapping[\"CCONJ\"]] = 0.8\n",
    "\n",
    "costs[postag_mapping[\"CCONJ\"]][postag_mapping[\"ADP\"]] = 0.8\n",
    "costs[postag_mapping[\"ADP\"]][postag_mapping[\"CCONJ\"]] = 0.8\n",
    "\n",
    "costs[postag_mapping[\"CCONJ\"]][postag_mapping[\"ADV\"]] = 0.8\n",
    "costs[postag_mapping[\"ADV\"]][postag_mapping[\"CCONJ\"]] = 0.8"
   ]
  },
  {
   "cell_type": "code",
   "execution_count": 29,
   "id": "03b6d532",
   "metadata": {},
   "outputs": [],
   "source": [
    "costs[postag_mapping[\"ADP\"]][postag_mapping[\"ADV\"]] = 0.8\n",
    "costs[postag_mapping[\"ADV\"]][postag_mapping[\"ADP\"]] = 0.8"
   ]
  },
  {
   "cell_type": "markdown",
   "id": "1b45bd58",
   "metadata": {},
   "source": [
    "#### Finding similar sentences"
   ]
  },
  {
   "cell_type": "markdown",
   "id": "6a914ea7",
   "metadata": {},
   "source": [
    "Example 1."
   ]
  },
  {
   "cell_type": "code",
   "execution_count": 30,
   "id": "fab31176",
   "metadata": {},
   "outputs": [],
   "source": [
    "import time"
   ]
  },
  {
   "cell_type": "code",
   "execution_count": 31,
   "id": "a91276d6",
   "metadata": {},
   "outputs": [
    {
     "name": "stdout",
     "output_type": "stream",
     "text": [
      "184.64067101478577\n"
     ]
    }
   ],
   "source": [
    "start = time.time()\n",
    "\n",
    "distances_with_sample_updated = []\n",
    "mapped_sample = mapped_postags[785]\n",
    "\n",
    "for i, sent in enumerate(mapped_postags):\n",
    "    distance = dtw(mapped_sample, sent, costs)[-1, -1]\n",
    "    distances_with_sample_updated.append((i, distance))\n",
    "    \n",
    "end = time.time()\n",
    "print(end - start)"
   ]
  },
  {
   "cell_type": "code",
   "execution_count": 32,
   "id": "33095674",
   "metadata": {},
   "outputs": [
    {
     "data": {
      "text/plain": [
       "[(785, 0.0), (33161, 0.0), (14249, 7.2), (45615, 9.1), (6172, 9.25)]"
      ]
     },
     "execution_count": 32,
     "metadata": {},
     "output_type": "execute_result"
    }
   ],
   "source": [
    "sorted(distances_with_sample_updated, key=lambda x: x[1])[:5]"
   ]
  },
  {
   "cell_type": "code",
   "execution_count": 33,
   "id": "da2b3c30",
   "metadata": {},
   "outputs": [
    {
     "name": "stdout",
     "output_type": "stream",
     "text": [
      "['PUNCT', 'ADP', 'DET', 'ADJ', 'NUM', 'NOUN', 'CCONJ', 'DET', 'NOUN', 'NOUN', 'PUNCT', 'ADP', 'PROPN', 'NOUN', 'PUNCT', 'PUNCT', 'PRON', 'AUX', 'VERB', 'NOUN', 'CCONJ', 'NOUN', 'ADP', 'SYM', 'NUM', 'NUM', 'PUNCT', 'PUNCT']\n"
     ]
    }
   ],
   "source": [
    "print(postags[785])"
   ]
  },
  {
   "cell_type": "code",
   "execution_count": 34,
   "id": "6410e666",
   "metadata": {},
   "outputs": [
    {
     "data": {
      "text/plain": [
       "'\"In the first two years and a couple months (as California treasurer), I have saved taxpayers and ratepayers over $5.2 billion.\"'"
      ]
     },
     "execution_count": 34,
     "metadata": {},
     "output_type": "execute_result"
    }
   ],
   "source": [
    "sentences[785]"
   ]
  },
  {
   "cell_type": "code",
   "execution_count": 35,
   "id": "bd8c9335",
   "metadata": {},
   "outputs": [
    {
     "name": "stdout",
     "output_type": "stream",
     "text": [
      "['PUNCT', 'ADP', 'DET', 'ADJ', 'NUM', 'NOUN', 'PUNCT', 'ADP', 'VERB', 'NOUN', 'PUNCT', 'PUNCT', 'PRON', 'VERB', 'ADV', 'VERB', 'NOUN', 'ADP', 'ADJ', 'ADP', 'PROPN', 'NUM', 'PUNCT', 'PUNCT']\n"
     ]
    }
   ],
   "source": [
    "print(postags[14249])"
   ]
  },
  {
   "cell_type": "code",
   "execution_count": 36,
   "id": "1f442993",
   "metadata": {},
   "outputs": [
    {
     "data": {
      "text/plain": [
       "'“Within the first two years [of taking office], we increased internally generated revenue by close to N15 billion.”'"
      ]
     },
     "execution_count": 36,
     "metadata": {},
     "output_type": "execute_result"
    }
   ],
   "source": [
    "sentences[14249]"
   ]
  },
  {
   "cell_type": "code",
   "execution_count": 103,
   "id": "32d676ba",
   "metadata": {},
   "outputs": [
    {
     "name": "stdout",
     "output_type": "stream",
     "text": [
      "['ADP', 'DET', 'ADJ', 'NOUN', 'PUNCT', 'NOUN', 'ADP', 'DET', 'NOUN', 'ADP', 'PROPN', 'PUNCT', 'PROPN', 'AUX', 'VERB', 'ADP', 'ADP', 'NUM', 'PUNCT']\n"
     ]
    }
   ],
   "source": [
    "print(postags[45615])"
   ]
  },
  {
   "cell_type": "code",
   "execution_count": 104,
   "id": "53345472",
   "metadata": {},
   "outputs": [
    {
     "data": {
      "text/plain": [
       "'In the past year, employment in the constituency of Aldridge-Brownhills has gone up by 88,000.'"
      ]
     },
     "execution_count": 104,
     "metadata": {},
     "output_type": "execute_result"
    }
   ],
   "source": [
    "sentences[45615]"
   ]
  },
  {
   "cell_type": "markdown",
   "id": "a1e1a692",
   "metadata": {},
   "source": [
    "Example 2."
   ]
  },
  {
   "cell_type": "code",
   "execution_count": 38,
   "id": "a55b6722",
   "metadata": {},
   "outputs": [
    {
     "name": "stdout",
     "output_type": "stream",
     "text": [
      "129.71403694152832\n"
     ]
    }
   ],
   "source": [
    "start = time.time()\n",
    "\n",
    "distances_with_sample_2 = []\n",
    "mapped_sample_2 = mapped_postags[1220]\n",
    "\n",
    "for i, sent in enumerate(mapped_postags):\n",
    "    distance = dtw(mapped_sample_2, sent, costs)[-1, -1]\n",
    "    distances_with_sample_2.append((i, distance))\n",
    "    \n",
    "end = time.time()\n",
    "print(end - start)"
   ]
  },
  {
   "cell_type": "code",
   "execution_count": 39,
   "id": "0dbcecb6",
   "metadata": {},
   "outputs": [
    {
     "data": {
      "text/plain": [
       "[(1220, 0.0), (30095, 3.5), (2063, 4.0), (20031, 4.15), (29073, 4.15)]"
      ]
     },
     "execution_count": 39,
     "metadata": {},
     "output_type": "execute_result"
    }
   ],
   "source": [
    "sorted(distances_with_sample_2, key=lambda x: x[1])[:5]"
   ]
  },
  {
   "cell_type": "code",
   "execution_count": 40,
   "id": "9e2fdcc2",
   "metadata": {},
   "outputs": [
    {
     "data": {
      "text/plain": [
       "'Jemima Goldsmith, the former wife of Pakistani Prime Minister Imran Khan, has given birth to a baby girl'"
      ]
     },
     "execution_count": 40,
     "metadata": {},
     "output_type": "execute_result"
    }
   ],
   "source": [
    "sentences[1220]"
   ]
  },
  {
   "cell_type": "code",
   "execution_count": 41,
   "id": "46f7c7b9",
   "metadata": {},
   "outputs": [
    {
     "name": "stdout",
     "output_type": "stream",
     "text": [
      "['PROPN', 'PROPN', 'PUNCT', 'DET', 'ADJ', 'NOUN', 'ADP', 'ADJ', 'PROPN', 'PROPN', 'PROPN', 'PROPN', 'PUNCT', 'AUX', 'VERB', 'NOUN', 'ADP', 'DET', 'NOUN', 'NOUN']\n"
     ]
    }
   ],
   "source": [
    "print(postags[1220])"
   ]
  },
  {
   "cell_type": "code",
   "execution_count": 42,
   "id": "72e312f3",
   "metadata": {},
   "outputs": [
    {
     "data": {
      "text/plain": [
       "'Susan Rice, the director of the White House Domestic Policy Council, has been convicted of treason'"
      ]
     },
     "execution_count": 42,
     "metadata": {},
     "output_type": "execute_result"
    }
   ],
   "source": [
    "sentences[30095]"
   ]
  },
  {
   "cell_type": "code",
   "execution_count": 43,
   "id": "142f6e29",
   "metadata": {},
   "outputs": [
    {
     "name": "stdout",
     "output_type": "stream",
     "text": [
      "['PROPN', 'PROPN', 'PUNCT', 'DET', 'NOUN', 'ADP', 'DET', 'PROPN', 'PROPN', 'PROPN', 'PROPN', 'PROPN', 'PUNCT', 'AUX', 'AUX', 'VERB', 'ADP', 'NOUN']\n"
     ]
    }
   ],
   "source": [
    "print(postags[30095])"
   ]
  },
  {
   "cell_type": "code",
   "execution_count": 109,
   "id": "0084b103",
   "metadata": {},
   "outputs": [
    {
     "data": {
      "text/plain": [
       "'Sobha Singh, the same person who testified against Bhagat Singh, was awarded Padma Shri by the Congress govt.'"
      ]
     },
     "execution_count": 109,
     "metadata": {},
     "output_type": "execute_result"
    }
   ],
   "source": [
    "sentences[2063]"
   ]
  },
  {
   "cell_type": "code",
   "execution_count": 110,
   "id": "828c5f78",
   "metadata": {},
   "outputs": [
    {
     "name": "stdout",
     "output_type": "stream",
     "text": [
      "['PROPN', 'PROPN', 'PUNCT', 'DET', 'ADJ', 'NOUN', 'PRON', 'VERB', 'ADP', 'PROPN', 'PROPN', 'PUNCT', 'AUX', 'VERB', 'PROPN', 'PROPN', 'ADP', 'DET', 'PROPN', 'NOUN', 'PUNCT']\n"
     ]
    }
   ],
   "source": [
    "print(postags[2063])"
   ]
  },
  {
   "cell_type": "code",
   "execution_count": 111,
   "id": "09415130",
   "metadata": {},
   "outputs": [
    {
     "data": {
      "text/plain": [
       "'Margaret Keenan, the first U.K. recipient of the Pfizer/BioNTech COVID-19 vaccine, is a crisis actor'"
      ]
     },
     "execution_count": 111,
     "metadata": {},
     "output_type": "execute_result"
    }
   ],
   "source": [
    "sentences[20031]"
   ]
  },
  {
   "cell_type": "code",
   "execution_count": 112,
   "id": "9d9f949c",
   "metadata": {},
   "outputs": [
    {
     "name": "stdout",
     "output_type": "stream",
     "text": [
      "['PROPN', 'PROPN', 'PUNCT', 'DET', 'ADJ', 'PROPN', 'NOUN', 'ADP', 'DET', 'PROPN', 'SYM', 'PROPN', 'PROPN', 'PROPN', 'PUNCT', 'AUX', 'DET', 'NOUN', 'NOUN']\n"
     ]
    }
   ],
   "source": [
    "print(postags[20031])"
   ]
  },
  {
   "cell_type": "markdown",
   "id": "dc4e59eb",
   "metadata": {},
   "source": [
    "Example 3."
   ]
  },
  {
   "cell_type": "code",
   "execution_count": 44,
   "id": "7e099973",
   "metadata": {},
   "outputs": [],
   "source": [
    "import random"
   ]
  },
  {
   "cell_type": "code",
   "execution_count": 45,
   "id": "3ff57556",
   "metadata": {},
   "outputs": [
    {
     "data": {
      "text/plain": [
       "39682"
      ]
     },
     "execution_count": 45,
     "metadata": {},
     "output_type": "execute_result"
    }
   ],
   "source": [
    "random.choice(range(len(sentences)))"
   ]
  },
  {
   "cell_type": "code",
   "execution_count": 46,
   "id": "b2e22464",
   "metadata": {},
   "outputs": [
    {
     "name": "stdout",
     "output_type": "stream",
     "text": [
      "59.88342547416687\n"
     ]
    }
   ],
   "source": [
    "start = time.time()\n",
    "\n",
    "distances_with_sample_3 = []\n",
    "mapped_sample_3 = mapped_postags[23170]\n",
    "\n",
    "for i, sent in enumerate(mapped_postags):\n",
    "    distance = dtw(mapped_sample_3, sent, costs)[-1, -1]\n",
    "    distances_with_sample_3.append((i, distance))\n",
    "    \n",
    "end = time.time()\n",
    "print(end - start)"
   ]
  },
  {
   "cell_type": "code",
   "execution_count": 47,
   "id": "a0c15bb3",
   "metadata": {},
   "outputs": [
    {
     "data": {
      "text/plain": [
       "[(23170, 0.0), (2489, 1.4), (3096, 1.4), (12706, 1.65), (4459, 1.75)]"
      ]
     },
     "execution_count": 47,
     "metadata": {},
     "output_type": "execute_result"
    }
   ],
   "source": [
    "sorted(distances_with_sample_3, key=lambda x: x[1])[:5]"
   ]
  },
  {
   "cell_type": "code",
   "execution_count": 48,
   "id": "aae894d0",
   "metadata": {},
   "outputs": [
    {
     "data": {
      "text/plain": [
       "'People experiencing coronavirus symptoms in Ontario should call 811'"
      ]
     },
     "execution_count": 48,
     "metadata": {},
     "output_type": "execute_result"
    }
   ],
   "source": [
    "sentences[23170]"
   ]
  },
  {
   "cell_type": "code",
   "execution_count": 49,
   "id": "669888b2",
   "metadata": {},
   "outputs": [
    {
     "name": "stdout",
     "output_type": "stream",
     "text": [
      "['NOUN', 'VERB', 'NOUN', 'NOUN', 'ADP', 'PROPN', 'AUX', 'VERB', 'NUM']\n"
     ]
    }
   ],
   "source": [
    "print(postags[23170])"
   ]
  },
  {
   "cell_type": "code",
   "execution_count": 50,
   "id": "6d5c6b36",
   "metadata": {},
   "outputs": [
    {
     "data": {
      "text/plain": [
       "'Video shows crackdown in Uganda following 2021 election'"
      ]
     },
     "execution_count": 50,
     "metadata": {},
     "output_type": "execute_result"
    }
   ],
   "source": [
    "sentences[2489]"
   ]
  },
  {
   "cell_type": "code",
   "execution_count": 51,
   "id": "07b15a4b",
   "metadata": {},
   "outputs": [
    {
     "name": "stdout",
     "output_type": "stream",
     "text": [
      "['NOUN', 'VERB', 'NOUN', 'ADP', 'PROPN', 'VERB', 'NUM', 'NOUN']\n"
     ]
    }
   ],
   "source": [
    "print(postags[2489])"
   ]
  },
  {
   "cell_type": "code",
   "execution_count": 117,
   "id": "a00072d2",
   "metadata": {},
   "outputs": [
    {
     "data": {
      "text/plain": [
       "'Video shows Hamas attack in Israel killed hundreds'"
      ]
     },
     "execution_count": 117,
     "metadata": {},
     "output_type": "execute_result"
    }
   ],
   "source": [
    "sentences[12706]"
   ]
  },
  {
   "cell_type": "code",
   "execution_count": 118,
   "id": "53eea06c",
   "metadata": {},
   "outputs": [
    {
     "name": "stdout",
     "output_type": "stream",
     "text": [
      "['NOUN', 'VERB', 'PROPN', 'NOUN', 'ADP', 'PROPN', 'VERB', 'NOUN']\n"
     ]
    }
   ],
   "source": [
    "print(postags[12706])"
   ]
  },
  {
   "cell_type": "code",
   "execution_count": 119,
   "id": "baaa3faf",
   "metadata": {},
   "outputs": [
    {
     "data": {
      "text/plain": [
       "'Ghana Education Service confirms date schools in Ghana will reopen'"
      ]
     },
     "execution_count": 119,
     "metadata": {},
     "output_type": "execute_result"
    }
   ],
   "source": [
    "sentences[4459]"
   ]
  },
  {
   "cell_type": "code",
   "execution_count": 120,
   "id": "58ce92e6",
   "metadata": {},
   "outputs": [
    {
     "name": "stdout",
     "output_type": "stream",
     "text": [
      "['PROPN', 'PROPN', 'PROPN', 'VERB', 'NOUN', 'NOUN', 'ADP', 'PROPN', 'AUX', 'VERB']\n"
     ]
    }
   ],
   "source": [
    "print(postags[4459])"
   ]
  },
  {
   "cell_type": "markdown",
   "id": "d3246043",
   "metadata": {},
   "source": [
    "Example 4."
   ]
  },
  {
   "cell_type": "code",
   "execution_count": 93,
   "id": "a799ae45",
   "metadata": {},
   "outputs": [
    {
     "data": {
      "text/plain": [
       "39429"
      ]
     },
     "execution_count": 93,
     "metadata": {},
     "output_type": "execute_result"
    }
   ],
   "source": [
    "random.choice(range(len(sentences)))"
   ]
  },
  {
   "cell_type": "code",
   "execution_count": 52,
   "id": "2a906c98",
   "metadata": {},
   "outputs": [
    {
     "name": "stdout",
     "output_type": "stream",
     "text": [
      "105.72882032394409\n"
     ]
    }
   ],
   "source": [
    "start = time.time()\n",
    "\n",
    "distances_with_sample_4 = []\n",
    "mapped_sample_4 = mapped_postags[39429]\n",
    "\n",
    "for i, sent in enumerate(mapped_postags):\n",
    "    distance = dtw(mapped_sample_4, sent, costs)[-1, -1]\n",
    "    distances_with_sample_4.append((i, distance))\n",
    "    \n",
    "end = time.time()\n",
    "print(end - start)"
   ]
  },
  {
   "cell_type": "code",
   "execution_count": 53,
   "id": "7ab656b6",
   "metadata": {},
   "outputs": [
    {
     "data": {
      "text/plain": [
       "[(39429, 0.0), (31531, 2.1), (2786, 2.4), (15614, 3.05), (34778, 3.05)]"
      ]
     },
     "execution_count": 53,
     "metadata": {},
     "output_type": "execute_result"
    }
   ],
   "source": [
    "sorted(distances_with_sample_4, key=lambda x: x[1])[:5]"
   ]
  },
  {
   "cell_type": "code",
   "execution_count": 54,
   "id": "94adb8b1",
   "metadata": {},
   "outputs": [
    {
     "data": {
      "text/plain": [
       "'Denzel Washington has left the Democrat Party and has turned his attention to help team Trump'"
      ]
     },
     "execution_count": 54,
     "metadata": {},
     "output_type": "execute_result"
    }
   ],
   "source": [
    "sentences[39429]"
   ]
  },
  {
   "cell_type": "code",
   "execution_count": 55,
   "id": "7ee9f6ab",
   "metadata": {},
   "outputs": [
    {
     "name": "stdout",
     "output_type": "stream",
     "text": [
      "['PROPN', 'PROPN', 'AUX', 'VERB', 'DET', 'PROPN', 'PROPN', 'CCONJ', 'AUX', 'VERB', 'PRON', 'NOUN', 'PART', 'VERB', 'NOUN', 'PROPN']\n"
     ]
    }
   ],
   "source": [
    "print(postags[39429])"
   ]
  },
  {
   "cell_type": "code",
   "execution_count": 56,
   "id": "f92c1da5",
   "metadata": {},
   "outputs": [
    {
     "data": {
      "text/plain": [
       "'Greta Thunberg asked the China to stop using chopsticks to save trees'"
      ]
     },
     "execution_count": 56,
     "metadata": {},
     "output_type": "execute_result"
    }
   ],
   "source": [
    "sentences[31531]"
   ]
  },
  {
   "cell_type": "code",
   "execution_count": 57,
   "id": "d193b020",
   "metadata": {},
   "outputs": [
    {
     "name": "stdout",
     "output_type": "stream",
     "text": [
      "['PROPN', 'PROPN', 'VERB', 'DET', 'PROPN', 'PART', 'VERB', 'VERB', 'NOUN', 'PART', 'VERB', 'NOUN']\n"
     ]
    }
   ],
   "source": [
    "print(postags[31531])"
   ]
  },
  {
   "cell_type": "markdown",
   "id": "ef001cff",
   "metadata": {},
   "source": [
    "#### Finding similar sentences for 100 random samples"
   ]
  },
  {
   "cell_type": "code",
   "execution_count": 60,
   "id": "b24911af",
   "metadata": {},
   "outputs": [],
   "source": [
    "random_idx = random.sample(range(len(mapped_postags)), 100)"
   ]
  },
  {
   "cell_type": "code",
   "execution_count": 61,
   "id": "1e05b988",
   "metadata": {},
   "outputs": [],
   "source": [
    "with open('random_indices_dtw.txt', 'w') as file:\n",
    "    file.write('\\n'.join(str(idx) for idx in random_idx))"
   ]
  },
  {
   "cell_type": "code",
   "execution_count": 62,
   "id": "78d7f741",
   "metadata": {},
   "outputs": [
    {
     "name": "stdout",
     "output_type": "stream",
     "text": [
      "11512.729236364365\n"
     ]
    }
   ],
   "source": [
    "start = time.time()\n",
    "\n",
    "similarities = {}\n",
    "\n",
    "for idx in random_idx:\n",
    "    mapped_sent = mapped_postags[idx]\n",
    "    dists = []\n",
    "\n",
    "    for i, sent in enumerate(mapped_postags):\n",
    "        distance = dtw(mapped_sent, sent, costs)[-1, -1]\n",
    "        dists.append((i, distance))\n",
    "    \n",
    "    similarities[idx] = dists\n",
    "\n",
    "end = time.time()\n",
    "print(end - start)"
   ]
  },
  {
   "cell_type": "code",
   "execution_count": 63,
   "id": "c8cd667f",
   "metadata": {},
   "outputs": [],
   "source": [
    "import pickle"
   ]
  },
  {
   "cell_type": "code",
   "execution_count": 64,
   "id": "0b98f578",
   "metadata": {},
   "outputs": [],
   "source": [
    "with open('random_100_dtw_results.pickle', 'wb') as f:\n",
    "    pickle.dump(similarities, f)\n",
    "        \n",
    "#with open('saved_dictionary.pkl', 'rb') as f:\n",
    "#    loaded_dict = pickle.load(f)"
   ]
  },
  {
   "cell_type": "code",
   "execution_count": 69,
   "id": "19524a2f",
   "metadata": {},
   "outputs": [
    {
     "name": "stdout",
     "output_type": "stream",
     "text": [
      "ORIGINAL SENTENCE:\n",
      "\t Aspiring astronaut Alyssa Carson is selected for a one way mission to Mars\n",
      "\t ['VERB', 'NOUN', 'PROPN', 'PROPN', 'AUX', 'VERB', 'ADP', 'DET', 'NUM', 'NOUN', 'NOUN', 'ADP', 'PROPN']\n",
      "SIMILAR SENTENCE NR 1\n",
      "\t Rahul Gandhi Is Married With Two Children In London\n",
      "\t ['PROPN', 'PROPN', 'AUX', 'VERB', 'ADP', 'NUM', 'NOUN', 'ADP', 'PROPN']\n",
      "SIMILAR SENTENCE NR 2\n",
      "\t Barack Obama is running for president in Kenya\n",
      "\t ['VERB', 'PROPN', 'AUX', 'VERB', 'ADP', 'NOUN', 'ADP', 'PROPN']\n",
      "SIMILAR SENTENCE NR 3\n",
      "\t Congress is contesting for 230 seats in Lok Sabha elections\n",
      "\t ['PROPN', 'AUX', 'VERB', 'ADP', 'NUM', 'NOUN', 'ADP', 'PROPN', 'PROPN', 'NOUN']\n",
      "--------------------------\n",
      "ORIGINAL SENTENCE:\n",
      "\t Trump says he has \"recognized Russian Meddling MANY TIMES.\"\n",
      "\t ['PROPN', 'VERB', 'PRON', 'AUX', 'PUNCT', 'VERB', 'PROPN', 'PROPN', 'PROPN', 'PROPN', 'PUNCT', 'PUNCT']\n",
      "SIMILAR SENTENCE NR 1\n",
      "\t Gov. DeSantis Tells Biden: \"Go Fuck Yourself\"\n",
      "\t ['PROPN', 'PROPN', 'VERB', 'PROPN', 'PUNCT', 'PUNCT', 'VERB', 'PROPN', 'PRON', 'PUNCT']\n",
      "SIMILAR SENTENCE NR 2\n",
      "\t Veneno tóxico nas zaragatoas do teste da Covid-19?\n",
      "\t ['PROPN', 'PROPN', 'VERB', 'NOUN', 'AUX', 'PROPN', 'PROPN', 'PROPN', 'PUNCT']\n",
      "SIMILAR SENTENCE NR 3\n",
      "\t ABP News screengrab reads Rhea Chakraborty ‘eating palak paneer’\n",
      "\t ['PROPN', 'PROPN', 'NOUN', 'VERB', 'PROPN', 'PROPN', 'PUNCT', 'VERB', 'PROPN', 'NOUN', 'PUNCT']\n",
      "--------------------------\n",
      "ORIGINAL SENTENCE:\n",
      "\t Says Sen. Joe Manchin \"stands with Hillary Clinton and D.C. Dems on gun control, higher taxes, amnesty, and Planned Parenthood.\"\n",
      "\t ['VERB', 'PROPN', 'PROPN', 'PROPN', 'PUNCT', 'VERB', 'ADP', 'PROPN', 'PROPN', 'CCONJ', 'PROPN', 'NOUN', 'ADP', 'NOUN', 'NOUN', 'PUNCT', 'ADJ', 'NOUN', 'PUNCT', 'NOUN', 'PUNCT', 'CCONJ', 'PROPN', 'PROPN', 'PUNCT', 'PUNCT']\n",
      "SIMILAR SENTENCE NR 1\n",
      "\t Says President Donald Trump \"signs a visa-free travel policy\" for Ghana and Malawi.\n",
      "\t ['VERB', 'PROPN', 'PROPN', 'PROPN', 'PUNCT', 'VERB', 'DET', 'NOUN', 'PUNCT', 'ADJ', 'NOUN', 'NOUN', 'PUNCT', 'ADP', 'PROPN', 'CCONJ', 'PROPN', 'PUNCT']\n",
      "SIMILAR SENTENCE NR 2\n",
      "\t Says President Donald Trump \"signs a visa-free travel policy\" for Ghana and Malawi.\n",
      "\t ['VERB', 'PROPN', 'PROPN', 'PROPN', 'PUNCT', 'VERB', 'DET', 'NOUN', 'PUNCT', 'ADJ', 'NOUN', 'NOUN', 'PUNCT', 'ADP', 'PROPN', 'CCONJ', 'PROPN', 'PUNCT']\n",
      "SIMILAR SENTENCE NR 3\n",
      "\t Video shows David Bowie predicting the rise of internet, social media, emojis and misinformation.\n",
      "\t ['NOUN', 'VERB', 'PROPN', 'PROPN', 'VERB', 'DET', 'NOUN', 'ADP', 'NOUN', 'PUNCT', 'ADJ', 'NOUN', 'PUNCT', 'NOUN', 'CCONJ', 'NOUN', 'PUNCT']\n",
      "--------------------------\n",
      "ORIGINAL SENTENCE:\n",
      "\t \"Mass voter fraud just discovered, to the amount that could void Hillary’s victory In New Hampshire.\"\n",
      "\t ['PUNCT', 'ADJ', 'NOUN', 'NOUN', 'ADV', 'VERB', 'PUNCT', 'ADP', 'DET', 'NOUN', 'PRON', 'AUX', 'VERB', 'PROPN', 'PART', 'NOUN', 'ADP', 'PROPN', 'PROPN', 'PUNCT', 'PUNCT']\n",
      "SIMILAR SENTENCE NR 1\n",
      "\t \"Mass voter fraud just discovered, to the amount that could void Hillary’s victory In New Hampshire.\"\n",
      "\t ['PUNCT', 'ADJ', 'NOUN', 'NOUN', 'ADV', 'VERB', 'PUNCT', 'ADP', 'DET', 'NOUN', 'PRON', 'AUX', 'VERB', 'PROPN', 'PART', 'NOUN', 'ADP', 'PROPN', 'PROPN', 'PUNCT', 'PUNCT']\n",
      "SIMILAR SENTENCE NR 2\n",
      "\t \"More people now die in Wisconsin from drug overdoses than car crashes.\"\n",
      "\t ['PUNCT', 'ADJ', 'NOUN', 'ADV', 'VERB', 'ADP', 'PROPN', 'ADP', 'NOUN', 'NOUN', 'ADP', 'NOUN', 'NOUN', 'PUNCT', 'PUNCT']\n",
      "SIMILAR SENTENCE NR 3\n",
      "\t Says congressional candidate Dino Rossi once suggested \"the state build homes for unwed mothers.\"\n",
      "\t ['VERB', 'ADJ', 'NOUN', 'PROPN', 'PROPN', 'ADV', 'VERB', 'PUNCT', 'DET', 'NOUN', 'VERB', 'NOUN', 'ADP', 'ADJ', 'NOUN', 'PUNCT', 'PUNCT']\n",
      "--------------------------\n",
      "ORIGINAL SENTENCE:\n",
      "\t \"When two judges said it was illegal to fire a teacher\" who viewed pornography at school, \"Tony Evers worked with Republicans and Democrats and changed the law.\"\n",
      "\t ['PUNCT', 'SCONJ', 'NUM', 'NOUN', 'VERB', 'PRON', 'AUX', 'ADJ', 'PART', 'VERB', 'DET', 'NOUN', 'PUNCT', 'PRON', 'VERB', 'NOUN', 'ADP', 'NOUN', 'PUNCT', 'PUNCT', 'PROPN', 'PROPN', 'VERB', 'ADP', 'PROPN', 'CCONJ', 'PROPN', 'CCONJ', 'VERB', 'DET', 'NOUN', 'PUNCT', 'PUNCT']\n",
      "SIMILAR SENTENCE NR 1\n",
      "\t \"When two judges said it was illegal to fire a teacher\" who viewed pornography at school, \"Tony Evers worked with Republicans and Democrats and changed the law.\"\n",
      "\t ['PUNCT', 'SCONJ', 'NUM', 'NOUN', 'VERB', 'PRON', 'AUX', 'ADJ', 'PART', 'VERB', 'DET', 'NOUN', 'PUNCT', 'PRON', 'VERB', 'NOUN', 'ADP', 'NOUN', 'PUNCT', 'PUNCT', 'PROPN', 'PROPN', 'VERB', 'ADP', 'PROPN', 'CCONJ', 'PROPN', 'CCONJ', 'VERB', 'DET', 'NOUN', 'PUNCT', 'PUNCT']\n",
      "SIMILAR SENTENCE NR 2\n",
      "\t \"When they passed Obamacare, they put a bailout fund in Obamacare. … We led the effort and wiped out that bailout fund.\"\n",
      "\t ['PUNCT', 'SCONJ', 'PRON', 'VERB', 'PROPN', 'PUNCT', 'PRON', 'VERB', 'DET', 'NOUN', 'NOUN', 'ADP', 'PROPN', 'PUNCT', 'PUNCT', 'PRON', 'VERB', 'DET', 'NOUN', 'CCONJ', 'VERB', 'ADP', 'DET', 'NOUN', 'NOUN', 'PUNCT', 'PUNCT']\n",
      "SIMILAR SENTENCE NR 3\n",
      "\t \"When they passed Obamacare, they put a bailout fund in Obamacare. … We led the effort and wiped out that bailout fund.\"\n",
      "\t ['PUNCT', 'SCONJ', 'PRON', 'VERB', 'PROPN', 'PUNCT', 'PRON', 'VERB', 'DET', 'NOUN', 'NOUN', 'ADP', 'PROPN', 'PUNCT', 'PUNCT', 'PRON', 'VERB', 'DET', 'NOUN', 'CCONJ', 'VERB', 'ADP', 'DET', 'NOUN', 'NOUN', 'PUNCT', 'PUNCT']\n",
      "--------------------------\n",
      "ORIGINAL SENTENCE:\n",
      "\t Facebook user claimed that protestors were killed during Imo state protest…\n",
      "\t ['PROPN', 'NOUN', 'VERB', 'SCONJ', 'NOUN', 'AUX', 'VERB', 'ADP', 'PROPN', 'NOUN', 'NOUN', 'PUNCT']\n",
      "SIMILAR SENTENCE NR 1\n",
      "\t Police warned that Facebook quizzes could lead to identity theft.\n",
      "\t ['NOUN', 'VERB', 'SCONJ', 'PROPN', 'NOUN', 'AUX', 'VERB', 'ADP', 'NOUN', 'NOUN', 'PUNCT']\n",
      "SIMILAR SENTENCE NR 2\n",
      "\t Amit Shah tweeted that he has been diagnosed with cancer.\n",
      "\t ['PROPN', 'PROPN', 'VERB', 'SCONJ', 'PRON', 'AUX', 'AUX', 'VERB', 'ADP', 'NOUN', 'PUNCT']\n",
      "SIMILAR SENTENCE NR 3\n",
      "\t Congress leader Rahul Gandhi said that he would settle in London.\n",
      "\t ['PROPN', 'NOUN', 'PROPN', 'PROPN', 'VERB', 'SCONJ', 'PRON', 'AUX', 'VERB', 'ADP', 'PROPN', 'PUNCT']\n",
      "--------------------------\n",
      "ORIGINAL SENTENCE:\n",
      "\t Says Donald Trump \"games the U.S. visa system so he can hire temporary foreign workers at low wages.\"\n",
      "\t ['VERB', 'PROPN', 'PROPN', 'PUNCT', 'NOUN', 'DET', 'PROPN', 'NOUN', 'NOUN', 'SCONJ', 'PRON', 'AUX', 'VERB', 'ADJ', 'ADJ', 'NOUN', 'ADP', 'ADJ', 'NOUN', 'PUNCT', 'PUNCT']\n",
      "SIMILAR SENTENCE NR 1\n",
      "\t Says Donald Trump \"games the U.S. visa system so he can hire temporary foreign workers at low wages.\"\n",
      "\t ['VERB', 'PROPN', 'PROPN', 'PUNCT', 'NOUN', 'DET', 'PROPN', 'NOUN', 'NOUN', 'SCONJ', 'PRON', 'AUX', 'VERB', 'ADJ', 'ADJ', 'NOUN', 'ADP', 'ADJ', 'NOUN', 'PUNCT', 'PUNCT']\n",
      "SIMILAR SENTENCE NR 2\n",
      "\t Says Hillary Clinton \"is the one that labeled African-American youth as ‘superpredators.’\"\n",
      "\t ['VERB', 'PROPN', 'PROPN', 'PUNCT', 'AUX', 'DET', 'NOUN', 'PRON', 'VERB', 'ADJ', 'PUNCT', 'ADJ', 'NOUN', 'ADP', 'PUNCT', 'NOUN', 'PUNCT', 'PUNCT', 'PUNCT']\n",
      "SIMILAR SENTENCE NR 3\n",
      "\t Says Hillary Clinton \"is the one that labeled African-American youth as ‘superpredators.’\"\n",
      "\t ['VERB', 'PROPN', 'PROPN', 'PUNCT', 'AUX', 'DET', 'NOUN', 'PRON', 'VERB', 'ADJ', 'PUNCT', 'ADJ', 'NOUN', 'ADP', 'PUNCT', 'NOUN', 'PUNCT', 'PUNCT', 'PUNCT']\n",
      "--------------------------\n",
      "ORIGINAL SENTENCE:\n",
      "\t \"Idaho mother sentenced to prison after multiple citations for breastfeeding in public.\"\n",
      "\t ['PUNCT', 'PROPN', 'NOUN', 'VERB', 'ADP', 'NOUN', 'ADP', 'ADJ', 'NOUN', 'ADP', 'VERB', 'ADP', 'NOUN', 'PUNCT', 'PUNCT']\n",
      "SIMILAR SENTENCE NR 1\n",
      "\t \"Idaho mother sentenced to prison after multiple citations for breastfeeding in public.\"\n",
      "\t ['PUNCT', 'PROPN', 'NOUN', 'VERB', 'ADP', 'NOUN', 'ADP', 'ADJ', 'NOUN', 'ADP', 'VERB', 'ADP', 'NOUN', 'PUNCT', 'PUNCT']\n",
      "SIMILAR SENTENCE NR 2\n",
      "\t \"Texas mothers are dying during childbirth at the highest rates in the nation.\"\n",
      "\t ['PUNCT', 'PROPN', 'NOUN', 'AUX', 'VERB', 'ADP', 'NOUN', 'ADP', 'DET', 'ADJ', 'NOUN', 'ADP', 'DET', 'NOUN', 'PUNCT', 'PUNCT']\n",
      "SIMILAR SENTENCE NR 3\n",
      "\t \"Texas mothers are dying during childbirth at the highest rates in the nation.\"\n",
      "\t ['PUNCT', 'PROPN', 'NOUN', 'AUX', 'VERB', 'ADP', 'NOUN', 'ADP', 'DET', 'ADJ', 'NOUN', 'ADP', 'DET', 'NOUN', 'PUNCT', 'PUNCT']\n",
      "--------------------------\n",
      "ORIGINAL SENTENCE:\n",
      "\t Video shows car swept down river in China's Chongqing municipality in June 2020\n",
      "\t ['NOUN', 'VERB', 'NOUN', 'VERB', 'ADP', 'NOUN', 'ADP', 'PROPN', 'PART', 'PROPN', 'NOUN', 'ADP', 'PROPN', 'NUM']\n",
      "SIMILAR SENTENCE NR 1\n",
      "\t Photos show Rafale fighter jet crashed during training in India in September 2020\n",
      "\t ['NOUN', 'VERB', 'PROPN', 'NOUN', 'NOUN', 'VERB', 'ADP', 'NOUN', 'ADP', 'PROPN', 'ADP', 'PROPN', 'NUM']\n",
      "SIMILAR SENTENCE NR 2\n",
      "\t Video shows man spitting on cop during COVID-19 outbreak in India\n",
      "\t ['NOUN', 'VERB', 'NOUN', 'VERB', 'ADP', 'NOUN', 'ADP', 'PROPN', 'NOUN', 'ADP', 'PROPN']\n",
      "SIMILAR SENTENCE NR 3\n",
      "\t Image shows child beaten by Hong Kong police officer in April 2020\n",
      "\t ['NOUN', 'VERB', 'NOUN', 'VERB', 'ADP', 'PROPN', 'PROPN', 'NOUN', 'NOUN', 'ADP', 'PROPN', 'NUM']\n",
      "--------------------------\n",
      "ORIGINAL SENTENCE:\n",
      "\t The government reduced payments for people with disabilities by £30 a week.\n",
      "\t ['DET', 'NOUN', 'VERB', 'NOUN', 'ADP', 'NOUN', 'ADP', 'NOUN', 'ADP', 'SYM', 'NUM', 'DET', 'NOUN', 'PUNCT']\n",
      "SIMILAR SENTENCE NR 1\n",
      "\t A video shows mass graves in Italy as a result of the COVID-19 pandemic.\n",
      "\t ['DET', 'NOUN', 'VERB', 'NOUN', 'NOUN', 'ADP', 'PROPN', 'ADP', 'DET', 'NOUN', 'ADP', 'DET', 'NOUN', 'NOUN', 'PUNCT']\n",
      "SIMILAR SENTENCE NR 2\n",
      "\t The Clinton Foundation is sending water to Houston \"for $7 a bottle.\"\n",
      "\t ['DET', 'PROPN', 'PROPN', 'AUX', 'VERB', 'NOUN', 'ADP', 'PROPN', 'PUNCT', 'ADP', 'SYM', 'NUM', 'DET', 'NOUN', 'PUNCT', 'PUNCT']\n",
      "SIMILAR SENTENCE NR 3\n",
      "\t The Clinton Foundation is sending water to Houston \"for $7 a bottle.\"\n",
      "\t ['DET', 'PROPN', 'PROPN', 'AUX', 'VERB', 'NOUN', 'ADP', 'PROPN', 'PUNCT', 'ADP', 'SYM', 'NUM', 'DET', 'NOUN', 'PUNCT', 'PUNCT']\n",
      "--------------------------\n",
      "ORIGINAL SENTENCE:\n",
      "\t Photo shows an actual fountain in Japan\n",
      "\t ['NOUN', 'VERB', 'DET', 'ADJ', 'NOUN', 'ADP', 'PROPN']\n",
      "SIMILAR SENTENCE NR 1\n",
      "\t Video shows a huge explosion in Israel\n",
      "\t ['NOUN', 'VERB', 'DET', 'ADJ', 'NOUN', 'ADP', 'PROPN']\n",
      "SIMILAR SENTENCE NR 2\n",
      "\t Picture shows a public beach in China\n",
      "\t ['NOUN', 'VERB', 'DET', 'ADJ', 'NOUN', 'ADP', 'PROPN']\n",
      "SIMILAR SENTENCE NR 3\n",
      "\t Video shows the current situation in Palestine\n",
      "\t ['NOUN', 'VERB', 'DET', 'ADJ', 'NOUN', 'ADP', 'PROPN']\n",
      "--------------------------\n"
     ]
    },
    {
     "name": "stdout",
     "output_type": "stream",
     "text": [
      "ORIGINAL SENTENCE:\n",
      "\t Viral video shows Bharuch police arresting man accused in Delhi riots case\n",
      "\t ['ADJ', 'NOUN', 'VERB', 'ADJ', 'NOUN', 'VERB', 'NOUN', 'VERB', 'ADP', 'PROPN', 'NOUN', 'NOUN']\n",
      "SIMILAR SENTENCE NR 1\n",
      "\t Genuine news report states former Philippine senator Mar Roxas arrested for drug possession\n",
      "\t ['ADJ', 'NOUN', 'NOUN', 'VERB', 'ADJ', 'ADJ', 'NOUN', 'PROPN', 'PROPN', 'VERB', 'ADP', 'NOUN', 'NOUN']\n",
      "SIMILAR SENTENCE NR 2\n",
      "\t Chinese soldiers helping Indian soldiers injured in avalanche\n",
      "\t ['ADJ', 'NOUN', 'VERB', 'ADJ', 'NOUN', 'VERB', 'ADP', 'PROPN']\n",
      "SIMILAR SENTENCE NR 3\n",
      "\t Genuine news report says Australian scientists found bananas prevent COVID-19\n",
      "\t ['ADJ', 'NOUN', 'NOUN', 'VERB', 'ADJ', 'NOUN', 'VERB', 'NOUN', 'VERB', 'PROPN']\n",
      "--------------------------\n",
      "ORIGINAL SENTENCE:\n",
      "\t “Queen Elizabeth removes Obamas from royal wedding guest list.”\n",
      "\t ['PUNCT', 'PROPN', 'PROPN', 'VERB', 'PROPN', 'ADP', 'ADJ', 'NOUN', 'NOUN', 'NOUN', 'PUNCT', 'PUNCT']\n",
      "SIMILAR SENTENCE NR 1\n",
      "\t “Queen Elizabeth removes Obamas from royal wedding guest list.”\n",
      "\t ['PUNCT', 'PROPN', 'PROPN', 'VERB', 'PROPN', 'ADP', 'ADJ', 'NOUN', 'NOUN', 'NOUN', 'PUNCT', 'PUNCT']\n",
      "SIMILAR SENTENCE NR 2\n",
      "\t \"FBI confirms evidence of huge underground Clinton sex network.\"\n",
      "\t ['PUNCT', 'PROPN', 'VERB', 'NOUN', 'ADP', 'ADJ', 'ADJ', 'PROPN', 'NOUN', 'NOUN', 'PUNCT', 'PUNCT']\n",
      "SIMILAR SENTENCE NR 3\n",
      "\t \"FBI confirms evidence of huge underground Clinton sex network.\"\n",
      "\t ['PUNCT', 'PROPN', 'VERB', 'NOUN', 'ADP', 'ADJ', 'ADJ', 'PROPN', 'NOUN', 'NOUN', 'PUNCT', 'PUNCT']\n",
      "--------------------------\n",
      "ORIGINAL SENTENCE:\n",
      "\t Photo shows Delhi CM Arvind Kejriwal with lawyer Nikita Jacob\n",
      "\t ['NOUN', 'VERB', 'PROPN', 'PROPN', 'PROPN', 'PROPN', 'ADP', 'NOUN', 'PROPN', 'PROPN']\n",
      "SIMILAR SENTENCE NR 1\n",
      "\t Photo shows Delhi CM Arvind Kejriwal with lawyer Nikita Jacob\n",
      "\t ['NOUN', 'VERB', 'PROPN', 'PROPN', 'PROPN', 'PROPN', 'ADP', 'NOUN', 'PROPN', 'PROPN']\n",
      "SIMILAR SENTENCE NR 2\n",
      "\t Image shows Kangana Ranaut with gangster Abu Salem\n",
      "\t ['NOUN', 'VERB', 'PROPN', 'PROPN', 'ADP', 'NOUN', 'PROPN', 'PROPN']\n",
      "SIMILAR SENTENCE NR 3\n",
      "\t Photos show Typhoon Molave in Thailand\n",
      "\t ['NOUN', 'VERB', 'PROPN', 'PROPN', 'ADP', 'PROPN']\n",
      "--------------------------\n",
      "ORIGINAL SENTENCE:\n",
      "\t People without permanent homes who do not normally file taxes can submit information to the IRS in order to receive stimulus payments as part of the March 2021 COVID-19 relief bill.\n",
      "\t ['NOUN', 'ADP', 'ADJ', 'NOUN', 'PRON', 'AUX', 'PART', 'ADV', 'VERB', 'NOUN', 'AUX', 'VERB', 'NOUN', 'ADP', 'DET', 'PROPN', 'ADP', 'NOUN', 'PART', 'VERB', 'NOUN', 'NOUN', 'ADP', 'NOUN', 'ADP', 'DET', 'PROPN', 'NUM', 'NOUN', 'NOUN', 'NOUN', 'PUNCT']\n",
      "SIMILAR SENTENCE NR 1\n",
      "\t A social media post claims there are plans by the Kano State Government to ban women from driving vehicles in the state.\n",
      "\t ['DET', 'ADJ', 'NOUN', 'NOUN', 'VERB', 'PRON', 'VERB', 'NOUN', 'ADP', 'DET', 'PROPN', 'PROPN', 'PROPN', 'PART', 'VERB', 'NOUN', 'ADP', 'VERB', 'NOUN', 'ADP', 'DET', 'NOUN', 'PUNCT']\n",
      "SIMILAR SENTENCE NR 2\n",
      "\t The Australian government has removed documents describing the vaccines as a poison from their site as part of a cover-up.\n",
      "\t ['DET', 'ADJ', 'NOUN', 'AUX', 'VERB', 'NOUN', 'VERB', 'DET', 'NOUN', 'ADP', 'DET', 'NOUN', 'ADP', 'PRON', 'NOUN', 'ADP', 'NOUN', 'ADP', 'DET', 'NOUN', 'PUNCT', 'NOUN', 'PUNCT']\n",
      "SIMILAR SENTENCE NR 3\n",
      "\t Video of migrant workers deliberately throwing food provided to them by government and other agencies amidst the lockdown\n",
      "\t ['NOUN', 'ADP', 'ADJ', 'NOUN', 'ADV', 'VERB', 'NOUN', 'VERB', 'ADP', 'PRON', 'ADP', 'NOUN', 'CCONJ', 'ADJ', 'NOUN', 'ADP', 'DET', 'NOUN']\n",
      "--------------------------\n",
      "ORIGINAL SENTENCE:\n",
      "\t Photo of a giant Japanese emperor moth\n",
      "\t ['NOUN', 'ADP', 'DET', 'ADJ', 'ADJ', 'NOUN', 'NOUN']\n",
      "SIMILAR SENTENCE NR 1\n",
      "\t List of merged public banks\n",
      "\t ['NOUN', 'ADP', 'ADJ', 'ADJ', 'NOUN']\n",
      "SIMILAR SENTENCE NR 2\n",
      "\t Images of a young Sonia Gandhi\n",
      "\t ['NOUN', 'ADP', 'DET', 'ADJ', 'PROPN', 'PROPN']\n",
      "SIMILAR SENTENCE NR 3\n",
      "\t Job adverts for Kenyan supermarket chain Naivas\n",
      "\t ['NOUN', 'NOUN', 'ADP', 'ADJ', 'NOUN', 'NOUN', 'NOUN']\n",
      "--------------------------\n",
      "ORIGINAL SENTENCE:\n",
      "\t A small Icelandic island has a house with a dark truth about why it&#039;s empty, and Björk once lived there.\n",
      "\t ['DET', 'ADJ', 'ADJ', 'NOUN', 'VERB', 'DET', 'NOUN', 'ADP', 'DET', 'ADJ', 'NOUN', 'ADP', 'SCONJ', 'PROPN', 'ADJ', 'PUNCT', 'CCONJ', 'PROPN', 'ADV', 'VERB', 'ADV', 'PUNCT']\n",
      "SIMILAR SENTENCE NR 1\n",
      "\t A viral photograph features the final glimpse of the Titanic before it sank.\n",
      "\t ['DET', 'ADJ', 'NOUN', 'VERB', 'DET', 'ADJ', 'NOUN', 'ADP', 'DET', 'PROPN', 'SCONJ', 'PRON', 'VERB', 'PUNCT']\n",
      "SIMILAR SENTENCE NR 2\n",
      "\t \"More people working in U.S.A. today than at any time in our HISTORY. Media barely covers!\"\n",
      "\t ['PUNCT', 'ADJ', 'NOUN', 'VERB', 'ADP', 'PROPN', 'NOUN', 'ADP', 'ADP', 'DET', 'NOUN', 'ADP', 'PRON', 'NOUN', 'PUNCT', 'NOUN', 'ADV', 'VERB', 'PUNCT', 'PUNCT']\n",
      "SIMILAR SENTENCE NR 3\n",
      "\t An Indonesian student won an award at a US university for inventing a magical body-whitening formula.\n",
      "\t ['DET', 'ADJ', 'NOUN', 'VERB', 'DET', 'NOUN', 'ADP', 'DET', 'PROPN', 'NOUN', 'ADP', 'VERB', 'DET', 'ADJ', 'NOUN', 'PUNCT', 'VERB', 'NOUN', 'PUNCT']\n",
      "--------------------------\n",
      "ORIGINAL SENTENCE:\n",
      "\t Filipina actress found dead in Hong Kong\n",
      "\t ['PROPN', 'NOUN', 'VERB', 'ADJ', 'ADP', 'PROPN', 'PROPN']\n",
      "SIMILAR SENTENCE NR 1\n",
      "\t Video claims woman burnt alive in Uttar Pradesh\n",
      "\t ['NOUN', 'NOUN', 'NOUN', 'VERB', 'ADJ', 'ADP', 'PROPN', 'PROPN']\n",
      "SIMILAR SENTENCE NR 2\n",
      "\t Covid-19 regulations are illegal in Canada\n",
      "\t ['PROPN', 'NOUN', 'AUX', 'ADJ', 'ADP', 'PROPN']\n",
      "SIMILAR SENTENCE NR 3\n",
      "\t UP student tested COVID positive as B.Ed exam\n",
      "\t ['NOUN', 'NOUN', 'VERB', 'VERB', 'ADJ', 'ADP', 'PROPN', 'NOUN']\n",
      "--------------------------\n",
      "ORIGINAL SENTENCE:\n",
      "\t Asheville police officers destroyed a medic tent and its supplies while enforcing a curfew during a protest against police brutality.\n",
      "\t ['PROPN', 'NOUN', 'NOUN', 'VERB', 'DET', 'ADJ', 'NOUN', 'CCONJ', 'PRON', 'NOUN', 'SCONJ', 'VERB', 'DET', 'NOUN', 'ADP', 'DET', 'NOUN', 'ADP', 'NOUN', 'NOUN', 'PUNCT']\n",
      "SIMILAR SENTENCE NR 1\n",
      "\t parents can get free baby formula if they call the telephone number on the back of its packaging.\n",
      "\t ['NOUN', 'AUX', 'VERB', 'ADJ', 'NOUN', 'NOUN', 'SCONJ', 'PRON', 'VERB', 'DET', 'NOUN', 'NOUN', 'ADP', 'DET', 'NOUN', 'ADP', 'PRON', 'NOUN', 'PUNCT']\n",
      "SIMILAR SENTENCE NR 2\n",
      "\t London has the best schools in the country as a result of government spending.\n",
      "\t ['PROPN', 'VERB', 'DET', 'ADJ', 'NOUN', 'ADP', 'DET', 'NOUN', 'ADP', 'DET', 'NOUN', 'ADP', 'NOUN', 'NOUN', 'PUNCT']\n",
      "SIMILAR SENTENCE NR 3\n",
      "\t U.S. President Joe Biden issued an executive order in January 2021 banning any use of the term “China virus.”\n",
      "\t ['PROPN', 'PROPN', 'PROPN', 'PROPN', 'VERB', 'DET', 'ADJ', 'NOUN', 'ADP', 'PROPN', 'NUM', 'VERB', 'DET', 'NOUN', 'ADP', 'DET', 'NOUN', 'PUNCT', 'PROPN', 'NOUN', 'PUNCT', 'PUNCT']\n",
      "--------------------------\n",
      "ORIGINAL SENTENCE:\n",
      "\t A post featuring a photograph of a soldier carrying a donkey on his back claims the image is from World War II and the serviceman is carrying the animal through a minefield.\n",
      "\t ['DET', 'NOUN', 'VERB', 'DET', 'NOUN', 'ADP', 'DET', 'NOUN', 'VERB', 'DET', 'NOUN', 'ADP', 'PRON', 'NOUN', 'NOUN', 'DET', 'NOUN', 'AUX', 'ADP', 'PROPN', 'PROPN', 'PROPN', 'CCONJ', 'DET', 'NOUN', 'AUX', 'VERB', 'DET', 'NOUN', 'ADP', 'DET', 'NOUN', 'PUNCT']\n",
      "SIMILAR SENTENCE NR 1\n",
      "\t A post featuring a photograph of a soldier carrying a donkey on his back claims the image is from World War II and the serviceman is carrying the animal through a minefield.\n",
      "\t ['DET', 'NOUN', 'VERB', 'DET', 'NOUN', 'ADP', 'DET', 'NOUN', 'VERB', 'DET', 'NOUN', 'ADP', 'PRON', 'NOUN', 'NOUN', 'DET', 'NOUN', 'AUX', 'ADP', 'PROPN', 'PROPN', 'PROPN', 'CCONJ', 'DET', 'NOUN', 'AUX', 'VERB', 'DET', 'NOUN', 'ADP', 'DET', 'NOUN', 'PUNCT']\n",
      "SIMILAR SENTENCE NR 2\n",
      "\t Photo shows a comparison between the boot tread of a spacesuit worn by Neil Armstrong and a boot print he left on the Moons surface.\n",
      "\t ['NOUN', 'VERB', 'DET', 'NOUN', 'ADP', 'DET', 'NOUN', 'NOUN', 'ADP', 'DET', 'NOUN', 'VERB', 'ADP', 'PROPN', 'PROPN', 'CCONJ', 'DET', 'NOUN', 'NOUN', 'PRON', 'VERB', 'ADP', 'DET', 'PROPN', 'NOUN', 'PUNCT']\n",
      "SIMILAR SENTENCE NR 3\n",
      "\t A meme comparing the treatment Adam Toledo received at the hands of police to that of Kyle Rittenhouse accurately lists the facts pertaining to both incidents.\n",
      "\t ['DET', 'NOUN', 'VERB', 'DET', 'NOUN', 'PROPN', 'PROPN', 'VERB', 'ADP', 'DET', 'NOUN', 'ADP', 'NOUN', 'ADP', 'PRON', 'ADP', 'PROPN', 'PROPN', 'ADV', 'VERB', 'DET', 'NOUN', 'VERB', 'ADP', 'DET', 'NOUN', 'PUNCT']\n",
      "--------------------------\n",
      "ORIGINAL SENTENCE:\n",
      "\t Ilhan Omar said \"My people did something\" in relation to the 9/11 terror attacks\n",
      "\t ['PROPN', 'PROPN', 'VERB', 'PUNCT', 'PRON', 'NOUN', 'VERB', 'PRON', 'PUNCT', 'ADP', 'NOUN', 'ADP', 'DET', 'NUM', 'NOUN', 'NOUN']\n",
      "SIMILAR SENTENCE NR 1\n",
      "\t Ilhan Omar said \"My people did something\" in relation to the 9/11 terror attacks\n",
      "\t ['PROPN', 'PROPN', 'VERB', 'PUNCT', 'PRON', 'NOUN', 'VERB', 'PRON', 'PUNCT', 'ADP', 'NOUN', 'ADP', 'DET', 'NUM', 'NOUN', 'NOUN']\n",
      "SIMILAR SENTENCE NR 2\n",
      "\t U.S. President Donald Trump said “Nobody likes me” during a live White House COVID-19 press briefing.\n",
      "\t ['PROPN', 'PROPN', 'PROPN', 'PROPN', 'VERB', 'PUNCT', 'PRON', 'VERB', 'PRON', 'PUNCT', 'ADP', 'DET', 'ADJ', 'PROPN', 'PROPN', 'PROPN', 'NOUN', 'NOUN', 'PUNCT']\n",
      "SIMILAR SENTENCE NR 3\n",
      "\t the video shows \"ballot stuffing\" in Michigan during the 2020 presidential election\n",
      "\t ['DET', 'NOUN', 'VERB', 'PUNCT', 'NOUN', 'NOUN', 'PUNCT', 'ADP', 'PROPN', 'ADP', 'DET', 'NUM', 'ADJ', 'NOUN']\n",
      "--------------------------\n",
      "ORIGINAL SENTENCE:\n",
      "\t A evasão do Pronatec foi de 80%\n",
      "\t ['DET', 'NOUN', 'AUX', 'PROPN', 'ADP', 'X', 'NUM', 'NOUN']\n",
      "SIMILAR SENTENCE NR 1\n",
      "\t A woman gives birth to 11 babies\n",
      "\t ['DET', 'NOUN', 'VERB', 'NOUN', 'ADP', 'NUM', 'NOUN']\n",
      "SIMILAR SENTENCE NR 2\n",
      "\t COVID DEATH TOTALS OFF BY NEARLY 25%\n",
      "\t ['NOUN', 'NOUN', 'VERB', 'PROPN', 'ADP', 'PROPN', 'NUM', 'NOUN']\n",
      "SIMILAR SENTENCE NR 3\n",
      "\t Trucks safeguard Trump Tower against 2020 election violence\n",
      "\t ['NOUN', 'VERB', 'PROPN', 'PROPN', 'ADP', 'NUM', 'NOUN', 'NOUN']\n",
      "--------------------------\n",
      "ORIGINAL SENTENCE:\n",
      "\t Photo shows a mail-in-ballot that a voter did not request\n",
      "\t ['NOUN', 'VERB', 'DET', 'NOUN', 'PUNCT', 'ADP', 'PUNCT', 'NOUN', 'SCONJ', 'DET', 'NOUN', 'AUX', 'PART', 'VERB']\n",
      "SIMILAR SENTENCE NR 1\n",
      "\t Doctor tells a school board why masks and vaccines don't work\n",
      "\t ['NOUN', 'VERB', 'DET', 'NOUN', 'NOUN', 'SCONJ', 'NOUN', 'CCONJ', 'NOUN', 'AUX', 'PART', 'VERB']\n",
      "SIMILAR SENTENCE NR 2\n",
      "\t Army officer helps pregant woman with luggage as civilians refused to help\n",
      "\t ['NOUN', 'NOUN', 'VERB', 'ADJ', 'NOUN', 'ADP', 'NOUN', 'SCONJ', 'NOUN', 'VERB', 'PART', 'VERB']\n",
      "SIMILAR SENTENCE NR 3\n",
      "\t Rafale jet has crashed near Ambala Airbase due to technical fault and a pilot is martyred\n",
      "\t ['PROPN', 'NOUN', 'AUX', 'VERB', 'ADP', 'PROPN', 'PROPN', 'ADP', 'ADP', 'ADJ', 'NOUN', 'CCONJ', 'DET', 'NOUN', 'AUX', 'VERB']\n",
      "--------------------------\n",
      "ORIGINAL SENTENCE:\n",
      "\t White nationalist protesters in Charlottesville \"had a permit. The other group didn’t have a permit.\"\n",
      "\t ['ADJ', 'ADJ', 'NOUN', 'ADP', 'PROPN', 'PUNCT', 'VERB', 'DET', 'NOUN', 'PUNCT', 'DET', 'ADJ', 'NOUN', 'AUX', 'PART', 'VERB', 'DET', 'NOUN', 'PUNCT', 'PUNCT']\n",
      "SIMILAR SENTENCE NR 1\n",
      "\t White nationalist protesters in Charlottesville \"had a permit. The other group didn’t have a permit.\"\n",
      "\t ['ADJ', 'ADJ', 'NOUN', 'ADP', 'PROPN', 'PUNCT', 'VERB', 'DET', 'NOUN', 'PUNCT', 'DET', 'ADJ', 'NOUN', 'AUX', 'PART', 'VERB', 'DET', 'NOUN', 'PUNCT', 'PUNCT']\n",
      "SIMILAR SENTENCE NR 2\n",
      "\t White nationalist protesters in Charlottesville \"had a permit. The other group didn’t have a permit.\"\n",
      "\t ['ADJ', 'ADJ', 'NOUN', 'ADP', 'PROPN', 'PUNCT', 'VERB', 'DET', 'NOUN', 'PUNCT', 'DET', 'ADJ', 'NOUN', 'AUX', 'PART', 'VERB', 'DET', 'NOUN', 'PUNCT', 'PUNCT']\n",
      "SIMILAR SENTENCE NR 3\n",
      "\t Preliminary murder rates in Philadelphia \"will put the murder rate at the highest of this decade in the city.\"\n",
      "\t ['ADJ', 'NOUN', 'NOUN', 'ADP', 'PROPN', 'PUNCT', 'AUX', 'VERB', 'DET', 'NOUN', 'NOUN', 'ADP', 'DET', 'ADJ', 'ADP', 'DET', 'NOUN', 'ADP', 'DET', 'NOUN', 'PUNCT', 'PUNCT']\n",
      "--------------------------\n",
      "ORIGINAL SENTENCE:\n",
      "\t claims that author Charles Dickens once said, \"Happiness is a gift and the trick is not to expect it but to delight in it when it comes.\"\n",
      "\t ['VERB', 'SCONJ', 'NOUN', 'PROPN', 'PROPN', 'ADV', 'VERB', 'PUNCT', 'PUNCT', 'NOUN', 'AUX', 'DET', 'NOUN', 'CCONJ', 'DET', 'NOUN', 'AUX', 'PART', 'PART', 'VERB', 'PRON', 'CCONJ', 'PART', 'VERB', 'ADP', 'PRON', 'SCONJ', 'PRON', 'VERB', 'PUNCT', 'PUNCT']\n",
      "SIMILAR SENTENCE NR 1\n",
      "\t claims that Mark Twain once said, \"If voting made a difference, they wouldn't let us do it.\"\n",
      "\t ['VERB', 'SCONJ', 'PROPN', 'PROPN', 'ADV', 'VERB', 'PUNCT', 'PUNCT', 'SCONJ', 'NOUN', 'VERB', 'DET', 'NOUN', 'PUNCT', 'PRON', 'AUX', 'PART', 'VERB', 'PRON', 'VERB', 'PRON', 'PUNCT', 'PUNCT']\n",
      "SIMILAR SENTENCE NR 2\n",
      "\t claims that Bertrand Russell once stated, \"War does not determine who is right - only who is left.\"\n",
      "\t ['VERB', 'SCONJ', 'PROPN', 'PROPN', 'ADV', 'VERB', 'PUNCT', 'PUNCT', 'NOUN', 'AUX', 'PART', 'VERB', 'PRON', 'AUX', 'ADJ', 'PUNCT', 'ADV', 'PRON', 'AUX', 'VERB', 'PUNCT', 'PUNCT']\n",
      "SIMILAR SENTENCE NR 3\n",
      "\t alleges that playwright William Shakespeare once stated, \"the earth has music for those who listen.\"\n",
      "\t ['VERB', 'SCONJ', 'NOUN', 'PROPN', 'PROPN', 'ADV', 'VERB', 'PUNCT', 'PUNCT', 'DET', 'NOUN', 'VERB', 'NOUN', 'ADP', 'PRON', 'PRON', 'VERB', 'PUNCT', 'PUNCT']\n",
      "--------------------------\n",
      "ORIGINAL SENTENCE:\n",
      "\t Cristiano Ronaldos hotels will be turned into hospitals to treat Coronavirus patients\n",
      "\t ['PROPN', 'PROPN', 'NOUN', 'AUX', 'AUX', 'VERB', 'ADP', 'NOUN', 'PART', 'VERB', 'PROPN', 'NOUN']\n",
      "SIMILAR SENTENCE NR 1\n",
      "\t Laddus being prepared in order to celebrate BJPs victory\n",
      "\t ['PROPN', 'AUX', 'VERB', 'ADP', 'NOUN', 'PART', 'VERB', 'NOUN', 'NOUN']\n",
      "SIMILAR SENTENCE NR 2\n",
      "\t Caucus locations are being switched in Iowa to hurt Bernie Sanders\n",
      "\t ['NOUN', 'NOUN', 'AUX', 'AUX', 'VERB', 'ADP', 'PROPN', 'PART', 'VERB', 'PROPN', 'PROPN']\n",
      "SIMILAR SENTENCE NR 3\n",
      "\t Caucus locations are being switched in Iowa to hurt Bernie Sanders\n",
      "\t ['NOUN', 'NOUN', 'AUX', 'AUX', 'VERB', 'ADP', 'PROPN', 'PART', 'VERB', 'PROPN', 'PROPN']\n",
      "--------------------------\n",
      "ORIGINAL SENTENCE:\n",
      "\t \"This will be the last time — April — that you’re going to (fill out) that old-fashioned, big, lots of pages, complicated tax form. Because next April you’re going to, in many cases, (file) one page, one card. It’s going to be very, very different. Very, very different.\"\n",
      "\t ['PUNCT', 'PRON', 'AUX', 'AUX', 'DET', 'ADJ', 'NOUN', 'PUNCT', 'PROPN', 'PUNCT', 'SCONJ', 'PRON', 'AUX', 'VERB', 'PART', 'PUNCT', 'VERB', 'ADP', 'PUNCT', 'SCONJ', 'ADJ', 'PUNCT', 'ADJ', 'PUNCT', 'ADJ', 'PUNCT', 'NOUN', 'ADP', 'NOUN', 'PUNCT', 'ADJ', 'NOUN', 'NOUN', 'PUNCT', 'SCONJ', 'ADJ', 'PROPN', 'PRON', 'AUX', 'VERB', 'PART', 'PUNCT', 'ADP', 'ADJ', 'NOUN', 'PUNCT', 'PUNCT', 'NOUN', 'PUNCT', 'NUM', 'NOUN', 'PUNCT', 'NUM', 'NOUN', 'PUNCT', 'PRON', 'INTJ', 'VERB', 'PART', 'AUX', 'ADV', 'PUNCT', 'ADV', 'ADJ', 'PUNCT', 'ADV', 'PUNCT', 'ADV', 'ADJ', 'PUNCT', 'PUNCT']\n",
      "SIMILAR SENTENCE NR 1\n",
      "\t \"This will be the last time — April — that you’re going to (fill out) that old-fashioned, big, lots of pages, complicated tax form. Because next April you’re going to, in many cases, (file) one page, one card. It’s going to be very, very different. Very, very different.\"\n",
      "\t ['PUNCT', 'PRON', 'AUX', 'AUX', 'DET', 'ADJ', 'NOUN', 'PUNCT', 'PROPN', 'PUNCT', 'SCONJ', 'PRON', 'AUX', 'VERB', 'PART', 'PUNCT', 'VERB', 'ADP', 'PUNCT', 'SCONJ', 'ADJ', 'PUNCT', 'ADJ', 'PUNCT', 'ADJ', 'PUNCT', 'NOUN', 'ADP', 'NOUN', 'PUNCT', 'ADJ', 'NOUN', 'NOUN', 'PUNCT', 'SCONJ', 'ADJ', 'PROPN', 'PRON', 'AUX', 'VERB', 'PART', 'PUNCT', 'ADP', 'ADJ', 'NOUN', 'PUNCT', 'PUNCT', 'NOUN', 'PUNCT', 'NUM', 'NOUN', 'PUNCT', 'NUM', 'NOUN', 'PUNCT', 'PRON', 'INTJ', 'VERB', 'PART', 'AUX', 'ADV', 'PUNCT', 'ADV', 'ADJ', 'PUNCT', 'ADV', 'PUNCT', 'ADV', 'ADJ', 'PUNCT', 'PUNCT']\n",
      "SIMILAR SENTENCE NR 2\n",
      "\t \"This will be the last time — April — that you’re going to (fill out) that old-fashioned, big, lots of pages, complicated tax form. Because next April you’re going to, in many cases, (file) one page, one card. It’s going to be very, very different. Very, very different.\"\n",
      "\t ['PUNCT', 'PRON', 'AUX', 'AUX', 'DET', 'ADJ', 'NOUN', 'PUNCT', 'PROPN', 'PUNCT', 'SCONJ', 'PRON', 'AUX', 'VERB', 'PART', 'PUNCT', 'VERB', 'ADP', 'PUNCT', 'SCONJ', 'ADJ', 'PUNCT', 'ADJ', 'PUNCT', 'ADJ', 'PUNCT', 'NOUN', 'ADP', 'NOUN', 'PUNCT', 'ADJ', 'NOUN', 'NOUN', 'PUNCT', 'SCONJ', 'ADJ', 'PROPN', 'PRON', 'AUX', 'VERB', 'PART', 'PUNCT', 'ADP', 'ADJ', 'NOUN', 'PUNCT', 'PUNCT', 'NOUN', 'PUNCT', 'NUM', 'NOUN', 'PUNCT', 'NUM', 'NOUN', 'PUNCT', 'PRON', 'INTJ', 'VERB', 'PART', 'AUX', 'ADV', 'PUNCT', 'ADV', 'ADJ', 'PUNCT', 'ADV', 'PUNCT', 'ADV', 'ADJ', 'PUNCT', 'PUNCT']\n",
      "SIMILAR SENTENCE NR 3\n",
      "\t \"What is the alt-right? It is a dressed-up term for white nationalism. ... (President Trump) is surrounded by these people ... they're in the White House with him.\"\n",
      "\t ['PUNCT', 'PRON', 'AUX', 'DET', 'NOUN', 'PUNCT', 'NOUN', 'PUNCT', 'PRON', 'AUX', 'DET', 'VERB', 'PUNCT', 'ADP', 'NOUN', 'ADP', 'ADJ', 'NOUN', 'PUNCT', 'PUNCT', 'PUNCT', 'PROPN', 'PROPN', 'PUNCT', 'AUX', 'VERB', 'ADP', 'DET', 'NOUN', 'PUNCT', 'PRON', 'AUX', 'ADP', 'DET', 'PROPN', 'PROPN', 'ADP', 'PRON', 'PUNCT', 'PUNCT']\n",
      "--------------------------\n",
      "ORIGINAL SENTENCE:\n",
      "\t the image shows a scene from \"The Simpsons\" in which a character predicts the date of Prince Philip’s death.\n",
      "\t ['DET', 'NOUN', 'VERB', 'DET', 'NOUN', 'ADP', 'PUNCT', 'DET', 'PROPN', 'PUNCT', 'ADP', 'PRON', 'DET', 'NOUN', 'VERB', 'DET', 'NOUN', 'ADP', 'PROPN', 'PROPN', 'PART', 'NOUN', 'PUNCT']\n",
      "SIMILAR SENTENCE NR 1\n",
      "\t A photograph shows a rally in Toronto, Canada, in support of the impeachment of U.S. President Donald Trump.\n",
      "\t ['DET', 'NOUN', 'VERB', 'DET', 'NOUN', 'ADP', 'PROPN', 'PUNCT', 'PROPN', 'PUNCT', 'ADP', 'NOUN', 'ADP', 'DET', 'NOUN', 'ADP', 'PROPN', 'PROPN', 'PROPN', 'PROPN', 'PUNCT']\n",
      "SIMILAR SENTENCE NR 2\n",
      "\t A photograph shows a concept design from the 1960s of a seat belt that goes around one&#039;s neck.\n",
      "\t ['DET', 'NOUN', 'VERB', 'DET', 'NOUN', 'NOUN', 'ADP', 'DET', 'NOUN', 'ADP', 'DET', 'NOUN', 'NOUN', 'PRON', 'VERB', 'ADP', 'PROPN', 'NOUN', 'PUNCT']\n",
      "SIMILAR SENTENCE NR 3\n",
      "\t A photograph shows a railing featuring an inscription in braille that describes the scenery in Naples, Italy.\n",
      "\t ['DET', 'NOUN', 'VERB', 'DET', 'NOUN', 'VERB', 'DET', 'NOUN', 'ADP', 'NOUN', 'PRON', 'VERB', 'DET', 'NOUN', 'ADP', 'PROPN', 'PUNCT', 'PROPN', 'PUNCT']\n",
      "--------------------------\n"
     ]
    },
    {
     "name": "stdout",
     "output_type": "stream",
     "text": [
      "ORIGINAL SENTENCE:\n",
      "\t Forest fires are caused by poor management, not by climate change\n",
      "\t ['NOUN', 'NOUN', 'AUX', 'VERB', 'ADP', 'ADJ', 'NOUN', 'PUNCT', 'PART', 'ADP', 'NOUN', 'NOUN']\n",
      "SIMILAR SENTENCE NR 1\n",
      "\t Herpes is caused by parasitic worms and not virus\n",
      "\t ['NOUN', 'AUX', 'VERB', 'ADP', 'ADJ', 'NOUN', 'CCONJ', 'PART', 'NOUN']\n",
      "SIMILAR SENTENCE NR 2\n",
      "\t Train Was Marked With \"COVID-19\" On Its Side\n",
      "\t ['NOUN', 'AUX', 'VERB', 'ADP', 'PUNCT', 'NOUN', 'PUNCT', 'ADP', 'PRON', 'NOUN']\n",
      "SIMILAR SENTENCE NR 3\n",
      "\t Train Was Marked With \"COVID-19\" On Its Side\n",
      "\t ['NOUN', 'AUX', 'VERB', 'ADP', 'PUNCT', 'NOUN', 'PUNCT', 'ADP', 'PRON', 'NOUN']\n",
      "--------------------------\n",
      "ORIGINAL SENTENCE:\n",
      "\t \"Syria and Nicaragua are the only nations that didn't sign the Paris Agreement. Nicaragua said it wasn't tough enough.\"\n",
      "\t ['PUNCT', 'PROPN', 'CCONJ', 'PROPN', 'AUX', 'DET', 'ADJ', 'NOUN', 'PRON', 'AUX', 'PART', 'VERB', 'DET', 'PROPN', 'PROPN', 'PUNCT', 'PROPN', 'VERB', 'PRON', 'AUX', 'PART', 'ADJ', 'ADV', 'PUNCT', 'PUNCT']\n",
      "SIMILAR SENTENCE NR 1\n",
      "\t \"Syria and Nicaragua are the only nations that didn't sign the Paris Agreement. Nicaragua said it wasn't tough enough.\"\n",
      "\t ['PUNCT', 'PROPN', 'CCONJ', 'PROPN', 'AUX', 'DET', 'ADJ', 'NOUN', 'PRON', 'AUX', 'PART', 'VERB', 'DET', 'PROPN', 'PROPN', 'PUNCT', 'PROPN', 'VERB', 'PRON', 'AUX', 'PART', 'ADJ', 'ADV', 'PUNCT', 'PUNCT']\n",
      "SIMILAR SENTENCE NR 2\n",
      "\t \"Syria and Nicaragua are the only nations that didn't sign the Paris Agreement. Nicaragua said it wasn't tough enough.\"\n",
      "\t ['PUNCT', 'PROPN', 'CCONJ', 'PROPN', 'AUX', 'DET', 'ADJ', 'NOUN', 'PRON', 'AUX', 'PART', 'VERB', 'DET', 'PROPN', 'PROPN', 'PUNCT', 'PROPN', 'VERB', 'PRON', 'AUX', 'PART', 'ADJ', 'ADV', 'PUNCT', 'PUNCT']\n",
      "SIMILAR SENTENCE NR 3\n",
      "\t \"Chicago has the toughest gun laws in our country. They are so tough.\"\n",
      "\t ['PUNCT', 'PROPN', 'VERB', 'DET', 'ADJ', 'NOUN', 'NOUN', 'ADP', 'PRON', 'NOUN', 'PUNCT', 'PRON', 'AUX', 'ADV', 'ADJ', 'PUNCT', 'PUNCT']\n",
      "--------------------------\n",
      "ORIGINAL SENTENCE:\n",
      "\t NHS spending is going to increase by 3.4% a year.\n",
      "\t ['NOUN', 'NOUN', 'AUX', 'VERB', 'PART', 'VERB', 'ADP', 'NUM', 'NOUN', 'DET', 'NOUN', 'PUNCT']\n",
      "SIMILAR SENTENCE NR 1\n",
      "\t NHS hospitals have been hit with a 21% rise in business rates.\n",
      "\t ['NOUN', 'NOUN', 'AUX', 'AUX', 'VERB', 'ADP', 'DET', 'NUM', 'NOUN', 'NOUN', 'ADP', 'NOUN', 'NOUN', 'PUNCT']\n",
      "SIMILAR SENTENCE NR 2\n",
      "\t University applications have fallen by 4%.\n",
      "\t ['NOUN', 'NOUN', 'AUX', 'VERB', 'ADP', 'NUM', 'NOUN', 'PUNCT']\n",
      "SIMILAR SENTENCE NR 3\n",
      "\t Poverty is being redefined to remove any reference to income.\n",
      "\t ['NOUN', 'AUX', 'AUX', 'VERB', 'PART', 'VERB', 'DET', 'NOUN', 'ADP', 'NOUN', 'PUNCT']\n",
      "--------------------------\n",
      "ORIGINAL SENTENCE:\n",
      "\t Islamic call to prayer from the clouds\n",
      "\t ['ADJ', 'NOUN', 'ADP', 'NOUN', 'ADP', 'DET', 'NOUN']\n",
      "SIMILAR SENTENCE NR 1\n",
      "\t Real photo of surfer with a whale\n",
      "\t ['ADJ', 'NOUN', 'ADP', 'NOUN', 'ADP', 'DET', 'NOUN']\n",
      "SIMILAR SENTENCE NR 2\n",
      "\t Islamic call to prayer from the clouds\n",
      "\t ['ADJ', 'NOUN', 'ADP', 'NOUN', 'ADP', 'DET', 'NOUN']\n",
      "SIMILAR SENTENCE NR 3\n",
      "\t Viral video of giraffes diving into swimming pool\n",
      "\t ['ADJ', 'NOUN', 'ADP', 'NOUN', 'NOUN', 'ADP', 'NOUN', 'NOUN']\n",
      "--------------------------\n",
      "ORIGINAL SENTENCE:\n",
      "\t The Republic of Ireland’s COVID-19 death rate is two-thirds of that in Northern Ireland.\n",
      "\t ['DET', 'PROPN', 'ADP', 'PROPN', 'PART', 'NOUN', 'NOUN', 'NOUN', 'AUX', 'NUM', 'PUNCT', 'NOUN', 'ADP', 'PRON', 'ADP', 'PROPN', 'PROPN', 'PUNCT']\n",
      "SIMILAR SENTENCE NR 1\n",
      "\t The Republic of Ireland’s COVID-19 hospital death rate is two-thirds of that in Northern Ireland.\n",
      "\t ['DET', 'PROPN', 'ADP', 'PROPN', 'PART', 'PROPN', 'NOUN', 'NOUN', 'NOUN', 'AUX', 'NUM', 'PUNCT', 'NOUN', 'ADP', 'PRON', 'ADP', 'PROPN', 'PROPN', 'PUNCT']\n",
      "SIMILAR SENTENCE NR 2\n",
      "\t The number of Covid hospitalisations is 0.5% of the level of cases.\n",
      "\t ['DET', 'NOUN', 'ADP', 'PROPN', 'NOUN', 'AUX', 'NUM', 'NOUN', 'ADP', 'DET', 'NOUN', 'ADP', 'NOUN', 'PUNCT']\n",
      "SIMILAR SENTENCE NR 3\n",
      "\t The death rate for COVID-19 deaths in hospital is 50% higher in Northern Ireland than Ireland.\n",
      "\t ['DET', 'NOUN', 'NOUN', 'ADP', 'NOUN', 'NOUN', 'ADP', 'NOUN', 'AUX', 'NUM', 'NOUN', 'ADJ', 'ADP', 'PROPN', 'PROPN', 'ADP', 'PROPN', 'PUNCT']\n",
      "--------------------------\n",
      "ORIGINAL SENTENCE:\n",
      "\t Video de policías que roban mercados a campesinos en 2020\n",
      "\t ['NOUN', 'X', 'X', 'PROPN', 'PROPN', 'NOUN', 'DET', 'NOUN', 'ADP', 'NUM']\n",
      "SIMILAR SENTENCE NR 1\n",
      "\t Carta de Nancy Pelosi a alcalde de Portland culpa a Trump por disturbios en 2020\n",
      "\t ['PROPN', 'PROPN', 'PROPN', 'PROPN', 'DET', 'NOUN', 'X', 'PROPN', 'NOUN', 'DET', 'NOUN', 'NOUN', 'NOUN', 'ADP', 'NUM']\n",
      "SIMILAR SENTENCE NR 2\n",
      "\t Fin de la vaccination en Australie pour infection au HIV\n",
      "\t ['PROPN', 'X', 'PROPN', 'NOUN', 'ADP', 'PROPN', 'NOUN', 'NOUN', 'ADP', 'PROPN']\n",
      "SIMILAR SENTENCE NR 3\n",
      "\t Decomiso de armas a cocaleros del Chapare en Bolivia\n",
      "\t ['NOUN', 'X', 'NOUN', 'DET', 'NOUN', 'PROPN', 'PROPN', 'ADP', 'PROPN']\n",
      "--------------------------\n",
      "ORIGINAL SENTENCE:\n",
      "\t Says that at a campaign rally President Barack Obama \"spent so much time screaming at a protester, and frankly it was a disgrace.\"\n",
      "\t ['VERB', 'SCONJ', 'ADP', 'DET', 'NOUN', 'NOUN', 'PROPN', 'PROPN', 'PROPN', 'PUNCT', 'VERB', 'ADV', 'ADJ', 'NOUN', 'VERB', 'ADP', 'DET', 'NOUN', 'PUNCT', 'CCONJ', 'ADV', 'PRON', 'AUX', 'DET', 'NOUN', 'PUNCT', 'PUNCT']\n",
      "SIMILAR SENTENCE NR 1\n",
      "\t Says that at a campaign rally President Barack Obama \"spent so much time screaming at a protester, and frankly it was a disgrace.\"\n",
      "\t ['VERB', 'SCONJ', 'ADP', 'DET', 'NOUN', 'NOUN', 'PROPN', 'PROPN', 'PROPN', 'PUNCT', 'VERB', 'ADV', 'ADJ', 'NOUN', 'VERB', 'ADP', 'DET', 'NOUN', 'PUNCT', 'CCONJ', 'ADV', 'PRON', 'AUX', 'DET', 'NOUN', 'PUNCT', 'PUNCT']\n",
      "SIMILAR SENTENCE NR 2\n",
      "\t Says that at a campaign rally President Barack Obama \"spent so much time screaming at a protester, and frankly it was a disgrace.\"\n",
      "\t ['VERB', 'SCONJ', 'ADP', 'DET', 'NOUN', 'NOUN', 'PROPN', 'PROPN', 'PROPN', 'PUNCT', 'VERB', 'ADV', 'ADJ', 'NOUN', 'VERB', 'ADP', 'DET', 'NOUN', 'PUNCT', 'CCONJ', 'ADV', 'PRON', 'AUX', 'DET', 'NOUN', 'PUNCT', 'PUNCT']\n",
      "SIMILAR SENTENCE NR 3\n",
      "\t Says that as the number of vaccines administered to children has increased in the United States, so has the autism rate.\n",
      "\t ['VERB', 'SCONJ', 'SCONJ', 'DET', 'NOUN', 'ADP', 'NOUN', 'VERB', 'ADP', 'NOUN', 'AUX', 'VERB', 'ADP', 'DET', 'PROPN', 'PROPN', 'PUNCT', 'ADV', 'VERB', 'DET', 'NOUN', 'NOUN', 'PUNCT']\n",
      "--------------------------\n",
      "ORIGINAL SENTENCE:\n",
      "\t Pat Robertson said Jews should become Christians because &quot;nobody is shooting up churches.&quot;\n",
      "\t ['PROPN', 'PROPN', 'VERB', 'PROPN', 'AUX', 'VERB', 'PROPN', 'SCONJ', 'CCONJ', 'PROPN', 'AUX', 'VERB', 'ADP', 'NOUN', 'PUNCT']\n",
      "SIMILAR SENTENCE NR 1\n",
      "\t Lady Gaga announced she would cover her face \"until Trump gets fired from office.\"\n",
      "\t ['PROPN', 'PROPN', 'VERB', 'PRON', 'AUX', 'VERB', 'PRON', 'NOUN', 'PUNCT', 'SCONJ', 'PROPN', 'AUX', 'VERB', 'ADP', 'NOUN', 'PUNCT', 'PUNCT']\n",
      "SIMILAR SENTENCE NR 2\n",
      "\t Pope Says He Will Address Sex Abuse Scandal Once He's Finished Talking About Climate Change\n",
      "\t ['PROPN', 'VERB', 'PRON', 'AUX', 'VERB', 'PROPN', 'PROPN', 'PROPN', 'SCONJ', 'PRON', 'AUX', 'VERB', 'VERB', 'ADP', 'PROPN', 'PROPN']\n",
      "SIMILAR SENTENCE NR 3\n",
      "\t Pope Says He Will Address Sex Abuse Scandal Once He's Finished Talking About Climate Change\n",
      "\t ['PROPN', 'VERB', 'PRON', 'AUX', 'VERB', 'PROPN', 'PROPN', 'PROPN', 'SCONJ', 'PRON', 'AUX', 'VERB', 'VERB', 'ADP', 'PROPN', 'PROPN']\n",
      "--------------------------\n",
      "ORIGINAL SENTENCE:\n",
      "\t A Massive International Study Shows Countries with Early HCQ Use Had 79% Lower Mortality Rate.\n",
      "\t ['DET', 'PROPN', 'PROPN', 'PROPN', 'PROPN', 'PROPN', 'ADP', 'ADJ', 'PROPN', 'NOUN', 'VERB', 'NUM', 'NOUN', 'PROPN', 'PROPN', 'PROPN', 'PUNCT']\n",
      "SIMILAR SENTENCE NR 1\n",
      "\t The UK’s biggest export market is Germany.\n",
      "\t ['DET', 'PROPN', 'PART', 'ADJ', 'NOUN', 'NOUN', 'AUX', 'PROPN', 'PUNCT']\n",
      "SIMILAR SENTENCE NR 2\n",
      "\t The UK parliament has 1458 members.\n",
      "\t ['DET', 'PROPN', 'NOUN', 'VERB', 'NUM', 'NOUN', 'PUNCT']\n",
      "SIMILAR SENTENCE NR 3\n",
      "\t South Africa’s national average water loss is 37%.\n",
      "\t ['PROPN', 'PROPN', 'PART', 'ADJ', 'ADJ', 'NOUN', 'NOUN', 'AUX', 'NUM', 'NOUN', 'PUNCT']\n",
      "--------------------------\n",
      "ORIGINAL SENTENCE:\n",
      "\t \"The ice caps were going to melt, they were going to be gone by now, but now they’re setting records, so OK, they’re at a record level.\"\n",
      "\t ['PUNCT', 'DET', 'NOUN', 'NOUN', 'AUX', 'VERB', 'PART', 'VERB', 'PUNCT', 'PRON', 'AUX', 'VERB', 'PART', 'AUX', 'VERB', 'ADP', 'ADV', 'PUNCT', 'CCONJ', 'ADV', 'PRON', 'AUX', 'VERB', 'NOUN', 'PUNCT', 'ADV', 'INTJ', 'PUNCT', 'PRON', 'VERB', 'ADP', 'DET', 'NOUN', 'NOUN', 'PUNCT', 'PUNCT']\n",
      "SIMILAR SENTENCE NR 1\n",
      "\t \"The ice caps were going to melt, they were going to be gone by now, but now they’re setting records, so okay, they’re at a record level.\"\n",
      "\t ['PUNCT', 'DET', 'NOUN', 'NOUN', 'AUX', 'VERB', 'PART', 'VERB', 'PUNCT', 'PRON', 'AUX', 'VERB', 'PART', 'AUX', 'VERB', 'ADP', 'ADV', 'PUNCT', 'CCONJ', 'ADV', 'PRON', 'AUX', 'VERB', 'NOUN', 'PUNCT', 'ADV', 'INTJ', 'PUNCT', 'PRON', 'VERB', 'ADP', 'DET', 'NOUN', 'NOUN', 'PUNCT', 'PUNCT']\n",
      "SIMILAR SENTENCE NR 2\n",
      "\t \"The ice caps were going to melt, they were going to be gone by now, but now they’re setting records, so OK, they’re at a record level.\"\n",
      "\t ['PUNCT', 'DET', 'NOUN', 'NOUN', 'AUX', 'VERB', 'PART', 'VERB', 'PUNCT', 'PRON', 'AUX', 'VERB', 'PART', 'AUX', 'VERB', 'ADP', 'ADV', 'PUNCT', 'CCONJ', 'ADV', 'PRON', 'AUX', 'VERB', 'NOUN', 'PUNCT', 'ADV', 'INTJ', 'PUNCT', 'PRON', 'VERB', 'ADP', 'DET', 'NOUN', 'NOUN', 'PUNCT', 'PUNCT']\n",
      "SIMILAR SENTENCE NR 3\n",
      "\t \"The ice caps were going to melt, they were going to be gone by now, but now they’re setting records, so okay, they’re at a record level.\"\n",
      "\t ['PUNCT', 'DET', 'NOUN', 'NOUN', 'AUX', 'VERB', 'PART', 'VERB', 'PUNCT', 'PRON', 'AUX', 'VERB', 'PART', 'AUX', 'VERB', 'ADP', 'ADV', 'PUNCT', 'CCONJ', 'ADV', 'PRON', 'AUX', 'VERB', 'NOUN', 'PUNCT', 'ADV', 'INTJ', 'PUNCT', 'PRON', 'VERB', 'ADP', 'DET', 'NOUN', 'NOUN', 'PUNCT', 'PUNCT']\n",
      "--------------------------\n",
      "ORIGINAL SENTENCE:\n",
      "\t \"Parents and teachers are already worrying about what they call the ‘Trump Effect.’ They report that bullying and harassment are on the rise in our schools, especially targeting students of color, Muslims and immigrants.\"\n",
      "\t ['PUNCT', 'NOUN', 'CCONJ', 'NOUN', 'AUX', 'ADV', 'VERB', 'ADP', 'PRON', 'PRON', 'VERB', 'DET', 'PUNCT', 'PROPN', 'PROPN', 'PUNCT', 'PUNCT', 'PRON', 'VERB', 'SCONJ', 'NOUN', 'CCONJ', 'NOUN', 'AUX', 'ADP', 'DET', 'NOUN', 'ADP', 'PRON', 'NOUN', 'PUNCT', 'ADV', 'VERB', 'NOUN', 'ADP', 'NOUN', 'PUNCT', 'PROPN', 'CCONJ', 'NOUN', 'PUNCT', 'PUNCT']\n",
      "SIMILAR SENTENCE NR 1\n",
      "\t \"Parents and teachers are already worrying about what they call the ‘Trump Effect.’ They report that bullying and harassment are on the rise in our schools, especially targeting students of color, Muslims and immigrants.\"\n",
      "\t ['PUNCT', 'NOUN', 'CCONJ', 'NOUN', 'AUX', 'ADV', 'VERB', 'ADP', 'PRON', 'PRON', 'VERB', 'DET', 'PUNCT', 'PROPN', 'PROPN', 'PUNCT', 'PUNCT', 'PRON', 'VERB', 'SCONJ', 'NOUN', 'CCONJ', 'NOUN', 'AUX', 'ADP', 'DET', 'NOUN', 'ADP', 'PRON', 'NOUN', 'PUNCT', 'ADV', 'VERB', 'NOUN', 'ADP', 'NOUN', 'PUNCT', 'PROPN', 'CCONJ', 'NOUN', 'PUNCT', 'PUNCT']\n",
      "SIMILAR SENTENCE NR 2\n",
      "\t \"Parents and teachers are already worrying about what they call the ‘Trump Effect.’ They report that bullying and harassment are on the rise in our schools, especially targeting students of color, Muslims and immigrants.\"\n",
      "\t ['PUNCT', 'NOUN', 'CCONJ', 'NOUN', 'AUX', 'ADV', 'VERB', 'ADP', 'PRON', 'PRON', 'VERB', 'DET', 'PUNCT', 'PROPN', 'PROPN', 'PUNCT', 'PUNCT', 'PRON', 'VERB', 'SCONJ', 'NOUN', 'CCONJ', 'NOUN', 'AUX', 'ADP', 'DET', 'NOUN', 'ADP', 'PRON', 'NOUN', 'PUNCT', 'ADV', 'VERB', 'NOUN', 'ADP', 'NOUN', 'PUNCT', 'PROPN', 'CCONJ', 'NOUN', 'PUNCT', 'PUNCT']\n",
      "SIMILAR SENTENCE NR 3\n",
      "\t Searches do not yield any results for a 'Spain Medical Doctors Association.' Velma Dinkley, who is cited in the quote, is a fictional character in the Scooby-Doo franchise.\n",
      "\t ['NOUN', 'AUX', 'PART', 'VERB', 'DET', 'NOUN', 'ADP', 'DET', 'PUNCT', 'PROPN', 'PROPN', 'PROPN', 'PROPN', 'PUNCT', 'PUNCT', 'PROPN', 'PROPN', 'PUNCT', 'PRON', 'AUX', 'VERB', 'ADP', 'DET', 'NOUN', 'PUNCT', 'AUX', 'DET', 'ADJ', 'NOUN', 'ADP', 'DET', 'PROPN', 'PUNCT', 'PROPN', 'NOUN', 'PUNCT']\n",
      "--------------------------\n",
      "ORIGINAL SENTENCE:\n",
      "\t For immigrants with visa overstays, \"we make no effort to hold them accountable to that or uphold the law.\"\n",
      "\t ['ADP', 'NOUN', 'ADP', 'NOUN', 'NOUN', 'PUNCT', 'PUNCT', 'PRON', 'VERB', 'DET', 'NOUN', 'PART', 'VERB', 'PRON', 'ADJ', 'ADP', 'PRON', 'CCONJ', 'VERB', 'DET', 'NOUN', 'PUNCT', 'PUNCT']\n",
      "SIMILAR SENTENCE NR 1\n",
      "\t For immigrants with visa overstays, \"we make no effort to hold them accountable to that or uphold the law.\"\n",
      "\t ['ADP', 'NOUN', 'ADP', 'NOUN', 'NOUN', 'PUNCT', 'PUNCT', 'PRON', 'VERB', 'DET', 'NOUN', 'PART', 'VERB', 'PRON', 'ADJ', 'ADP', 'PRON', 'CCONJ', 'VERB', 'DET', 'NOUN', 'PUNCT', 'PUNCT']\n",
      "SIMILAR SENTENCE NR 2\n",
      "\t For immigrants with visa overstays, \"we make no effort to hold them accountable to that or uphold the law.\"\n",
      "\t ['ADP', 'NOUN', 'ADP', 'NOUN', 'NOUN', 'PUNCT', 'PUNCT', 'PRON', 'VERB', 'DET', 'NOUN', 'PART', 'VERB', 'PRON', 'ADJ', 'ADP', 'PRON', 'CCONJ', 'VERB', 'DET', 'NOUN', 'PUNCT', 'PUNCT']\n",
      "SIMILAR SENTENCE NR 3\n",
      "\t Jain community of Surat, Gujarat hired a helicopter to rescue a bird stuck on a power line.\n",
      "\t ['PROPN', 'NOUN', 'ADP', 'PROPN', 'PUNCT', 'PROPN', 'VERB', 'DET', 'NOUN', 'PART', 'VERB', 'DET', 'NOUN', 'VERB', 'ADP', 'DET', 'NOUN', 'NOUN', 'PUNCT']\n",
      "--------------------------\n"
     ]
    },
    {
     "name": "stdout",
     "output_type": "stream",
     "text": [
      "ORIGINAL SENTENCE:\n",
      "\t On whether NATO is \"obsolete.\"\n",
      "\t ['ADP', 'SCONJ', 'PROPN', 'AUX', 'PUNCT', 'ADJ', 'PUNCT', 'PUNCT']\n",
      "SIMILAR SENTENCE NR 1\n",
      "\t On whether NATO is \"obsolete.\"\n",
      "\t ['ADP', 'SCONJ', 'PROPN', 'AUX', 'PUNCT', 'ADJ', 'PUNCT', 'PUNCT']\n",
      "SIMILAR SENTENCE NR 2\n",
      "\t On whether NATO is \"obsolete.\"\n",
      "\t ['ADP', 'SCONJ', 'PROPN', 'AUX', 'PUNCT', 'ADJ', 'PUNCT', 'PUNCT']\n",
      "SIMILAR SENTENCE NR 3\n",
      "\t The mRNA Covid-19 vaccines are experimental.\n",
      "\t ['DET', 'PROPN', 'PROPN', 'NOUN', 'AUX', 'ADJ', 'PUNCT']\n",
      "--------------------------\n",
      "ORIGINAL SENTENCE:\n",
      "\t The high-dose Fluzone vaccine caused the deaths of 23 senior citizens during a clinical trial.\n",
      "\t ['DET', 'ADV', 'PUNCT', 'NOUN', 'PROPN', 'NOUN', 'VERB', 'DET', 'NOUN', 'ADP', 'NUM', 'ADJ', 'NOUN', 'ADP', 'DET', 'ADJ', 'NOUN', 'PUNCT']\n",
      "SIMILAR SENTENCE NR 1\n",
      "\t The BBC altered the headline on the front page of a Scottish newspaper.\n",
      "\t ['DET', 'PROPN', 'VERB', 'DET', 'NOUN', 'ADP', 'DET', 'ADJ', 'NOUN', 'ADP', 'DET', 'ADJ', 'NOUN', 'PUNCT']\n",
      "SIMILAR SENTENCE NR 2\n",
      "\t A bottle of hand sanitiser may start a fire in one’s car on a hot day.\n",
      "\t ['DET', 'NOUN', 'ADP', 'NOUN', 'NOUN', 'AUX', 'VERB', 'DET', 'NOUN', 'ADP', 'NUM', 'PRON', 'NOUN', 'ADP', 'DET', 'ADJ', 'NOUN', 'PUNCT']\n",
      "SIMILAR SENTENCE NR 3\n",
      "\t A blog site reported the demise of a trial volunteer of a potential COVID-19 treatment.\n",
      "\t ['DET', 'NOUN', 'NOUN', 'VERB', 'DET', 'NOUN', 'ADP', 'DET', 'NOUN', 'NOUN', 'ADP', 'DET', 'ADJ', 'NOUN', 'NOUN', 'PUNCT']\n",
      "--------------------------\n",
      "ORIGINAL SENTENCE:\n",
      "\t Video of volcanic eruption in DRC\n",
      "\t ['NOUN', 'ADP', 'ADJ', 'NOUN', 'ADP', 'PROPN']\n",
      "SIMILAR SENTENCE NR 1\n",
      "\t Pictures of fresh xenophobic attacks in South Africa\n",
      "\t ['NOUN', 'ADP', 'ADJ', 'ADJ', 'NOUN', 'ADP', 'PROPN', 'PROPN']\n",
      "SIMILAR SENTENCE NR 2\n",
      "\t Video of Chinese rocket landing in Indian Ocean\n",
      "\t ['NOUN', 'ADP', 'ADJ', 'NOUN', 'NOUN', 'ADP', 'PROPN', 'PROPN']\n",
      "SIMILAR SENTENCE NR 3\n",
      "\t Destruction after recent earthquake in Indonesia\n",
      "\t ['NOUN', 'ADP', 'ADJ', 'NOUN', 'ADP', 'PROPN']\n",
      "--------------------------\n",
      "ORIGINAL SENTENCE:\n",
      "\t An MSNBC producer quit her job with a scathing letter calling the network a &quot;cancer.&quot;\n",
      "\t ['DET', 'PROPN', 'NOUN', 'VERB', 'PRON', 'NOUN', 'ADP', 'DET', 'ADJ', 'NOUN', 'VERB', 'DET', 'NOUN', 'PROPN', 'CCONJ', 'PROPN', 'PUNCT']\n",
      "SIMILAR SENTENCE NR 1\n",
      "\t A sign shows an anti-lockdown protester carrying a sign reading &quot;Social Distancing = Communism.&quot;\n",
      "\t ['DET', 'NOUN', 'VERB', 'DET', 'ADJ', 'ADJ', 'ADJ', 'NOUN', 'VERB', 'DET', 'NOUN', 'NOUN', 'CCONJ', 'PROPN', 'PROPN', 'PROPN', 'PROPN', 'PUNCT']\n",
      "SIMILAR SENTENCE NR 2\n",
      "\t A cop car&#039;s dashcam captured footage of a handcuffed man saving a choking police officer&#039;s life.\n",
      "\t ['DET', 'NOUN', 'PROPN', 'NOUN', 'VERB', 'NOUN', 'ADP', 'DET', 'ADJ', 'NOUN', 'VERB', 'DET', 'VERB', 'NOUN', 'VERB', 'NOUN', 'PUNCT']\n",
      "SIMILAR SENTENCE NR 3\n",
      "\t A picture shows the Queen as a young girl doing a Nazi salute.\n",
      "\t ['DET', 'NOUN', 'VERB', 'DET', 'PROPN', 'ADP', 'DET', 'ADJ', 'NOUN', 'VERB', 'DET', 'PROPN', 'NOUN', 'PUNCT']\n",
      "--------------------------\n",
      "ORIGINAL SENTENCE:\n",
      "\t Kenya's death penalty for wildlife poachers\n",
      "\t ['PROPN', 'PART', 'NOUN', 'NOUN', 'ADP', 'NOUN', 'NOUN']\n",
      "SIMILAR SENTENCE NR 1\n",
      "\t Ontario driver's licence photo with niqab\n",
      "\t ['PROPN', 'NOUN', 'PART', 'NOUN', 'NOUN', 'ADP', 'NOUN']\n",
      "SIMILAR SENTENCE NR 2\n",
      "\t Mumbai under threat after terror attack\n",
      "\t ['PROPN', 'ADP', 'NOUN', 'ADP', 'NOUN', 'NOUN']\n",
      "SIMILAR SENTENCE NR 3\n",
      "\t Cuchillas en parques infantiles en Zaragoza\n",
      "\t ['PROPN', 'ADP', 'NOUN', 'NOUN', 'ADP', 'NOUN']\n",
      "--------------------------\n",
      "ORIGINAL SENTENCE:\n",
      "\t Muslims claimed that they need a pork-free menu or that they would leave the US.\n",
      "\t ['PROPN', 'VERB', 'SCONJ', 'PRON', 'VERB', 'DET', 'NOUN', 'PUNCT', 'ADJ', 'NOUN', 'CCONJ', 'SCONJ', 'PRON', 'AUX', 'VERB', 'DET', 'PROPN', 'PUNCT']\n",
      "SIMILAR SENTENCE NR 1\n",
      "\t Rahul Gandhi tweeted asking why Neeraj Chopra stood at the second position while he won a gold medal.\n",
      "\t ['PROPN', 'PROPN', 'VERB', 'VERB', 'SCONJ', 'PROPN', 'PROPN', 'VERB', 'ADP', 'DET', 'ADJ', 'NOUN', 'SCONJ', 'PRON', 'VERB', 'DET', 'NOUN', 'NOUN', 'PUNCT']\n",
      "SIMILAR SENTENCE NR 2\n",
      "\t Video claims that Ashraf Ali stabbed a class 8th girl when she opposed love jihad\n",
      "\t ['NOUN', 'VERB', 'SCONJ', 'PROPN', 'PROPN', 'VERB', 'DET', 'NOUN', 'ADJ', 'NOUN', 'SCONJ', 'PRON', 'VERB', 'NOUN', 'NOUN']\n",
      "SIMILAR SENTENCE NR 3\n",
      "\t Southern Cross Insurance will not pay out on life and medical insurance policies if one has had a COVID-19 vaccine.\n",
      "\t ['PROPN', 'PROPN', 'PROPN', 'AUX', 'PART', 'VERB', 'ADP', 'ADP', 'NOUN', 'CCONJ', 'ADJ', 'NOUN', 'NOUN', 'SCONJ', 'PRON', 'AUX', 'VERB', 'DET', 'PROPN', 'NOUN', 'PUNCT']\n",
      "--------------------------\n",
      "ORIGINAL SENTENCE:\n",
      "\t Pictured of planes at 2021 G7 summit\n",
      "\t ['VERB', 'ADP', 'NOUN', 'ADP', 'NUM', 'PROPN', 'NOUN']\n",
      "SIMILAR SENTENCE NR 1\n",
      "\t Coronavirus remains in throat for 4 days\n",
      "\t ['PROPN', 'VERB', 'ADP', 'NOUN', 'ADP', 'NUM', 'NOUN']\n",
      "SIMILAR SENTENCE NR 2\n",
      "\t Trudeau went to Barbados during 2020 holiday season\n",
      "\t ['PROPN', 'VERB', 'ADP', 'NOUN', 'ADP', 'NUM', 'NOUN', 'NOUN']\n",
      "SIMILAR SENTENCE NR 3\n",
      "\t Princes caught in orgy with seven men\n",
      "\t ['NOUN', 'VERB', 'ADP', 'NOUN', 'ADP', 'NUM', 'NOUN']\n",
      "--------------------------\n",
      "ORIGINAL SENTENCE:\n",
      "\t A photograph shows five people atop a skyscraper spire.\n",
      "\t ['DET', 'NOUN', 'VERB', 'NUM', 'NOUN', 'ADP', 'DET', 'NOUN', 'NOUN', 'PUNCT']\n",
      "SIMILAR SENTENCE NR 1\n",
      "\t The Netherlands has 600 eco bridges for animals.\n",
      "\t ['DET', 'PROPN', 'VERB', 'NUM', 'NOUN', 'NOUN', 'ADP', 'NOUN', 'PUNCT']\n",
      "SIMILAR SENTENCE NR 2\n",
      "\t Remember the judiciary sits six days in a week …\n",
      "\t ['VERB', 'DET', 'NOUN', 'VERB', 'NUM', 'NOUN', 'ADP', 'DET', 'NOUN', 'PUNCT']\n",
      "SIMILAR SENTENCE NR 3\n",
      "\t All Commonwealth countries take 9% of UK exports.\n",
      "\t ['DET', 'PROPN', 'NOUN', 'VERB', 'NUM', 'NOUN', 'ADP', 'PROPN', 'NOUN', 'PUNCT']\n",
      "--------------------------\n",
      "ORIGINAL SENTENCE:\n",
      "\t Video shows Uddhav Thackeray asked Christians to pray to Jesus to end the COVID-19 crisis\n",
      "\t ['NOUN', 'VERB', 'PROPN', 'PROPN', 'VERB', 'PROPN', 'PART', 'VERB', 'ADP', 'PROPN', 'PART', 'VERB', 'DET', 'NOUN', 'NOUN']\n",
      "SIMILAR SENTENCE NR 1\n",
      "\t Photo shows China sends doctors to Malaysia to help fight COVID-19\n",
      "\t ['NOUN', 'VERB', 'PROPN', 'VERB', 'NOUN', 'ADP', 'PROPN', 'PART', 'VERB', 'VERB', 'NOUN']\n",
      "SIMILAR SENTENCE NR 2\n",
      "\t Video showing Sheila Dikshit pleading to the crowd not to leave the venue\n",
      "\t ['NOUN', 'VERB', 'PROPN', 'PROPN', 'VERB', 'ADP', 'DET', 'NOUN', 'PART', 'PART', 'VERB', 'DET', 'NOUN']\n",
      "SIMILAR SENTENCE NR 3\n",
      "\t Photo Shows Condoms Found Near Shaheen Bagh By Municipal Workers While Cleaning A Drain\n",
      "\t ['NOUN', 'VERB', 'NOUN', 'VERB', 'PROPN', 'PROPN', 'PROPN', 'ADP', 'PROPN', 'PROPN', 'SCONJ', 'VERB', 'DET', 'NOUN']\n",
      "--------------------------\n",
      "ORIGINAL SENTENCE:\n",
      "\t Boris Johnson said he is \"in favour of having people of colour come to this country\"\n",
      "\t ['PROPN', 'PROPN', 'VERB', 'PRON', 'AUX', 'PUNCT', 'ADP', 'NOUN', 'ADP', 'VERB', 'NOUN', 'ADP', 'NOUN', 'VERB', 'ADP', 'DET', 'NOUN', 'PUNCT']\n",
      "SIMILAR SENTENCE NR 1\n",
      "\t Monkee Mike Nesmith took up playing the guitar to regain dexterity in fingers injured by a firecracker explosion.\n",
      "\t ['PROPN', 'PROPN', 'PROPN', 'VERB', 'ADP', 'VERB', 'DET', 'NOUN', 'PART', 'VERB', 'NOUN', 'ADP', 'NOUN', 'VERB', 'ADP', 'DET', 'NOUN', 'NOUN', 'PUNCT']\n",
      "SIMILAR SENTENCE NR 2\n",
      "\t Man being thrashed during lockdown as a result of hatred fuelled by the media.\n",
      "\t ['NOUN', 'AUX', 'VERB', 'ADP', 'NOUN', 'ADP', 'DET', 'NOUN', 'ADP', 'NOUN', 'VERB', 'ADP', 'DET', 'NOUN', 'PUNCT']\n",
      "SIMILAR SENTENCE NR 3\n",
      "\t NASA said there is a possibility of the sun rising in the west.\n",
      "\t ['PROPN', 'VERB', 'PRON', 'VERB', 'DET', 'NOUN', 'ADP', 'DET', 'NOUN', 'VERB', 'ADP', 'DET', 'NOUN', 'PUNCT']\n",
      "--------------------------\n",
      "ORIGINAL SENTENCE:\n",
      "\t The Conservatives are giving a record £14 billion to schools.\n",
      "\t ['DET', 'PROPN', 'AUX', 'VERB', 'DET', 'NOUN', 'SYM', 'NUM', 'NUM', 'ADP', 'NOUN', 'PUNCT']\n",
      "SIMILAR SENTENCE NR 1\n",
      "\t The UK gives the EU £12 billion per year.\n",
      "\t ['DET', 'PROPN', 'VERB', 'DET', 'PROPN', 'SYM', 'NUM', 'NUM', 'ADP', 'NOUN', 'PUNCT']\n",
      "SIMILAR SENTENCE NR 2\n",
      "\t The Chinese have built a railway station in nine hours.\n",
      "\t ['DET', 'PROPN', 'AUX', 'VERB', 'DET', 'NOUN', 'NOUN', 'ADP', 'NUM', 'NOUN', 'PUNCT']\n",
      "SIMILAR SENTENCE NR 3\n",
      "\t Jeremy Corbyn will cost every British worker £2,400 per year.\n",
      "\t ['PROPN', 'PROPN', 'AUX', 'VERB', 'DET', 'ADJ', 'NOUN', 'SYM', 'NUM', 'ADP', 'NOUN', 'PUNCT']\n",
      "--------------------------\n"
     ]
    },
    {
     "name": "stdout",
     "output_type": "stream",
     "text": [
      "ORIGINAL SENTENCE:\n",
      "\t Bill and Hillary Clinton were kidnapped and murdered by ISIS\n",
      "\t ['PROPN', 'CCONJ', 'PROPN', 'PROPN', 'AUX', 'VERB', 'CCONJ', 'VERB', 'ADP', 'PROPN']\n",
      "SIMILAR SENTENCE NR 1\n",
      "\t Bill and Hillary Clinton were kidnapped and murdered by ISIS\n",
      "\t ['PROPN', 'CCONJ', 'PROPN', 'PROPN', 'AUX', 'VERB', 'CCONJ', 'VERB', 'ADP', 'PROPN']\n",
      "SIMILAR SENTENCE NR 2\n",
      "\t Ramayana and Mahabharata will be taught in Saudi Arabia\n",
      "\t ['PROPN', 'CCONJ', 'PROPN', 'AUX', 'AUX', 'VERB', 'ADP', 'PROPN', 'PROPN']\n",
      "SIMILAR SENTENCE NR 3\n",
      "\t Cow Dung and Cow Urine can cure and prevent COVID-19\n",
      "\t ['PROPN', 'PROPN', 'CCONJ', 'PROPN', 'PROPN', 'AUX', 'VERB', 'CCONJ', 'VERB', 'NOUN']\n",
      "--------------------------\n",
      "ORIGINAL SENTENCE:\n",
      "\t Says \"immigrants start businesses at a faster rate; they seem to grow those businesses more successfully.\"\n",
      "\t ['VERB', 'PUNCT', 'NOUN', 'VERB', 'NOUN', 'ADP', 'DET', 'ADJ', 'NOUN', 'PUNCT', 'PRON', 'VERB', 'PART', 'VERB', 'DET', 'NOUN', 'ADV', 'ADV', 'PUNCT', 'PUNCT']\n",
      "SIMILAR SENTENCE NR 1\n",
      "\t Says \"immigrants start businesses at a faster rate; they seem to grow those businesses more successfully.\"\n",
      "\t ['VERB', 'PUNCT', 'NOUN', 'VERB', 'NOUN', 'ADP', 'DET', 'ADJ', 'NOUN', 'PUNCT', 'PRON', 'VERB', 'PART', 'VERB', 'DET', 'NOUN', 'ADV', 'ADV', 'PUNCT', 'PUNCT']\n",
      "SIMILAR SENTENCE NR 2\n",
      "\t The party with the most MPs gets to form the government.\n",
      "\t ['DET', 'NOUN', 'ADP', 'DET', 'ADJ', 'NOUN', 'VERB', 'PART', 'VERB', 'DET', 'NOUN', 'PUNCT']\n",
      "SIMILAR SENTENCE NR 3\n",
      "\t \"YouTube witness makes shocking admission on live TV. CNN pulls plug immediately\"\n",
      "\t ['PUNCT', 'PROPN', 'NOUN', 'VERB', 'ADJ', 'NOUN', 'ADP', 'ADJ', 'NOUN', 'PUNCT', 'PROPN', 'NOUN', 'VERB', 'ADV', 'PUNCT']\n",
      "--------------------------\n",
      "ORIGINAL SENTENCE:\n",
      "\t President Obama plans to stand in the Kenyan presidential elections.\n",
      "\t ['PROPN', 'PROPN', 'VERB', 'PART', 'VERB', 'ADP', 'DET', 'ADJ', 'ADJ', 'NOUN', 'PUNCT']\n",
      "SIMILAR SENTENCE NR 1\n",
      "\t Bajrang Dal protesting against the new agricultural laws.\n",
      "\t ['PROPN', 'PROPN', 'VERB', 'ADP', 'DET', 'ADJ', 'ADJ', 'NOUN', 'PUNCT']\n",
      "SIMILAR SENTENCE NR 2\n",
      "\t Rahul Gandhi fell down on a flat surface.\n",
      "\t ['PROPN', 'PROPN', 'VERB', 'ADP', 'ADP', 'DET', 'ADJ', 'NOUN', 'PUNCT']\n",
      "SIMILAR SENTENCE NR 3\n",
      "\t National Insurance Contributions are being used to reduce the national debt.\n",
      "\t ['PROPN', 'PROPN', 'PROPN', 'AUX', 'AUX', 'VERB', 'PART', 'VERB', 'DET', 'ADJ', 'NOUN', 'PUNCT']\n",
      "--------------------------\n",
      "ORIGINAL SENTENCE:\n",
      "\t Total university enrollment was “around 300,000” in 1994\n",
      "\t ['ADJ', 'NOUN', 'NOUN', 'AUX', 'PUNCT', 'ADV', 'NUM', 'PUNCT', 'ADP', 'NUM']\n",
      "SIMILAR SENTENCE NR 1\n",
      "\t face coverings are “no longer mandatory” in Ohio\n",
      "\t ['NOUN', 'NOUN', 'AUX', 'PUNCT', 'ADV', 'ADV', 'ADJ', 'PUNCT', 'ADP', 'PROPN']\n",
      "SIMILAR SENTENCE NR 2\n",
      "\t Photos taken ‘circa 1700’ in Indonesia\n",
      "\t ['NOUN', 'VERB', 'PUNCT', 'NOUN', 'NUM', 'PUNCT', 'ADP', 'PROPN']\n",
      "SIMILAR SENTENCE NR 3\n",
      "\t Reef sharks are becoming “functionally extinct.&quot;\n",
      "\t ['ADJ', 'NOUN', 'AUX', 'VERB', 'PUNCT', 'ADV', 'ADJ', 'PUNCT']\n",
      "--------------------------\n",
      "ORIGINAL SENTENCE:\n",
      "\t Obese Woman Arrested For Starving Her 7 Kids: \"There Was Only Enough Food For Me\"\n",
      "\t ['PROPN', 'NOUN', 'VERB', 'ADP', 'VERB', 'PRON', 'NUM', 'PROPN', 'PUNCT', 'PUNCT', 'PRON', 'VERB', 'ADV', 'ADJ', 'NOUN', 'ADP', 'PRON', 'PUNCT']\n",
      "SIMILAR SENTENCE NR 1\n",
      "\t Obese Woman Arrested For Starving Her 7 Kids: \"There Was Only Enough Food For Me\"\n",
      "\t ['PROPN', 'NOUN', 'VERB', 'ADP', 'VERB', 'PRON', 'NUM', 'PROPN', 'PUNCT', 'PUNCT', 'PRON', 'VERB', 'ADV', 'ADJ', 'NOUN', 'ADP', 'PRON', 'PUNCT']\n",
      "SIMILAR SENTENCE NR 2\n",
      "\t India wins gold at Tokyo Olympics. Priya Malik wins the first gold medal in wrestling.\n",
      "\t ['PROPN', 'VERB', 'NOUN', 'ADP', 'PROPN', 'PROPN', 'PUNCT', 'PROPN', 'PROPN', 'VERB', 'DET', 'ADJ', 'NOUN', 'NOUN', 'ADP', 'NOUN', 'PUNCT']\n",
      "SIMILAR SENTENCE NR 3\n",
      "\t UNESCO declared Islam ‘most peaceful religion in world'\n",
      "\t ['PROPN', 'VERB', 'PROPN', 'PUNCT', 'ADV', 'ADJ', 'NOUN', 'ADP', 'NOUN', 'PUNCT']\n",
      "--------------------------\n",
      "ORIGINAL SENTENCE:\n",
      "\t A record number of Britons are now in work.\n",
      "\t ['DET', 'NOUN', 'NOUN', 'ADP', 'NOUN', 'AUX', 'ADV', 'ADP', 'NOUN', 'PUNCT']\n",
      "SIMILAR SENTENCE NR 1\n",
      "\t Some government buildings in London are operating under sharia law.\n",
      "\t ['DET', 'NOUN', 'NOUN', 'ADP', 'PROPN', 'AUX', 'VERB', 'ADP', 'NOUN', 'NOUN', 'PUNCT']\n",
      "SIMILAR SENTENCE NR 2\n",
      "\t A mountain of gold has been discovered in Congo?\n",
      "\t ['DET', 'NOUN', 'ADP', 'NOUN', 'AUX', 'AUX', 'VERB', 'ADP', 'PROPN', 'PUNCT']\n",
      "SIMILAR SENTENCE NR 3\n",
      "\t the unemployment rate in Edo state is now 19%.\n",
      "\t ['DET', 'NOUN', 'NOUN', 'ADP', 'PROPN', 'NOUN', 'AUX', 'ADV', 'NUM', 'NOUN', 'PUNCT']\n",
      "--------------------------\n",
      "ORIGINAL SENTENCE:\n",
      "\t claims a patent for a COVID-19 testing system was issued in 2015.\n",
      "\t ['VERB', 'DET', 'NOUN', 'ADP', 'DET', 'NOUN', 'NOUN', 'NOUN', 'AUX', 'VERB', 'ADP', 'NUM', 'PUNCT']\n",
      "SIMILAR SENTENCE NR 1\n",
      "\t A vaccine for coronavirus was made in 2001.\n",
      "\t ['DET', 'NOUN', 'ADP', 'NOUN', 'AUX', 'VERB', 'ADP', 'NUM', 'PUNCT']\n",
      "SIMILAR SENTENCE NR 2\n",
      "\t A patent claim for COVID-19 testing was filed in 2015.\n",
      "\t ['DET', 'NOUN', 'NOUN', 'ADP', 'PROPN', 'NOUN', 'AUX', 'VERB', 'ADP', 'NUM', 'PUNCT']\n",
      "SIMILAR SENTENCE NR 3\n",
      "\t The vandalization of the temple was done by Muslims.\n",
      "\t ['DET', 'NOUN', 'ADP', 'DET', 'NOUN', 'AUX', 'VERB', 'ADP', 'PROPN', 'PUNCT']\n",
      "--------------------------\n",
      "ORIGINAL SENTENCE:\n",
      "\t \"The Texas unemployment rate is now the lowest it’s been in 40 years & Texas led the nation last month in new job creation.\"\n",
      "\t ['PUNCT', 'DET', 'PROPN', 'NOUN', 'NOUN', 'AUX', 'ADV', 'DET', 'ADJ', 'PRON', 'AUX', 'AUX', 'ADP', 'NUM', 'NOUN', 'CCONJ', 'PROPN', 'VERB', 'DET', 'NOUN', 'ADJ', 'NOUN', 'ADP', 'ADJ', 'NOUN', 'NOUN', 'PUNCT', 'PUNCT']\n",
      "SIMILAR SENTENCE NR 1\n",
      "\t \"The Texas unemployment rate is now the lowest it’s been in 40 years & Texas led the nation last month in new job creation.\"\n",
      "\t ['PUNCT', 'DET', 'PROPN', 'NOUN', 'NOUN', 'AUX', 'ADV', 'DET', 'ADJ', 'PRON', 'AUX', 'AUX', 'ADP', 'NUM', 'NOUN', 'CCONJ', 'PROPN', 'VERB', 'DET', 'NOUN', 'ADJ', 'NOUN', 'ADP', 'ADJ', 'NOUN', 'NOUN', 'PUNCT', 'PUNCT']\n",
      "SIMILAR SENTENCE NR 2\n",
      "\t “This growth is well above the sub-Saharan Africa region average growth of 3% and the global average of 3.6%.”\n",
      "\t ['PUNCT', 'DET', 'NOUN', 'AUX', 'ADV', 'ADP', 'DET', 'ADJ', 'ADJ', 'ADJ', 'PROPN', 'NOUN', 'ADJ', 'NOUN', 'ADP', 'NUM', 'NOUN', 'CCONJ', 'DET', 'ADJ', 'NOUN', 'ADP', 'NUM', 'NOUN', 'PUNCT', 'PUNCT']\n",
      "SIMILAR SENTENCE NR 3\n",
      "\t An Ohio man died from complications related to the COVID-19 coronavirus disease weeks after he downplayed the virus on social media.\n",
      "\t ['DET', 'PROPN', 'NOUN', 'VERB', 'ADP', 'NOUN', 'VERB', 'ADP', 'DET', 'PROPN', 'PROPN', 'NOUN', 'NOUN', 'SCONJ', 'PRON', 'VERB', 'DET', 'NOUN', 'ADP', 'ADJ', 'NOUN', 'PUNCT']\n",
      "--------------------------\n",
      "ORIGINAL SENTENCE:\n",
      "\t Dominion servers gave Biden votes in Georgia\n",
      "\t ['NOUN', 'NOUN', 'VERB', 'PROPN', 'NOUN', 'ADP', 'PROPN']\n",
      "SIMILAR SENTENCE NR 1\n",
      "\t Post identifying Delhi shooter as Anurag Mishra\n",
      "\t ['NOUN', 'VERB', 'PROPN', 'NOUN', 'ADP', 'PROPN', 'PROPN']\n",
      "SIMILAR SENTENCE NR 2\n",
      "\t Photos show forced Covid-19 vaccinations in Peru\n",
      "\t ['NOUN', 'VERB', 'VERB', 'PROPN', 'NOUN', 'ADP', 'PROPN']\n",
      "SIMILAR SENTENCE NR 3\n",
      "\t Video shows US drone strike on Iranian General Soleimani\n",
      "\t ['NOUN', 'VERB', 'PROPN', 'NOUN', 'NOUN', 'ADP', 'PROPN', 'PROPN', 'PROPN']\n",
      "--------------------------\n",
      "ORIGINAL SENTENCE:\n",
      "\t Photo shows a woman committed suicide and killed her children because of the lockdown\n",
      "\t ['NOUN', 'VERB', 'DET', 'NOUN', 'VERB', 'NOUN', 'CCONJ', 'VERB', 'PRON', 'NOUN', 'SCONJ', 'ADP', 'DET', 'NOUN']\n",
      "SIMILAR SENTENCE NR 1\n",
      "\t Video shows a boy dying while being given birthday bumps by friends\n",
      "\t ['NOUN', 'VERB', 'DET', 'NOUN', 'VERB', 'SCONJ', 'AUX', 'VERB', 'NOUN', 'NOUN', 'ADP', 'NOUN']\n",
      "SIMILAR SENTENCE NR 2\n",
      "\t USA discovers the man who manufactured and sold coronavirus to China\n",
      "\t ['PROPN', 'VERB', 'DET', 'NOUN', 'PRON', 'VERB', 'CCONJ', 'VERB', 'NOUN', 'ADP', 'PROPN']\n",
      "SIMILAR SENTENCE NR 3\n",
      "\t USA discovers the man who manufactured and sold coronavirus to China\n",
      "\t ['PROPN', 'VERB', 'DET', 'NOUN', 'PRON', 'VERB', 'CCONJ', 'VERB', 'NOUN', 'ADP', 'PROPN']\n",
      "--------------------------\n",
      "ORIGINAL SENTENCE:\n",
      "\t Says \"PTA meetings are now being conducted to help parents tell their kids\" that if a guy with an AR-15 walks into their classroom, \"you are supposed to create as much chaos as you possibly can. They want you to scream and yell and dance around and throw books and just keep moving.\"\n",
      "\t ['VERB', 'PUNCT', 'PROPN', 'NOUN', 'AUX', 'ADV', 'AUX', 'VERB', 'PART', 'VERB', 'NOUN', 'VERB', 'PRON', 'NOUN', 'PUNCT', 'SCONJ', 'SCONJ', 'DET', 'NOUN', 'ADP', 'DET', 'PROPN', 'NOUN', 'ADP', 'PRON', 'NOUN', 'PUNCT', 'PUNCT', 'PRON', 'AUX', 'VERB', 'PART', 'VERB', 'ADV', 'ADJ', 'NOUN', 'SCONJ', 'PRON', 'ADV', 'AUX', 'PUNCT', 'PRON', 'VERB', 'PRON', 'PART', 'VERB', 'CCONJ', 'VERB', 'CCONJ', 'VERB', 'ADV', 'CCONJ', 'VERB', 'NOUN', 'CCONJ', 'ADV', 'VERB', 'VERB', 'PUNCT', 'PUNCT']\n",
      "SIMILAR SENTENCE NR 1\n",
      "\t Says \"PTA meetings are now being conducted to help parents tell their kids\" that if a guy with an AR-15 walks into their classroom, \"you are supposed to create as much chaos as you possibly can. They want you to scream and yell and dance around and throw books and just keep moving.\"\n",
      "\t ['VERB', 'PUNCT', 'PROPN', 'NOUN', 'AUX', 'ADV', 'AUX', 'VERB', 'PART', 'VERB', 'NOUN', 'VERB', 'PRON', 'NOUN', 'PUNCT', 'SCONJ', 'SCONJ', 'DET', 'NOUN', 'ADP', 'DET', 'PROPN', 'NOUN', 'ADP', 'PRON', 'NOUN', 'PUNCT', 'PUNCT', 'PRON', 'AUX', 'VERB', 'PART', 'VERB', 'ADV', 'ADJ', 'NOUN', 'SCONJ', 'PRON', 'ADV', 'AUX', 'PUNCT', 'PRON', 'VERB', 'PRON', 'PART', 'VERB', 'CCONJ', 'VERB', 'CCONJ', 'VERB', 'ADV', 'CCONJ', 'VERB', 'NOUN', 'CCONJ', 'ADV', 'VERB', 'VERB', 'PUNCT', 'PUNCT']\n",
      "SIMILAR SENTENCE NR 2\n",
      "\t \"There are some counties in Texas where the first day of hunting, you have to shut down the schools because people are going to go hunting.\"\n",
      "\t ['PUNCT', 'PRON', 'VERB', 'DET', 'NOUN', 'ADP', 'PROPN', 'SCONJ', 'DET', 'ADJ', 'NOUN', 'ADP', 'NOUN', 'PUNCT', 'PRON', 'VERB', 'PART', 'VERB', 'ADP', 'DET', 'NOUN', 'SCONJ', 'NOUN', 'AUX', 'VERB', 'PART', 'VERB', 'VERB', 'PUNCT', 'PUNCT']\n",
      "SIMILAR SENTENCE NR 3\n",
      "\t \"There are some counties in Texas where the first day of hunting, you have to shut down the schools because people are going to go hunting.\"\n",
      "\t ['PUNCT', 'PRON', 'VERB', 'DET', 'NOUN', 'ADP', 'PROPN', 'SCONJ', 'DET', 'ADJ', 'NOUN', 'ADP', 'NOUN', 'PUNCT', 'PRON', 'VERB', 'PART', 'VERB', 'ADP', 'DET', 'NOUN', 'SCONJ', 'NOUN', 'AUX', 'VERB', 'PART', 'VERB', 'VERB', 'PUNCT', 'PUNCT']\n",
      "--------------------------\n",
      "ORIGINAL SENTENCE:\n",
      "\t George Papadopoulos' role with the Trump campaign foreign policy team \"was extremely limited.\"\n",
      "\t ['PROPN', 'PROPN', 'PART', 'NOUN', 'ADP', 'DET', 'PROPN', 'NOUN', 'ADJ', 'NOUN', 'NOUN', 'PUNCT', 'AUX', 'ADV', 'ADJ', 'PUNCT', 'PUNCT']\n",
      "SIMILAR SENTENCE NR 1\n",
      "\t George Papadopoulos' role with the Trump campaign foreign policy team \"was extremely limited.\"\n",
      "\t ['PROPN', 'PROPN', 'PART', 'NOUN', 'ADP', 'DET', 'PROPN', 'NOUN', 'ADJ', 'NOUN', 'NOUN', 'PUNCT', 'AUX', 'ADV', 'ADJ', 'PUNCT', 'PUNCT']\n",
      "SIMILAR SENTENCE NR 2\n",
      "\t Testimony of witnesses in the impeachment inquiry was \"hearsay.\"\n",
      "\t ['NOUN', 'ADP', 'NOUN', 'ADP', 'DET', 'NOUN', 'NOUN', 'AUX', 'PUNCT', 'ADJ', 'PUNCT', 'PUNCT']\n",
      "SIMILAR SENTENCE NR 3\n",
      "\t People with cancer have a pH that is too acidic.\n",
      "\t ['NOUN', 'ADP', 'NOUN', 'VERB', 'DET', 'NOUN', 'PRON', 'AUX', 'ADV', 'ADJ', 'PUNCT']\n",
      "--------------------------\n",
      "ORIGINAL SENTENCE:\n",
      "\t Post Malone dies from Ligma\n",
      "\t ['PROPN', 'PROPN', 'VERB', 'ADP', 'PROPN']\n",
      "SIMILAR SENTENCE NR 1\n",
      "\t Miss Russia converting to Islam\n",
      "\t ['PROPN', 'PROPN', 'VERB', 'ADP', 'PROPN']\n",
      "SIMILAR SENTENCE NR 2\n",
      "\t George Soros Arrested in Switzerland\n",
      "\t ['PROPN', 'PROPN', 'VERB', 'ADP', 'PROPN']\n",
      "SIMILAR SENTENCE NR 3\n",
      "\t O. Panneerselvam bowing before Prime Minister Narendra Modi\n",
      "\t ['PROPN', 'PROPN', 'VERB', 'ADP', 'PROPN', 'PROPN', 'PROPN', 'PROPN']\n",
      "--------------------------\n",
      "ORIGINAL SENTENCE:\n",
      "\t Idols of Goddess Durga desecrated in West Bengal ahead of Navratri\n",
      "\t ['NOUN', 'ADP', 'PROPN', 'PROPN', 'VERB', 'ADP', 'PROPN', 'PROPN', 'ADV', 'ADP', 'PROPN']\n",
      "SIMILAR SENTENCE NR 1\n",
      "\t Idols of Goddess Durga desecrated in West Bengal ahead of Navratri\n",
      "\t ['NOUN', 'ADP', 'PROPN', 'PROPN', 'VERB', 'ADP', 'PROPN', 'PROPN', 'ADV', 'ADP', 'PROPN']\n",
      "SIMILAR SENTENCE NR 2\n",
      "\t Stacks of Bricks Found in Cities Nationwide Ahead of Election Results\n",
      "\t ['NOUN', 'ADP', 'PROPN', 'VERB', 'ADP', 'PROPN', 'PROPN', 'ADV', 'ADP', 'PROPN', 'NOUN']\n",
      "SIMILAR SENTENCE NR 3\n",
      "\t Image In Video Represents Street Lights Put Up In Delhi By AAP Govenment\n",
      "\t ['NOUN', 'ADP', 'PROPN', 'PROPN', 'PROPN', 'PROPN', 'VERB', 'ADP', 'ADP', 'PROPN', 'ADP', 'PROPN', 'PROPN']\n",
      "--------------------------\n",
      "ORIGINAL SENTENCE:\n",
      "\t Thanks To New Laws, VeggieTales Finally Introduces New Cannabis Character\n",
      "\t ['NOUN', 'ADP', 'PROPN', 'PROPN', 'PUNCT', 'PROPN', 'ADV', 'VERB', 'PROPN', 'PROPN', 'PROPN']\n",
      "SIMILAR SENTENCE NR 1\n",
      "\t Thanks To New Laws, VeggieTales Finally Introduces New Cannabis Character\n",
      "\t ['NOUN', 'ADP', 'PROPN', 'PROPN', 'PUNCT', 'PROPN', 'ADV', 'VERB', 'PROPN', 'PROPN', 'PROPN']\n",
      "SIMILAR SENTENCE NR 2\n",
      "\t Boss FORGETS Hang Up Video Conf Call . . . Livestreams S*x w/ Secretary\n",
      "\t ['NOUN', 'NOUN', 'PROPN', 'ADP', 'PROPN', 'PROPN', 'PROPN', 'PUNCT', 'PUNCT', 'PUNCT', 'PROPN', 'VERB', 'NOUN', 'PROPN']\n",
      "SIMILAR SENTENCE NR 3\n",
      "\t Boss FORGETS Hang Up Video Conf Call . . . Livestreams S*x w/ Secretary\n",
      "\t ['NOUN', 'NOUN', 'PROPN', 'ADP', 'PROPN', 'PROPN', 'PROPN', 'PUNCT', 'PUNCT', 'PUNCT', 'PROPN', 'VERB', 'NOUN', 'PROPN']\n",
      "--------------------------\n"
     ]
    },
    {
     "name": "stdout",
     "output_type": "stream",
     "text": [
      "ORIGINAL SENTENCE:\n",
      "\t Fit people are immune to novel coronavirus\n",
      "\t ['ADJ', 'NOUN', 'AUX', 'ADJ', 'ADP', 'ADJ', 'PROPN']\n",
      "SIMILAR SENTENCE NR 1\n",
      "\t Muslim women being harassed in Indian Kashmir\n",
      "\t ['ADJ', 'NOUN', 'AUX', 'VERB', 'ADP', 'ADJ', 'PROPN']\n",
      "SIMILAR SENTENCE NR 2\n",
      "\t Black people are more resistant to novel coronavirus\n",
      "\t ['ADJ', 'NOUN', 'AUX', 'ADV', 'ADJ', 'ADP', 'ADJ', 'PROPN']\n",
      "SIMILAR SENTENCE NR 3\n",
      "\t Cannabis possession still illegal for Canadian minors\n",
      "\t ['ADJ', 'NOUN', 'ADV', 'ADJ', 'ADP', 'ADJ', 'NOUN']\n",
      "--------------------------\n",
      "ORIGINAL SENTENCE:\n",
      "\t Philippine youth leaders wearing communist badges\n",
      "\t ['ADJ', 'NOUN', 'NOUN', 'VERB', 'ADJ', 'NOUN']\n",
      "SIMILAR SENTENCE NR 1\n",
      "\t Indonesian president ate roasted rats\n",
      "\t ['ADJ', 'NOUN', 'VERB', 'ADJ', 'NOUN']\n",
      "SIMILAR SENTENCE NR 2\n",
      "\t Philippine youth leaders wearing communist badges\n",
      "\t ['ADJ', 'NOUN', 'NOUN', 'VERB', 'ADJ', 'NOUN']\n",
      "SIMILAR SENTENCE NR 3\n",
      "\t Hindu nationalists beat Muslim woman\n",
      "\t ['ADJ', 'NOUN', 'VERB', 'ADJ', 'NOUN']\n",
      "--------------------------\n",
      "ORIGINAL SENTENCE:\n",
      "\t Like Mamata Banerjee, Morarji Desai in 1952, Tribhuvan Singh in 1970 and Shibu Soren in 2009 had become the chief ministers even after losing the presiding assembly elections.\n",
      "\t ['ADP', 'PROPN', 'PROPN', 'PUNCT', 'PROPN', 'PROPN', 'ADP', 'NUM', 'PUNCT', 'PROPN', 'PROPN', 'ADP', 'NUM', 'CCONJ', 'PROPN', 'PROPN', 'ADP', 'NUM', 'AUX', 'VERB', 'DET', 'ADJ', 'NOUN', 'ADV', 'ADP', 'VERB', 'DET', 'VERB', 'NOUN', 'NOUN', 'PUNCT']\n",
      "SIMILAR SENTENCE NR 1\n",
      "\t On Oct. 30, 2020, U.S. President Donald Trump said: &quot;We will have a tremendous stimulus package immediately after the election.&quot;\n",
      "\t ['ADP', 'PROPN', 'NUM', 'PUNCT', 'NUM', 'PUNCT', 'PROPN', 'PROPN', 'PROPN', 'PROPN', 'VERB', 'PUNCT', 'CCONJ', 'PROPN', 'AUX', 'VERB', 'DET', 'ADJ', 'NOUN', 'NOUN', 'ADV', 'ADP', 'DET', 'PROPN', 'PUNCT']\n",
      "SIMILAR SENTENCE NR 2\n",
      "\t In January 2021, YouTube temporarily barred U.S. President Donald Trump from posting new videos to his channel.\n",
      "\t ['ADP', 'PROPN', 'NUM', 'PUNCT', 'PROPN', 'ADV', 'VERB', 'PROPN', 'PROPN', 'PROPN', 'PROPN', 'ADP', 'VERB', 'ADJ', 'NOUN', 'ADP', 'PRON', 'NOUN', 'PUNCT']\n",
      "SIMILAR SENTENCE NR 3\n",
      "\t In December 2019, the FDA reported that Tris Pharma had announced a voluntary recall of several infant ibuprofen products.\n",
      "\t ['ADP', 'PROPN', 'NUM', 'PUNCT', 'DET', 'PROPN', 'VERB', 'SCONJ', 'PROPN', 'PROPN', 'AUX', 'VERB', 'DET', 'ADJ', 'NOUN', 'ADP', 'ADJ', 'NOUN', 'NOUN', 'NOUN', 'PUNCT']\n",
      "--------------------------\n",
      "ORIGINAL SENTENCE:\n",
      "\t Even our attorney general who is a strong Democrat, she has said that we need causation in our workers’ comp system. That’s the No. 1 thing pushing our manufacturing jobs out of Illinois.\n",
      "\t ['ADV', 'PRON', 'NOUN', 'NOUN', 'PRON', 'AUX', 'DET', 'ADJ', 'PROPN', 'PUNCT', 'PRON', 'AUX', 'VERB', 'SCONJ', 'PRON', 'VERB', 'NOUN', 'ADP', 'PRON', 'NOUN', 'PART', 'NOUN', 'NOUN', 'PUNCT', 'DET', 'VERB', 'DET', 'NOUN', 'NOUN', 'NUM', 'NOUN', 'VERB', 'PRON', 'VERB', 'NOUN', 'ADP', 'ADP', 'PROPN', 'PUNCT']\n",
      "SIMILAR SENTENCE NR 1\n",
      "\t An image shows a new self-contained diesel-powered electric vehicle charging point in Lancashire.\n",
      "\t ['DET', 'NOUN', 'VERB', 'DET', 'ADJ', 'NOUN', 'PUNCT', 'VERB', 'NOUN', 'PUNCT', 'VERB', 'ADJ', 'NOUN', 'VERB', 'NOUN', 'ADP', 'PROPN', 'PUNCT']\n",
      "SIMILAR SENTENCE NR 2\n",
      "\t This plane brings our dead military home. It was made so that when they shoot their salute for their service it looks like an angel.\n",
      "\t ['DET', 'NOUN', 'VERB', 'PRON', 'ADJ', 'ADJ', 'NOUN', 'PUNCT', 'PRON', 'AUX', 'VERB', 'SCONJ', 'SCONJ', 'SCONJ', 'PRON', 'VERB', 'PRON', 'NOUN', 'ADP', 'PRON', 'NOUN', 'PRON', 'VERB', 'ADP', 'DET', 'NOUN', 'PUNCT']\n",
      "SIMILAR SENTENCE NR 3\n",
      "\t These are the Islamic version of Indias Munna Bhai Vaccine Experts, it says that there is a chip in the vaccine, they will control everyones minds.\n",
      "\t ['PRON', 'AUX', 'DET', 'ADJ', 'NOUN', 'ADP', 'PROPN', 'PROPN', 'PROPN', 'PROPN', 'PROPN', 'PUNCT', 'PRON', 'VERB', 'SCONJ', 'PRON', 'VERB', 'DET', 'NOUN', 'ADP', 'DET', 'NOUN', 'PUNCT', 'PRON', 'AUX', 'VERB', 'NOUN', 'NOUN', 'PUNCT']\n",
      "--------------------------\n",
      "ORIGINAL SENTENCE:\n",
      "\t \"I have never lobbied against sanctions personally... to my knowledge, Exxon never directly lobbied against sanctions.\n",
      "\t ['PUNCT', 'PRON', 'AUX', 'ADV', 'VERB', 'ADP', 'NOUN', 'ADV', 'PUNCT', 'ADP', 'PRON', 'NOUN', 'PUNCT', 'PROPN', 'ADV', 'ADV', 'VERB', 'ADP', 'NOUN', 'PUNCT']\n",
      "SIMILAR SENTENCE NR 1\n",
      "\t \"I have never lobbied against sanctions personally... to my knowledge, Exxon never directly lobbied against sanctions.\n",
      "\t ['PUNCT', 'PRON', 'AUX', 'ADV', 'VERB', 'ADP', 'NOUN', 'ADV', 'PUNCT', 'ADP', 'PRON', 'NOUN', 'PUNCT', 'PROPN', 'ADV', 'ADV', 'VERB', 'ADP', 'NOUN', 'PUNCT']\n",
      "SIMILAR SENTENCE NR 2\n",
      "\t \"I have never lobbied against sanctions personally... to my knowledge, Exxon never directly lobbied against sanctions.\n",
      "\t ['PUNCT', 'PRON', 'AUX', 'ADV', 'VERB', 'ADP', 'NOUN', 'ADV', 'PUNCT', 'ADP', 'PRON', 'NOUN', 'PUNCT', 'PROPN', 'ADV', 'ADV', 'VERB', 'ADP', 'NOUN', 'PUNCT']\n",
      "SIMILAR SENTENCE NR 3\n",
      "\t \"We don’t want people that come into our country and immediately go on welfare.\"\n",
      "\t ['PUNCT', 'PRON', 'AUX', 'PART', 'VERB', 'NOUN', 'PRON', 'VERB', 'ADP', 'PRON', 'NOUN', 'CCONJ', 'ADV', 'VERB', 'ADP', 'NOUN', 'PUNCT', 'PUNCT']\n",
      "--------------------------\n",
      "ORIGINAL SENTENCE:\n",
      "\t A quarter of Oxford colleges did not admit a single black student in a whole year group at least once between 2015 and 2017.\n",
      "\t ['DET', 'NOUN', 'ADP', 'PROPN', 'NOUN', 'AUX', 'PART', 'VERB', 'DET', 'ADJ', 'ADJ', 'NOUN', 'ADP', 'DET', 'ADJ', 'NOUN', 'NOUN', 'ADP', 'ADJ', 'ADV', 'ADP', 'NUM', 'CCONJ', 'NUM', 'PUNCT']\n",
      "SIMILAR SENTENCE NR 1\n",
      "\t A photo claims to show massive crowds at an anti-lockdown protest in London on April 24.\n",
      "\t ['DET', 'NOUN', 'NOUN', 'PART', 'VERB', 'ADJ', 'NOUN', 'ADP', 'DET', 'ADJ', 'ADJ', 'ADJ', 'NOUN', 'ADP', 'PROPN', 'ADP', 'PROPN', 'NUM', 'PUNCT']\n",
      "SIMILAR SENTENCE NR 2\n",
      "\t The UK is the best country for education in 2019.\n",
      "\t ['DET', 'PROPN', 'AUX', 'DET', 'ADJ', 'NOUN', 'ADP', 'NOUN', 'ADP', 'NUM', 'PUNCT']\n",
      "SIMILAR SENTENCE NR 3\n",
      "\t An effort is underway to lower the minimum age of consent for sexual activity to age 4.\n",
      "\t ['DET', 'NOUN', 'AUX', 'ADJ', 'PART', 'VERB', 'DET', 'ADJ', 'NOUN', 'ADP', 'NOUN', 'ADP', 'ADJ', 'NOUN', 'PART', 'NOUN', 'NUM', 'PUNCT']\n",
      "--------------------------\n",
      "ORIGINAL SENTENCE:\n",
      "\t 21 Sikh Regiment Refused To Fight For India\n",
      "\t ['NUM', 'PROPN', 'PROPN', 'VERB', 'PART', 'VERB', 'ADP', 'PROPN']\n",
      "SIMILAR SENTENCE NR 1\n",
      "\t 21 Sikh Regiment Refused To Fight For India\n",
      "\t ['NUM', 'PROPN', 'PROPN', 'VERB', 'PART', 'VERB', 'ADP', 'PROPN']\n",
      "SIMILAR SENTENCE NR 2\n",
      "\t 50,000 Secret USA Troops Deputized by Donald Trump\n",
      "\t ['NUM', 'PROPN', 'PROPN', 'PROPN', 'VERB', 'ADP', 'PROPN', 'PROPN']\n",
      "SIMILAR SENTENCE NR 3\n",
      "\t 27 U.S. Air Force Pilots Resigned Over Covid-19 Vaccination Mandate\n",
      "\t ['NUM', 'PROPN', 'PROPN', 'PROPN', 'PROPN', 'VERB', 'ADP', 'PROPN', 'PROPN', 'PROPN']\n",
      "--------------------------\n",
      "ORIGINAL SENTENCE:\n",
      "\t Angelina Jolie gives a rare interview where she blamed Brad Pitt's drinking for their divorce and touted a KETO weight loss line\n",
      "\t ['PROPN', 'PROPN', 'VERB', 'DET', 'ADJ', 'NOUN', 'SCONJ', 'PRON', 'VERB', 'PROPN', 'PROPN', 'PART', 'NOUN', 'ADP', 'PRON', 'NOUN', 'CCONJ', 'VERB', 'DET', 'PROPN', 'NOUN', 'NOUN', 'NOUN']\n",
      "SIMILAR SENTENCE NR 1\n",
      "\t Vladimir Putin made a stern speech asking Muslims to respect Russian culture or leave the country\n",
      "\t ['PROPN', 'PROPN', 'VERB', 'DET', 'ADJ', 'NOUN', 'VERB', 'PROPN', 'PART', 'VERB', 'ADJ', 'NOUN', 'CCONJ', 'VERB', 'DET', 'NOUN']\n",
      "SIMILAR SENTENCE NR 2\n",
      "\t Madhya Pradesh Chief Minister encouraged the selling of liquor in the state and questioned the excise department\n",
      "\t ['PROPN', 'PROPN', 'PROPN', 'PROPN', 'VERB', 'DET', 'NOUN', 'ADP', 'NOUN', 'ADP', 'DET', 'NOUN', 'CCONJ', 'VERB', 'DET', 'NOUN', 'NOUN']\n",
      "SIMILAR SENTENCE NR 3\n",
      "\t Democrats blocked a bill offering college tuition assistance to children of vets killed in action\n",
      "\t ['PROPN', 'VERB', 'DET', 'NOUN', 'VERB', 'NOUN', 'NOUN', 'NOUN', 'ADP', 'NOUN', 'ADP', 'NOUN', 'VERB', 'ADP', 'NOUN']\n",
      "--------------------------\n",
      "ORIGINAL SENTENCE:\n",
      "\t Walmart Selling Anti-Trump T-Shirts, boycott started\n",
      "\t ['PROPN', 'PROPN', 'PROPN', 'ADJ', 'ADJ', 'NOUN', 'PUNCT', 'PROPN', 'PUNCT', 'NOUN', 'VERB']\n",
      "SIMILAR SENTENCE NR 1\n",
      "\t Walmart Selling Anti-Trump T-Shirts, boycott started\n",
      "\t ['PROPN', 'PROPN', 'PROPN', 'ADJ', 'ADJ', 'NOUN', 'PUNCT', 'PROPN', 'PUNCT', 'NOUN', 'VERB']\n",
      "SIMILAR SENTENCE NR 2\n",
      "\t washington times front page says gore won\n",
      "\t ['PROPN', 'PROPN', 'ADJ', 'NOUN', 'VERB', 'PROPN', 'VERB']\n",
      "SIMILAR SENTENCE NR 3\n",
      "\t Il vaccino Moderna contiene un ingrediente tossico, il SM-102\n",
      "\t ['PROPN', 'PROPN', 'PROPN', 'ADJ', 'PROPN', 'PROPN', 'PROPN', 'PUNCT', 'PROPN', 'PROPN']\n",
      "--------------------------\n",
      "ORIGINAL SENTENCE:\n",
      "\t Department of Homeland Security printed ballots with watermarks to conduct an election fraud sting\n",
      "\t ['PROPN', 'ADP', 'PROPN', 'PROPN', 'VERB', 'NOUN', 'ADP', 'NOUN', 'PART', 'VERB', 'DET', 'NOUN', 'NOUN', 'VERB']\n",
      "SIMILAR SENTENCE NR 1\n",
      "\t Rajesh Bhatia of BJP Delhi issued letter to stop farmers protest\n",
      "\t ['PROPN', 'PROPN', 'ADP', 'PROPN', 'PROPN', 'VERB', 'NOUN', 'PART', 'VERB', 'NOUN', 'VERB']\n",
      "SIMILAR SENTENCE NR 2\n",
      "\t Muslims adulterated rice with chemicals to reduce the Hindu population\n",
      "\t ['PROPN', 'VERB', 'NOUN', 'ADP', 'NOUN', 'PART', 'VERB', 'DET', 'PROPN', 'NOUN']\n",
      "SIMILAR SENTENCE NR 3\n",
      "\t Video of China disinfecting streets for Coronavirus causes a rainbow.\n",
      "\t ['NOUN', 'ADP', 'PROPN', 'VERB', 'NOUN', 'ADP', 'PROPN', 'VERB', 'DET', 'NOUN', 'PUNCT']\n",
      "--------------------------\n",
      "ORIGINAL SENTENCE:\n",
      "\t Claims that Andy Rooney said a long statement in defense of Christian prayer.\n",
      "\t ['NOUN', 'SCONJ', 'PROPN', 'PROPN', 'VERB', 'DET', 'ADJ', 'NOUN', 'ADP', 'NOUN', 'ADP', 'ADJ', 'NOUN', 'PUNCT']\n",
      "SIMILAR SENTENCE NR 1\n",
      "\t Claims that Pope Francis waved a satanic hand gesture to a crowd of worshippers.\n",
      "\t ['NOUN', 'SCONJ', 'PROPN', 'PROPN', 'VERB', 'DET', 'ADJ', 'NOUN', 'NOUN', 'ADP', 'DET', 'NOUN', 'ADP', 'NOUN', 'PUNCT']\n",
      "SIMILAR SENTENCE NR 2\n",
      "\t Suicide is the main cause of death among new mothers.\n",
      "\t ['PROPN', 'AUX', 'DET', 'ADJ', 'NOUN', 'ADP', 'NOUN', 'ADP', 'ADJ', 'NOUN', 'PUNCT']\n",
      "SIMILAR SENTENCE NR 3\n",
      "\t Pictures of tractor convoys show the recent farmers’ protest in German capital Berlin.\n",
      "\t ['NOUN', 'ADP', 'NOUN', 'NOUN', 'VERB', 'DET', 'ADJ', 'NOUN', 'PART', 'NOUN', 'ADP', 'ADJ', 'NOUN', 'PROPN', 'PUNCT']\n",
      "--------------------------\n",
      "ORIGINAL SENTENCE:\n",
      "\t \"For the last 10 years, our economy has grown at less than 2 percent on average every single year for 10 years. We have not had a decade like that in a century in America.\"\n",
      "\t ['PUNCT', 'ADP', 'DET', 'ADJ', 'NUM', 'NOUN', 'PUNCT', 'PRON', 'NOUN', 'AUX', 'VERB', 'ADP', 'ADJ', 'ADP', 'NUM', 'NOUN', 'ADP', 'ADJ', 'DET', 'ADJ', 'NOUN', 'ADP', 'NUM', 'NOUN', 'PUNCT', 'PRON', 'AUX', 'PART', 'VERB', 'DET', 'NOUN', 'ADP', 'PRON', 'ADP', 'DET', 'NOUN', 'ADP', 'PROPN', 'PUNCT', 'PUNCT']\n",
      "SIMILAR SENTENCE NR 1\n",
      "\t \"For the last 10 years, our economy has grown at less than 2 percent on average every single year for 10 years. We have not had a decade like that in a century in America.\"\n",
      "\t ['PUNCT', 'ADP', 'DET', 'ADJ', 'NUM', 'NOUN', 'PUNCT', 'PRON', 'NOUN', 'AUX', 'VERB', 'ADP', 'ADJ', 'ADP', 'NUM', 'NOUN', 'ADP', 'ADJ', 'DET', 'ADJ', 'NOUN', 'ADP', 'NUM', 'NOUN', 'PUNCT', 'PRON', 'AUX', 'PART', 'VERB', 'DET', 'NOUN', 'ADP', 'PRON', 'ADP', 'DET', 'NOUN', 'ADP', 'PROPN', 'PUNCT', 'PUNCT']\n",
      "SIMILAR SENTENCE NR 2\n",
      "\t A 2020 reality TV show was based on the premise of 15 men competing to impregnate a woman and start a family with her.\n",
      "\t ['DET', 'NUM', 'NOUN', 'NOUN', 'NOUN', 'AUX', 'VERB', 'ADP', 'DET', 'NOUN', 'ADP', 'NUM', 'NOUN', 'VERB', 'PART', 'VERB', 'DET', 'NOUN', 'CCONJ', 'VERB', 'DET', 'NOUN', 'ADP', 'PRON', 'PUNCT']\n",
      "SIMILAR SENTENCE NR 3\n",
      "\t ”The post-1994 governments have cumulatively bought less than 7% of the targeted 30% of land meant for redistribution over a period of 25 years.”\n",
      "\t ['PUNCT', 'DET', 'ADJ', 'NOUN', 'AUX', 'ADV', 'VERB', 'ADJ', 'ADP', 'NUM', 'NOUN', 'ADP', 'DET', 'ADJ', 'NUM', 'NOUN', 'ADP', 'NOUN', 'VERB', 'ADP', 'NOUN', 'ADP', 'DET', 'NOUN', 'ADP', 'NUM', 'NOUN', 'PUNCT', 'PUNCT']\n",
      "--------------------------\n",
      "ORIGINAL SENTENCE:\n",
      "\t A video claims to show a \"Muslim Rally in New York City demanding their Sharia Rights!\"\n",
      "\t ['DET', 'NOUN', 'NOUN', 'PART', 'VERB', 'DET', 'PUNCT', 'PROPN', 'PROPN', 'ADP', 'PROPN', 'PROPN', 'PROPN', 'VERB', 'PRON', 'PROPN', 'PROPN', 'PUNCT', 'PUNCT']\n",
      "SIMILAR SENTENCE NR 1\n",
      "\t This video shows shows an Algerian Muslim refugee in London spitting on Pizza dough.\n",
      "\t ['DET', 'NOUN', 'NOUN', 'VERB', 'DET', 'ADJ', 'PROPN', 'NOUN', 'ADP', 'PROPN', 'VERB', 'ADP', 'PROPN', 'NOUN', 'PUNCT']\n",
      "SIMILAR SENTENCE NR 2\n",
      "\t A Facebook post claims to be a letter from Hollywood star Clint Eastwood defending US President Donald Trump.\n",
      "\t ['DET', 'PROPN', 'NOUN', 'VERB', 'PART', 'AUX', 'DET', 'NOUN', 'ADP', 'PROPN', 'NOUN', 'PROPN', 'PROPN', 'VERB', 'PROPN', 'PROPN', 'PROPN', 'PROPN', 'PUNCT']\n",
      "SIMILAR SENTENCE NR 3\n",
      "\t The image shows a flooded playground in Karachi, Pakistan.\n",
      "\t ['DET', 'NOUN', 'VERB', 'DET', 'VERB', 'NOUN', 'ADP', 'PROPN', 'PUNCT', 'PROPN', 'PUNCT']\n",
      "--------------------------\n",
      "ORIGINAL SENTENCE:\n",
      "\t Biden BUSTED As Pfizer ADMITS There's No Vaccine Approved By FDA In The U.S. In Recorded Call\n",
      "\t ['PROPN', 'PROPN', 'SCONJ', 'PROPN', 'VERB', 'PRON', 'VERB', 'DET', 'PROPN', 'VERB', 'ADP', 'PROPN', 'ADP', 'DET', 'PROPN', 'ADP', 'PROPN', 'NOUN']\n",
      "SIMILAR SENTENCE NR 1\n",
      "\t MSNBC uses a clip from World War Z in a report on Los Angeles protests\n",
      "\t ['PROPN', 'VERB', 'DET', 'NOUN', 'ADP', 'PROPN', 'PROPN', 'PROPN', 'ADP', 'DET', 'NOUN', 'ADP', 'PROPN', 'PROPN', 'NOUN']\n",
      "SIMILAR SENTENCE NR 2\n",
      "\t Facebook Takes Down Posts That Include The Pledge of Allegiance To The United States of America\n",
      "\t ['PROPN', 'VERB', 'ADP', 'NOUN', 'PRON', 'VERB', 'DET', 'PROPN', 'ADP', 'PROPN', 'ADP', 'DET', 'PROPN', 'PROPN', 'ADP', 'PROPN']\n",
      "SIMILAR SENTENCE NR 3\n",
      "\t Democrats Tried to Slip a Law Banning Pledge of Allegiance Into Aid Package\n",
      "\t ['PROPN', 'VERB', 'PART', 'VERB', 'DET', 'PROPN', 'VERB', 'PROPN', 'ADP', 'PROPN', 'ADP', 'PROPN', 'PROPN']\n",
      "--------------------------\n",
      "ORIGINAL SENTENCE:\n",
      "\t A viral photo and video show 2021 anti-government protests in Cuba.\n",
      "\t ['DET', 'ADJ', 'NOUN', 'CCONJ', 'NOUN', 'NOUN', 'NUM', 'ADJ', 'ADJ', 'ADJ', 'NOUN', 'ADP', 'PROPN', 'PUNCT']\n",
      "SIMILAR SENTENCE NR 1\n",
      "\t The viral images and videos are of post-poll violence in West Bengal.\n",
      "\t ['DET', 'ADJ', 'NOUN', 'CCONJ', 'NOUN', 'AUX', 'ADP', 'ADJ', 'ADJ', 'ADJ', 'NOUN', 'ADP', 'PROPN', 'PROPN', 'PUNCT']\n",
      "SIMILAR SENTENCE NR 2\n",
      "\t Seresto flea and tick collars caused 1,698 pet deaths in the United States.\n",
      "\t ['ADJ', 'NOUN', 'CCONJ', 'NOUN', 'NOUN', 'VERB', 'NUM', 'ADJ', 'NOUN', 'ADP', 'DET', 'PROPN', 'PROPN', 'PUNCT']\n",
      "SIMILAR SENTENCE NR 3\n",
      "\t The viral image shows the scarred body of Asif.\n",
      "\t ['DET', 'ADJ', 'NOUN', 'VERB', 'DET', 'ADJ', 'NOUN', 'ADP', 'PROPN', 'PUNCT']\n",
      "--------------------------\n"
     ]
    },
    {
     "name": "stdout",
     "output_type": "stream",
     "text": [
      "ORIGINAL SENTENCE:\n",
      "\t John Hagee calls for \"prosecuting women who say God’s name during intercourse.\"\n",
      "\t ['PROPN', 'PROPN', 'VERB', 'ADP', 'PUNCT', 'VERB', 'NOUN', 'PRON', 'VERB', 'PROPN', 'PART', 'NOUN', 'ADP', 'NOUN', 'PUNCT', 'PUNCT']\n",
      "SIMILAR SENTENCE NR 1\n",
      "\t John Hagee calls for \"prosecuting women who say God’s name during intercourse.\"\n",
      "\t ['PROPN', 'PROPN', 'VERB', 'ADP', 'PUNCT', 'VERB', 'NOUN', 'PRON', 'VERB', 'PROPN', 'PART', 'NOUN', 'ADP', 'NOUN', 'PUNCT', 'PUNCT']\n",
      "SIMILAR SENTENCE NR 2\n",
      "\t U.S. President Joe Biden kneels down to beg George Floyd's son for forgiveness.\n",
      "\t ['PROPN', 'PROPN', 'PROPN', 'PROPN', 'VERB', 'ADP', 'PART', 'VERB', 'PROPN', 'PROPN', 'PART', 'NOUN', 'ADP', 'NOUN', 'PUNCT']\n",
      "SIMILAR SENTENCE NR 3\n",
      "\t US honours student made comments in support of school dress codes?\n",
      "\t ['PROPN', 'VERB', 'NOUN', 'VERB', 'NOUN', 'ADP', 'NOUN', 'ADP', 'NOUN', 'NOUN', 'NOUN', 'PUNCT']\n",
      "--------------------------\n",
      "ORIGINAL SENTENCE:\n",
      "\t A photograph shows a pin in the collar of a Chinese officer&#039;s uniform, a training method to correct posture.\n",
      "\t ['DET', 'NOUN', 'VERB', 'DET', 'NOUN', 'ADP', 'DET', 'NOUN', 'ADP', 'DET', 'ADJ', 'NOUN', 'NOUN', 'PUNCT', 'DET', 'NOUN', 'NOUN', 'PART', 'VERB', 'NOUN', 'PUNCT']\n",
      "SIMILAR SENTENCE NR 1\n",
      "\t A blog site reported the demise of a trial volunteer of a potential COVID-19 treatment.\n",
      "\t ['DET', 'NOUN', 'NOUN', 'VERB', 'DET', 'NOUN', 'ADP', 'DET', 'NOUN', 'NOUN', 'ADP', 'DET', 'ADJ', 'NOUN', 'NOUN', 'PUNCT']\n",
      "SIMILAR SENTENCE NR 2\n",
      "\t An image shows an X-ray of a gymnast in the middle of a routine.\n",
      "\t ['DET', 'NOUN', 'VERB', 'DET', 'NOUN', 'NOUN', 'NOUN', 'ADP', 'DET', 'NOUN', 'ADP', 'DET', 'NOUN', 'ADP', 'DET', 'NOUN', 'PUNCT']\n",
      "SIMILAR SENTENCE NR 3\n",
      "\t An image shows a work of Day of the Dead sky art made with drones.\n",
      "\t ['DET', 'NOUN', 'VERB', 'DET', 'NOUN', 'ADP', 'NOUN', 'ADP', 'DET', 'ADJ', 'NOUN', 'NOUN', 'VERB', 'ADP', 'NOUN', 'PUNCT']\n",
      "--------------------------\n",
      "ORIGINAL SENTENCE:\n",
      "\t As a result of adding excessive additives, Breyers now labels its ice cream as “Frozen Dessert” in Canada because the product no longer contains enough milk and cream to meet labeling requirements for “ice cream” in the country.\n",
      "\t ['ADP', 'DET', 'NOUN', 'ADP', 'VERB', 'ADJ', 'NOUN', 'PUNCT', 'NOUN', 'ADV', 'VERB', 'PRON', 'NOUN', 'NOUN', 'ADP', 'PUNCT', 'PROPN', 'PROPN', 'PUNCT', 'ADP', 'PROPN', 'SCONJ', 'DET', 'NOUN', 'ADV', 'ADV', 'VERB', 'ADJ', 'NOUN', 'CCONJ', 'NOUN', 'PART', 'VERB', 'NOUN', 'NOUN', 'ADP', 'PUNCT', 'NOUN', 'NOUN', 'PUNCT', 'ADP', 'DET', 'NOUN', 'PUNCT']\n",
      "SIMILAR SENTENCE NR 1\n",
      "\t Video shows thousands of Afghans rushing to Pakistan after the latter recently opened its border for Afghan refugees fleeing the Taliban.\n",
      "\t ['NOUN', 'VERB', 'NOUN', 'ADP', 'PROPN', 'VERB', 'ADP', 'PROPN', 'SCONJ', 'DET', 'NOUN', 'ADV', 'VERB', 'PRON', 'NOUN', 'ADP', 'ADJ', 'NOUN', 'VERB', 'DET', 'PROPN', 'PUNCT']\n",
      "SIMILAR SENTENCE NR 2\n",
      "\t The transportation of federal mail by a U.S. Postal Service deliverer in a privately owned vehicle is against the law.\n",
      "\t ['DET', 'NOUN', 'ADP', 'ADJ', 'NOUN', 'ADP', 'DET', 'PROPN', 'PROPN', 'PROPN', 'NOUN', 'ADP', 'DET', 'ADV', 'VERB', 'NOUN', 'AUX', 'ADP', 'DET', 'NOUN', 'PUNCT']\n",
      "SIMILAR SENTENCE NR 3\n",
      "\t A captive panda deliberately faked symptoms of pregnancy in order to obtain special treatment from her keepers.\n",
      "\t ['DET', 'ADJ', 'NOUN', 'ADV', 'VERB', 'NOUN', 'ADP', 'NOUN', 'ADP', 'NOUN', 'PART', 'VERB', 'ADJ', 'NOUN', 'ADP', 'PRON', 'NOUN', 'PUNCT']\n",
      "--------------------------\n",
      "ORIGINAL SENTENCE:\n",
      "\t \"I’ve been on the Armed Services (Committee) for 10 years. No call or meeting w/ Russian ambassador. Ever.\"\n",
      "\t ['PUNCT', 'PRON', 'AUX', 'AUX', 'ADP', 'DET', 'PROPN', 'PROPN', 'PUNCT', 'PROPN', 'PUNCT', 'ADP', 'NUM', 'NOUN', 'PUNCT', 'DET', 'NOUN', 'CCONJ', 'VERB', 'PROPN', 'ADJ', 'NOUN', 'PUNCT', 'ADV', 'PUNCT', 'PUNCT']\n",
      "SIMILAR SENTENCE NR 1\n",
      "\t \"I’ve been on the Armed Services (Committee) for 10 years. No call or meeting w/ Russian ambassador. Ever.\"\n",
      "\t ['PUNCT', 'PRON', 'AUX', 'AUX', 'ADP', 'DET', 'PROPN', 'PROPN', 'PUNCT', 'PROPN', 'PUNCT', 'ADP', 'NUM', 'NOUN', 'PUNCT', 'DET', 'NOUN', 'CCONJ', 'VERB', 'PROPN', 'ADJ', 'NOUN', 'PUNCT', 'ADV', 'PUNCT', 'PUNCT']\n",
      "SIMILAR SENTENCE NR 2\n",
      "\t \"I’ve been on the Armed Services (Committee) for 10 years. No call or meeting w/ Russian ambassador. Ever.\"\n",
      "\t ['PUNCT', 'PRON', 'AUX', 'AUX', 'ADP', 'DET', 'PROPN', 'PROPN', 'PUNCT', 'PROPN', 'PUNCT', 'ADP', 'NUM', 'NOUN', 'PUNCT', 'DET', 'NOUN', 'CCONJ', 'VERB', 'PROPN', 'ADJ', 'NOUN', 'PUNCT', 'ADV', 'PUNCT', 'PUNCT']\n",
      "SIMILAR SENTENCE NR 3\n",
      "\t \"I've been on the Armed Services Com for 10 years. No call or meeting w/Russian ambassador. Ever.\"\n",
      "\t ['PUNCT', 'PRON', 'AUX', 'AUX', 'ADP', 'DET', 'PROPN', 'PROPN', 'PROPN', 'ADP', 'NUM', 'NOUN', 'PUNCT', 'DET', 'NOUN', 'CCONJ', 'VERB', 'ADP', 'SYM', 'ADJ', 'NOUN', 'PUNCT', 'ADV', 'PUNCT', 'PUNCT']\n",
      "--------------------------\n",
      "ORIGINAL SENTENCE:\n",
      "\t Mosque blown up by Taliban in Pakistan\n",
      "\t ['PROPN', 'VERB', 'ADP', 'ADP', 'PROPN', 'ADP', 'PROPN']\n",
      "SIMILAR SENTENCE NR 1\n",
      "\t Nigeria Foreign Affairs Minister Onyeama Chased Out Of Nigeria Embassy In Vienna\n",
      "\t ['PROPN', 'PROPN', 'PROPN', 'PROPN', 'PROPN', 'VERB', 'ADP', 'ADP', 'PROPN', 'PROPN', 'ADP', 'PROPN']\n",
      "SIMILAR SENTENCE NR 2\n",
      "\t Canada Prime Minister Justin Trudeau Converting from Christianity to Islam\n",
      "\t ['PROPN', 'PROPN', 'PROPN', 'PROPN', 'PROPN', 'VERB', 'ADP', 'PROPN', 'ADP', 'PROPN']\n",
      "SIMILAR SENTENCE NR 3\n",
      "\t Joe Biden Appointed As Head Of TSA\n",
      "\t ['PROPN', 'PROPN', 'VERB', 'ADP', 'PROPN', 'ADP', 'PROPN']\n",
      "--------------------------\n",
      "ORIGINAL SENTENCE:\n",
      "\t 3.3m people diagnosed with diabetes in the UK in 2013/14, whilst an additional 590,000 are undiagnosed.\n",
      "\t ['NUM', 'PUNCT', 'NOUN', 'VERB', 'ADP', 'NOUN', 'ADP', 'DET', 'PROPN', 'ADP', 'NUM', 'PUNCT', 'SCONJ', 'DET', 'ADJ', 'NUM', 'AUX', 'ADJ', 'PUNCT']\n",
      "SIMILAR SENTENCE NR 1\n",
      "\t 91 people died in the attack on the King David Hotel in 1946, including 28 British people.\n",
      "\t ['NUM', 'NOUN', 'VERB', 'ADP', 'DET', 'NOUN', 'ADP', 'DET', 'PROPN', 'PROPN', 'PROPN', 'ADP', 'NUM', 'PUNCT', 'VERB', 'NUM', 'ADJ', 'NOUN', 'PUNCT']\n",
      "SIMILAR SENTENCE NR 2\n",
      "\t 4,528 Nigerian doctors migrated to the UK in the last six years.<br />\n",
      "\t ['NUM', 'ADJ', 'NOUN', 'VERB', 'ADP', 'DET', 'PROPN', 'ADP', 'DET', 'ADJ', 'NUM', 'NOUN', 'SYM', 'PUNCT']\n",
      "SIMILAR SENTENCE NR 3\n",
      "\t The SNP cut beds in the NHS by 1200 in the last ten years.\n",
      "\t ['DET', 'PROPN', 'VERB', 'NOUN', 'ADP', 'DET', 'PROPN', 'ADP', 'NUM', 'ADP', 'DET', 'ADJ', 'NUM', 'NOUN', 'PUNCT']\n",
      "--------------------------\n",
      "ORIGINAL SENTENCE:\n",
      "\t Pakistani website hacked by Indian Cyber Troops to wish PK on his birthday\n",
      "\t ['ADJ', 'NOUN', 'VERB', 'ADP', 'ADJ', 'PROPN', 'PROPN', 'PART', 'VERB', 'PROPN', 'ADP', 'PRON', 'NOUN']\n",
      "SIMILAR SENTENCE NR 1\n",
      "\t Japanese TV panellists laughing at Indonesian President’s short speech at G20\n",
      "\t ['ADJ', 'NOUN', 'NOUN', 'VERB', 'ADP', 'ADJ', 'PROPN', 'PART', 'ADJ', 'NOUN', 'ADP', 'PROPN']\n",
      "SIMILAR SENTENCE NR 2\n",
      "\t Hindu youth beaten in Bengal for hoisting saffron flag atop his house\n",
      "\t ['ADJ', 'NOUN', 'VERB', 'ADP', 'PROPN', 'ADP', 'VERB', 'PROPN', 'NOUN', 'ADP', 'PRON', 'NOUN']\n",
      "SIMILAR SENTENCE NR 3\n",
      "\t Local Man Arrested After Cosplaying Mr. Freeze And Yelling Cold Weather Puns At People\n",
      "\t ['ADJ', 'NOUN', 'VERB', 'ADP', 'VERB', 'PROPN', 'PROPN', 'CCONJ', 'VERB', 'PROPN', 'PROPN', 'PROPN', 'ADP', 'NOUN']\n",
      "--------------------------\n",
      "ORIGINAL SENTENCE:\n",
      "\t Says he \"started\" the Pacur plastics manufacturing company he owns.\n",
      "\t ['VERB', 'PRON', 'PUNCT', 'VERB', 'PUNCT', 'DET', 'PROPN', 'NOUN', 'VERB', 'NOUN', 'PRON', 'VERB', 'PUNCT']\n",
      "SIMILAR SENTENCE NR 1\n",
      "\t Says he \"started\" the Pacur plastics manufacturing company he owns.\n",
      "\t ['VERB', 'PRON', 'PUNCT', 'VERB', 'PUNCT', 'DET', 'PROPN', 'NOUN', 'VERB', 'NOUN', 'PRON', 'VERB', 'PUNCT']\n",
      "SIMILAR SENTENCE NR 2\n",
      "\t Says Adam Putnam \"backed a water bill that gutted water quality regulations.\"\n",
      "\t ['VERB', 'PROPN', 'PROPN', 'PUNCT', 'VERB', 'DET', 'NOUN', 'NOUN', 'PRON', 'VERB', 'NOUN', 'NOUN', 'NOUN', 'PUNCT', 'PUNCT']\n",
      "SIMILAR SENTENCE NR 3\n",
      "\t Says Adam Putnam \"backed a water bill that gutted water quality regulations.\"\n",
      "\t ['VERB', 'PROPN', 'PROPN', 'PUNCT', 'VERB', 'DET', 'NOUN', 'NOUN', 'PRON', 'VERB', 'NOUN', 'NOUN', 'NOUN', 'PUNCT', 'PUNCT']\n",
      "--------------------------\n",
      "ORIGINAL SENTENCE:\n",
      "\t UP CM Yogi Adityanath announced another lockdown in March 2021\n",
      "\t ['ADV', 'PROPN', 'PROPN', 'PROPN', 'VERB', 'DET', 'NOUN', 'ADP', 'PROPN', 'NUM']\n",
      "SIMILAR SENTENCE NR 1\n",
      "\t UP CM Yogi Adityanath announcing lockdown in March 2021\n",
      "\t ['ADV', 'PROPN', 'PROPN', 'PROPN', 'VERB', 'NOUN', 'ADP', 'PROPN', 'NUM']\n",
      "SIMILAR SENTENCE NR 2\n",
      "\t Graphic shows the election dates for West Bengal Assembly Elections 2021\n",
      "\t ['PROPN', 'VERB', 'DET', 'NOUN', 'NOUN', 'ADP', 'PROPN', 'PROPN', 'PROPN', 'PROPN', 'NUM']\n",
      "SIMILAR SENTENCE NR 3\n",
      "\t Tim Hortons will close all restaurants on March 30\n",
      "\t ['PROPN', 'PROPN', 'AUX', 'VERB', 'DET', 'NOUN', 'ADP', 'PROPN', 'NUM']\n",
      "--------------------------\n"
     ]
    },
    {
     "name": "stdout",
     "output_type": "stream",
     "text": [
      "ORIGINAL SENTENCE:\n",
      "\t \"There is no reason for anybody to be losing any of their current benefits under Medicaid.\"\n",
      "\t ['PUNCT', 'PRON', 'VERB', 'DET', 'NOUN', 'SCONJ', 'PRON', 'PART', 'AUX', 'VERB', 'PRON', 'ADP', 'PRON', 'ADJ', 'NOUN', 'ADP', 'PROPN', 'PUNCT', 'PUNCT']\n",
      "SIMILAR SENTENCE NR 1\n",
      "\t \"There is no reason for anybody to be losing any of their current benefits under Medicaid.\"\n",
      "\t ['PUNCT', 'PRON', 'VERB', 'DET', 'NOUN', 'SCONJ', 'PRON', 'PART', 'AUX', 'VERB', 'PRON', 'ADP', 'PRON', 'ADJ', 'NOUN', 'ADP', 'PROPN', 'PUNCT', 'PUNCT']\n",
      "SIMILAR SENTENCE NR 2\n",
      "\t ‘It makes no sense for oil to be cheaper in Nigeria than in Saudi Arabia.’\n",
      "\t ['PUNCT', 'PRON', 'VERB', 'DET', 'NOUN', 'SCONJ', 'NOUN', 'PART', 'AUX', 'ADJ', 'ADP', 'PROPN', 'ADP', 'ADP', 'PROPN', 'PROPN', 'PUNCT', 'PUNCT']\n",
      "SIMILAR SENTENCE NR 3\n",
      "\t \"Canada legalizes euthanasia for parents to kill their disabled kids.\"\n",
      "\t ['PUNCT', 'PROPN', 'VERB', 'NOUN', 'SCONJ', 'NOUN', 'PART', 'VERB', 'PRON', 'ADJ', 'NOUN', 'PUNCT', 'PUNCT']\n",
      "--------------------------\n",
      "ORIGINAL SENTENCE:\n",
      "\t Calcutta High Court has ordered Mamata Banerjee to resign\n",
      "\t ['PROPN', 'PROPN', 'PROPN', 'AUX', 'VERB', 'PROPN', 'PROPN', 'PART', 'VERB']\n",
      "SIMILAR SENTENCE NR 1\n",
      "\t Open Society Foundations pays people to protest\n",
      "\t ['PROPN', 'PROPN', 'PROPN', 'VERB', 'NOUN', 'PART', 'VERB']\n",
      "SIMILAR SENTENCE NR 2\n",
      "\t New Zealand Government can force citizens to be vaccinated\n",
      "\t ['PROPN', 'PROPN', 'PROPN', 'AUX', 'VERB', 'NOUN', 'PART', 'AUX', 'VERB']\n",
      "SIMILAR SENTENCE NR 3\n",
      "\t Ghanaians must wear wedding clothes to divorce\n",
      "\t ['NOUN', 'AUX', 'VERB', 'NOUN', 'NOUN', 'PART', 'VERB']\n",
      "--------------------------\n",
      "ORIGINAL SENTENCE:\n",
      "\t Bharatiya sanskar in New Zealand\n",
      "\t ['PROPN', 'NOUN', 'ADP', 'PROPN', 'PROPN']\n",
      "SIMILAR SENTENCE NR 1\n",
      "\t Nigeria security alert for Operation Positive Identification\n",
      "\t ['PROPN', 'NOUN', 'NOUN', 'ADP', 'PROPN', 'PROPN', 'PROPN']\n",
      "SIMILAR SENTENCE NR 2\n",
      "\t Massive Iftar gathering in Hyderabad\n",
      "\t ['PROPN', 'PROPN', 'NOUN', 'ADP', 'PROPN']\n",
      "SIMILAR SENTENCE NR 3\n",
      "\t Kanhaiya Kumar&#039;s commentary on Islam\n",
      "\t ['PROPN', 'PROPN', 'NOUN', 'ADP', 'PROPN']\n",
      "--------------------------\n",
      "ORIGINAL SENTENCE:\n",
      "\t Just 3.1% of black people over the age of 20 have university degrees compared to 13.9% and 18.3% for Indian and white people.\n",
      "\t ['ADV', 'NUM', 'NOUN', 'ADP', 'ADJ', 'NOUN', 'ADP', 'DET', 'NOUN', 'ADP', 'NUM', 'VERB', 'NOUN', 'NOUN', 'VERB', 'ADP', 'NUM', 'NOUN', 'CCONJ', 'NUM', 'NOUN', 'ADP', 'ADJ', 'CCONJ', 'ADJ', 'NOUN', 'PUNCT']\n",
      "SIMILAR SENTENCE NR 1\n",
      "\t Options for post-Brexit trade deals with the EU will lead to between 2% and 8% lower GDP.\n",
      "\t ['NOUN', 'ADP', 'ADJ', 'ADJ', 'ADJ', 'NOUN', 'NOUN', 'ADP', 'DET', 'PROPN', 'AUX', 'VERB', 'ADP', 'ADP', 'NUM', 'NOUN', 'CCONJ', 'NUM', 'NOUN', 'ADJ', 'PROPN', 'PUNCT']\n",
      "SIMILAR SENTENCE NR 2\n",
      "\t Options for post-Brexit trade deals with the EU will lead to GDP that’s between 2% and 8% lower.\n",
      "\t ['NOUN', 'ADP', 'ADJ', 'ADJ', 'ADJ', 'NOUN', 'NOUN', 'ADP', 'DET', 'PROPN', 'AUX', 'VERB', 'ADP', 'PROPN', 'PRON', 'VERB', 'ADP', 'NUM', 'NOUN', 'CCONJ', 'NUM', 'NOUN', 'ADJ', 'PUNCT']\n",
      "SIMILAR SENTENCE NR 3\n",
      "\t Roughly 40% of people on welfare are pensioners, and 10% or 20% are taking in-work benefits.\n",
      "\t ['ADV', 'NUM', 'NOUN', 'ADP', 'NOUN', 'ADP', 'NOUN', 'AUX', 'NOUN', 'PUNCT', 'CCONJ', 'NUM', 'NOUN', 'CCONJ', 'NUM', 'NOUN', 'AUX', 'VERB', 'ADP', 'PUNCT', 'NOUN', 'NOUN', 'PUNCT']\n",
      "--------------------------\n",
      "ORIGINAL SENTENCE:\n",
      "\t a 1956 video that predicts the COVID-19 pandemic, saying: \"Experts predict that by the year 2020, a new virus will rise, spreading from somewhere in Asia to the rest of the world.\"\n",
      "\t ['DET', 'NUM', 'NOUN', 'PRON', 'VERB', 'DET', 'NOUN', 'NOUN', 'PUNCT', 'VERB', 'PUNCT', 'PUNCT', 'NOUN', 'VERB', 'SCONJ', 'ADP', 'DET', 'NOUN', 'NUM', 'PUNCT', 'DET', 'ADJ', 'NOUN', 'AUX', 'VERB', 'PUNCT', 'VERB', 'ADP', 'ADV', 'ADP', 'PROPN', 'ADP', 'DET', 'NOUN', 'ADP', 'DET', 'NOUN', 'PUNCT', 'PUNCT']\n",
      "SIMILAR SENTENCE NR 1\n",
      "\t The 1994 crime law \"worked in some areas. But it failed in others. ... The violent crime rate was cut in half in America.\"\n",
      "\t ['DET', 'NUM', 'NOUN', 'NOUN', 'PUNCT', 'VERB', 'ADP', 'DET', 'NOUN', 'PUNCT', 'CCONJ', 'PRON', 'VERB', 'ADP', 'NOUN', 'PUNCT', 'PUNCT', 'DET', 'ADJ', 'NOUN', 'NOUN', 'AUX', 'VERB', 'ADP', 'NOUN', 'ADP', 'PROPN', 'PUNCT', 'PUNCT']\n",
      "SIMILAR SENTENCE NR 2\n",
      "\t The 1981 Farmer&#039;s Almanac contained a passage predicting that a severe, pneumatic illness would spread around the globe in 2020.\n",
      "\t ['DET', 'NUM', 'NUM', 'PROPN', 'VERB', 'DET', 'NOUN', 'VERB', 'SCONJ', 'DET', 'ADJ', 'PUNCT', 'ADJ', 'NOUN', 'AUX', 'VERB', 'ADP', 'DET', 'NOUN', 'ADP', 'NUM', 'PUNCT']\n",
      "SIMILAR SENTENCE NR 3\n",
      "\t A video shows the making of a &quot;chipmunk pig,&quot; a new hybrid animal that was made by breeding a pig with a chipmunk.\n",
      "\t ['DET', 'NOUN', 'VERB', 'DET', 'NOUN', 'ADP', 'DET', 'CCONJ', 'PROPN', 'PROPN', 'PUNCT', 'DET', 'ADJ', 'ADJ', 'NOUN', 'PRON', 'AUX', 'VERB', 'ADP', 'VERB', 'DET', 'NOUN', 'ADP', 'DET', 'NOUN', 'PUNCT']\n",
      "--------------------------\n",
      "ORIGINAL SENTENCE:\n",
      "\t \"We had the best jobs report in 16 years.\"\n",
      "\t ['PUNCT', 'PRON', 'VERB', 'DET', 'ADJ', 'NOUN', 'NOUN', 'ADP', 'NUM', 'NOUN', 'PUNCT', 'PUNCT']\n",
      "SIMILAR SENTENCE NR 1\n",
      "\t \"We had the best jobs report in 16 years.\"\n",
      "\t ['PUNCT', 'PRON', 'VERB', 'DET', 'ADJ', 'NOUN', 'NOUN', 'ADP', 'NUM', 'NOUN', 'PUNCT', 'PUNCT']\n",
      "SIMILAR SENTENCE NR 2\n",
      "\t \"We had the best jobs report in 16 years.\"\n",
      "\t ['PUNCT', 'PRON', 'VERB', 'DET', 'ADJ', 'NOUN', 'NOUN', 'ADP', 'NUM', 'NOUN', 'PUNCT', 'PUNCT']\n",
      "SIMILAR SENTENCE NR 3\n",
      "\t \"I have no financial interests in Saudi Arabia.\"\n",
      "\t ['PUNCT', 'PRON', 'VERB', 'DET', 'ADJ', 'NOUN', 'ADP', 'PROPN', 'PROPN', 'PUNCT', 'PUNCT']\n",
      "--------------------------\n",
      "ORIGINAL SENTENCE:\n",
      "\t A video shows a cockroach producing musical tones on a guitar.\n",
      "\t ['DET', 'NOUN', 'VERB', 'DET', 'NOUN', 'VERB', 'ADJ', 'NOUN', 'ADP', 'DET', 'NOUN', 'PUNCT']\n",
      "SIMILAR SENTENCE NR 1\n",
      "\t A PHE report shows the Covid-19 vaccines have negative effectiveness in the over-40s.\n",
      "\t ['DET', 'PROPN', 'NOUN', 'VERB', 'DET', 'PROPN', 'NOUN', 'VERB', 'ADJ', 'NOUN', 'ADP', 'DET', 'PROPN', 'PUNCT']\n",
      "SIMILAR SENTENCE NR 2\n",
      "\t An image shows the world&#039;s first photograph of a cat.\n",
      "\t ['DET', 'NOUN', 'VERB', 'DET', 'NOUN', 'ADJ', 'NOUN', 'ADP', 'DET', 'NOUN', 'PUNCT']\n",
      "SIMILAR SENTENCE NR 3\n",
      "\t A video shows a komodo dragon climbing the shelves in a convenience store.\n",
      "\t ['DET', 'NOUN', 'VERB', 'DET', 'NOUN', 'NOUN', 'VERB', 'DET', 'NOUN', 'ADP', 'DET', 'NOUN', 'NOUN', 'PUNCT']\n",
      "--------------------------\n",
      "ORIGINAL SENTENCE:\n",
      "\t Video claims to show footage of Air India express crash landing at Calicut airport.\n",
      "\t ['NOUN', 'NOUN', 'PART', 'VERB', 'NOUN', 'ADP', 'PROPN', 'PROPN', 'VERB', 'NOUN', 'NOUN', 'ADP', 'PROPN', 'NOUN', 'PUNCT']\n",
      "SIMILAR SENTENCE NR 1\n",
      "\t Teamsters' strike in Puerto Rico slowed relief after Hurricane Maria.\n",
      "\t ['NOUN', 'PART', 'NOUN', 'ADP', 'PROPN', 'PROPN', 'VERB', 'NOUN', 'ADP', 'PROPN', 'PROPN', 'PUNCT']\n",
      "SIMILAR SENTENCE NR 2\n",
      "\t Teamsters' strike in Puerto Rico slowed relief after Hurricane Maria.\n",
      "\t ['NOUN', 'PART', 'NOUN', 'ADP', 'PROPN', 'PROPN', 'VERB', 'NOUN', 'ADP', 'PROPN', 'PROPN', 'PUNCT']\n",
      "SIMILAR SENTENCE NR 3\n",
      "\t Image shows IAS officer Revathi from Karnataka who ranked 3rd in IAS Exam.\n",
      "\t ['NOUN', 'VERB', 'PROPN', 'NOUN', 'PROPN', 'ADP', 'PROPN', 'PRON', 'VERB', 'NOUN', 'ADP', 'PROPN', 'PROPN', 'PUNCT']\n",
      "--------------------------\n",
      "ORIGINAL SENTENCE:\n",
      "\t WHO lists Ghana, Nigeria and 11 others as top risk African countries for coronavirus\n",
      "\t ['PRON', 'VERB', 'PROPN', 'PUNCT', 'PROPN', 'CCONJ', 'NUM', 'NOUN', 'ADP', 'ADJ', 'NOUN', 'ADJ', 'NOUN', 'ADP', 'NOUN']\n",
      "SIMILAR SENTENCE NR 1\n",
      "\t Video shows face-off between Indian and Chinese armies in Galwan Valley\n",
      "\t ['NOUN', 'VERB', 'NOUN', 'PUNCT', 'NOUN', 'ADP', 'ADJ', 'CCONJ', 'ADJ', 'NOUN', 'ADP', 'PROPN', 'PROPN']\n",
      "SIMILAR SENTENCE NR 2\n",
      "\t Videos show Taiwan shoots down Chinese military aircraft after intrusion\n",
      "\t ['NOUN', 'VERB', 'PROPN', 'NOUN', 'ADP', 'ADJ', 'ADJ', 'NOUN', 'ADP', 'NOUN']\n",
      "SIMILAR SENTENCE NR 3\n",
      "\t Photo shows Indian Army used video of Syrian blasts as LoC escalation\n",
      "\t ['NOUN', 'VERB', 'PROPN', 'PROPN', 'VERB', 'NOUN', 'ADP', 'ADJ', 'NOUN', 'ADP', 'NOUN', 'NOUN']\n",
      "--------------------------\n",
      "ORIGINAL SENTENCE:\n",
      "\t Images show life during 1918 flu pandemic\n",
      "\t ['NOUN', 'VERB', 'NOUN', 'ADP', 'NUM', 'NOUN', 'NOUN']\n",
      "SIMILAR SENTENCE NR 1\n",
      "\t Snake grass kills cancer cells in 24 hours\n",
      "\t ['NOUN', 'NOUN', 'VERB', 'NOUN', 'NOUN', 'ADP', 'NUM', 'NOUN']\n",
      "SIMILAR SENTENCE NR 2\n",
      "\t Savarkar wrote mercy petitions on Gandhi&#039;s advice\n",
      "\t ['PROPN', 'VERB', 'NOUN', 'NOUN', 'ADP', 'NUM', 'NOUN']\n",
      "SIMILAR SENTENCE NR 3\n",
      "\t Video shows fraud during 2020 US election\n",
      "\t ['NOUN', 'VERB', 'NOUN', 'ADP', 'NUM', 'PROPN', 'NOUN']\n",
      "--------------------------\n"
     ]
    }
   ],
   "source": [
    "for key, val in similarities.items():\n",
    "    sorted_sim = sorted(val, key=lambda x: x[1])\n",
    "    print(\"ORIGINAL SENTENCE:\")\n",
    "    print(\"\\t\", sentences[key])\n",
    "    print(\"\\t\", postags[key])\n",
    "    for i in range(1, 4):\n",
    "        print(\"SIMILAR SENTENCE NR\", i)\n",
    "        print(\"\\t\", sentences[sorted_sim[i][0]])\n",
    "        print(\"\\t\", postags[sorted_sim[i][0]])\n",
    "    print(\"--------------------------\")"
   ]
  },
  {
   "cell_type": "code",
   "execution_count": 126,
   "id": "01603525",
   "metadata": {},
   "outputs": [
    {
     "data": {
      "text/plain": [
       "100"
      ]
     },
     "execution_count": 126,
     "metadata": {},
     "output_type": "execute_result"
    }
   ],
   "source": [
    "len(similarities)"
   ]
  },
  {
   "cell_type": "code",
   "execution_count": 127,
   "id": "996fd31d",
   "metadata": {},
   "outputs": [
    {
     "data": {
      "text/plain": [
       "[46304, 26590, 34527]"
      ]
     },
     "execution_count": 127,
     "metadata": {},
     "output_type": "execute_result"
    }
   ],
   "source": [
    "list(similarities.keys())[:3]"
   ]
  },
  {
   "cell_type": "code",
   "execution_count": 128,
   "id": "ca159be5",
   "metadata": {},
   "outputs": [
    {
     "data": {
      "text/plain": [
       "47108"
      ]
     },
     "execution_count": 128,
     "metadata": {},
     "output_type": "execute_result"
    }
   ],
   "source": [
    "len(similarities[46304])"
   ]
  },
  {
   "cell_type": "code",
   "execution_count": 129,
   "id": "79c887c4",
   "metadata": {},
   "outputs": [],
   "source": [
    "import pickle"
   ]
  },
  {
   "cell_type": "code",
   "execution_count": 130,
   "id": "1177f603",
   "metadata": {},
   "outputs": [],
   "source": [
    "with open(\"pos_similarities.pickle\", \"wb\") as f:\n",
    "    pickle.dump(similarities, f)"
   ]
  },
  {
   "cell_type": "code",
   "execution_count": 131,
   "id": "cd454801",
   "metadata": {},
   "outputs": [],
   "source": [
    "samples = list(similarities.keys())"
   ]
  },
  {
   "cell_type": "code",
   "execution_count": 132,
   "id": "8d3770ee",
   "metadata": {},
   "outputs": [
    {
     "data": {
      "text/plain": [
       "[46304, 26590, 34527]"
      ]
     },
     "execution_count": 132,
     "metadata": {},
     "output_type": "execute_result"
    }
   ],
   "source": [
    "samples[:3]"
   ]
  },
  {
   "cell_type": "code",
   "execution_count": 133,
   "id": "d45b3ef4",
   "metadata": {},
   "outputs": [],
   "source": [
    "with open(\"pos_similarities_examples.pickle\", \"wb\") as f:\n",
    "    pickle.dump(samples, f)"
   ]
  },
  {
   "cell_type": "code",
   "execution_count": 140,
   "id": "1a6babaf",
   "metadata": {},
   "outputs": [
    {
     "data": {
      "text/plain": [
       "13"
      ]
     },
     "execution_count": 140,
     "metadata": {},
     "output_type": "execute_result"
    }
   ],
   "source": [
    "len(postags[46304])"
   ]
  },
  {
   "cell_type": "code",
   "execution_count": 145,
   "id": "5e9ad73b",
   "metadata": {},
   "outputs": [
    {
     "data": {
      "text/plain": [
       "9"
      ]
     },
     "execution_count": 145,
     "metadata": {},
     "output_type": "execute_result"
    }
   ],
   "source": [
    "len(postags[21062])"
   ]
  },
  {
   "cell_type": "code",
   "execution_count": 144,
   "id": "1bf881a4",
   "metadata": {},
   "outputs": [
    {
     "data": {
      "text/plain": [
       "[(46304, 0.0), (21062, 1.75), (32987, 1.75), (23101, 2.0), (41616, 2.15)]"
      ]
     },
     "execution_count": 144,
     "metadata": {},
     "output_type": "execute_result"
    }
   ],
   "source": [
    "sorted(similarities[46304], key=lambda x: x[1])[:5]"
   ]
  },
  {
   "cell_type": "code",
   "execution_count": 146,
   "id": "71897b61",
   "metadata": {},
   "outputs": [
    {
     "data": {
      "text/plain": [
       "[(0, 13.45),\n",
       " (1, 5.4),\n",
       " (2, 7.25),\n",
       " (3, 3.15),\n",
       " (4, 7.75),\n",
       " (5, 7.15),\n",
       " (6, 8.25),\n",
       " (7, 33.4),\n",
       " (8, 17.15),\n",
       " (9, 8.65)]"
      ]
     },
     "execution_count": 146,
     "metadata": {},
     "output_type": "execute_result"
    }
   ],
   "source": [
    "similarities[46304][:10]"
   ]
  },
  {
   "cell_type": "code",
   "execution_count": 151,
   "id": "8b4dadb2",
   "metadata": {},
   "outputs": [
    {
     "data": {
      "text/plain": [
       "0        13.45\n",
       "1         5.40\n",
       "2         7.25\n",
       "3         3.15\n",
       "4         7.75\n",
       "         ...  \n",
       "47103     8.40\n",
       "47104     9.80\n",
       "47105    20.40\n",
       "47106    10.75\n",
       "47107     7.40\n",
       "Name: 46304, Length: 47108, dtype: float64"
      ]
     },
     "execution_count": 151,
     "metadata": {},
     "output_type": "execute_result"
    }
   ],
   "source": [
    "pd.DataFrame(similarities)[46304].str[1]"
   ]
  }
 ],
 "metadata": {
  "kernelspec": {
   "display_name": "Python 3 (ipykernel)",
   "language": "python",
   "name": "python3"
  },
  "language_info": {
   "codemirror_mode": {
    "name": "ipython",
    "version": 3
   },
   "file_extension": ".py",
   "mimetype": "text/x-python",
   "name": "python",
   "nbconvert_exporter": "python",
   "pygments_lexer": "ipython3",
   "version": "3.10.8"
  }
 },
 "nbformat": 4,
 "nbformat_minor": 5
}
