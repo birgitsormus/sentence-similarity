{
  "nbformat": 4,
  "nbformat_minor": 0,
  "metadata": {
    "colab": {
      "provenance": []
    },
    "kernelspec": {
      "name": "python3",
      "display_name": "Python 3"
    },
    "language_info": {
      "name": "python"
    }
  },
  "cells": [
    {
      "cell_type": "code",
      "execution_count": null,
      "metadata": {
        "id": "gfuSvY4viDoT"
      },
      "outputs": [],
      "source": [
        "pip install -U sentence-transformers"
      ]
    },
    {
      "cell_type": "code",
      "execution_count": null,
      "metadata": {
        "id": "p6x6Sc5V0xNi"
      },
      "outputs": [],
      "source": [
        "import pickle"
      ]
    },
    {
      "cell_type": "code",
      "execution_count": null,
      "metadata": {
        "id": "-XywZDL37sv_"
      },
      "outputs": [],
      "source": [
        "from sentence_transformers import SentenceTransformer, util\n",
        "import csv\n",
        "import torch"
      ]
    },
    {
      "cell_type": "code",
      "execution_count": null,
      "metadata": {
        "id": "hPkd9K-aHoAS"
      },
      "outputs": [],
      "source": [
        "#model = SentenceTransformer('all-MiniLM-L6-v2')\n",
        "model = SentenceTransformer('paraphrase-MiniLM-L3-v2')"
      ]
    },
    {
      "cell_type": "code",
      "execution_count": null,
      "metadata": {
        "id": "6pflxJUF7qeW"
      },
      "outputs": [],
      "source": [
        "from google.colab import drive\n",
        "drive.mount('/content/drive')"
      ]
    },
    {
      "cell_type": "code",
      "execution_count": null,
      "metadata": {
        "id": "AXka8oFu8T-u"
      },
      "outputs": [],
      "source": [
        "# Open up workbook\n",
        "#workbook = gc.open('/drive/sharedwithme/semester-project-sentence-similarity.datasets/claim_reviews_en')"
      ]
    },
    {
      "cell_type": "code",
      "execution_count": null,
      "metadata": {
        "id": "iF0xMu345vqK"
      },
      "outputs": [],
      "source": [
        "dataset = open('claim_reviews_en.csv')\n",
        "myReader = csv.reader(dataset)\n",
        "\n",
        "#Our sentences we like to encode\n",
        "sentences = []\n",
        "line = 0\n",
        "for row in myReader:\n",
        "  if line != 0:\n",
        "    sentences.append(row[0])\n",
        "  line = line + 1\n",
        "\n",
        "#sentences = sentences[0:10]\n",
        "\n",
        "#Sentences are encoded by calling model.encode()\n",
        "#embeddings = model.encode(sentences)\n",
        "\n",
        "#Print the embeddings\n",
        "#for sentence, embedding in zip(sentences, embeddings):\n",
        "#    print(\"Sentence:\", sentence)\n",
        "#    print(\"Embedding:\", embedding)\n",
        "#    print(\"\")"
      ]
    },
    {
      "cell_type": "code",
      "execution_count": null,
      "metadata": {
        "id": "C11FQu5RH3Dy"
      },
      "outputs": [],
      "source": [
        "corpus = sentences[1:]\n",
        "queries = sentences[0:1]\n",
        "\n",
        "#Sentences are encoded by calling model.encode()\n",
        "c_embeddings = model.encode(corpus)\n",
        "q_embeddings = model.encode(queries)"
      ]
    },
    {
      "cell_type": "code",
      "execution_count": null,
      "metadata": {
        "colab": {
          "base_uri": "https://localhost:8080/"
        },
        "id": "9fAJMw80HEqP",
        "outputId": "2b526405-4ac0-4892-ac8c-cccad4213878"
      },
      "outputs": [
        {
          "name": "stdout",
          "output_type": "stream",
          "text": [
            "\n",
            "\n",
            "======================\n",
            "\n",
            "\n",
            "Query: Ratan Tata Says, If The Death Of 65 Soldiers Increases The Popularity Of A Prime Minister, Then Nobody Can Save This Country\n",
            "\n",
            "Top 5 most similar sentences in corpus:\n",
            "Ratan Tata said that experts predict a downfall of the Indian economy but we will bounce back (Score: 0.4011)\n",
            "\"More than 20 million people are at risk of dying from starvation within 6 months in 4 nations.\" (Score: 0.3960)\n",
            "Shah Rukh Khan said that he would leave the country if Narendra Modi became the prime minister (Score: 0.3761)\n",
            "Ratan Tata says Tata Group To Not Recruit From JNU (Score: 0.3748)\n",
            "70 soldiers killed in 15 days (Score: 0.3654)\n"
          ]
        }
      ],
      "source": [
        "# Find the closest 5 sentences of the corpus for each query sentence based on cosine similarity\n",
        "top_k = min(5, len(corpus))\n",
        "for query in queries:\n",
        "    query_embedding = model.encode(query, convert_to_tensor=True)\n",
        "\n",
        "    # We use cosine-similarity and torch.topk to find the highest 5 scores\n",
        "    cos_scores = util.cos_sim(query_embedding, c_embeddings)[0]\n",
        "    top_results = torch.topk(cos_scores, k=top_k)\n",
        "\n",
        "    print(\"\\n\\n======================\\n\\n\")\n",
        "    print(\"Query:\", query)\n",
        "    print(\"\\nTop 5 most similar sentences in corpus:\")\n",
        "\n",
        "    for score, idx in zip(top_results[0], top_results[1]):\n",
        "        print(corpus[idx], \"(Score: {:.4f})\".format(score))"
      ]
    }
  ]
}