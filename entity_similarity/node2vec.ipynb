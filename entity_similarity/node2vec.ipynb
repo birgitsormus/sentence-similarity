{
 "cells": [
  {
   "cell_type": "markdown",
   "id": "9e6ea385",
   "metadata": {},
   "source": [
    "### Without tweets"
   ]
  },
  {
   "cell_type": "code",
   "execution_count": 1,
   "id": "497a4f78",
   "metadata": {},
   "outputs": [],
   "source": [
    "import json\n",
    "import pickle\n",
    "import spacy\n",
    "import pandas as pd\n",
    "import networkx as nx\n",
    "import spacy_dbpedia_spotlight"
   ]
  },
  {
   "cell_type": "code",
   "execution_count": 2,
   "id": "89058599",
   "metadata": {},
   "outputs": [],
   "source": [
    "with open(\"sentences_with_entities_7548.pickle\", \"rb\") as f:\n",
    "    docs1 = pickle.load(f)"
   ]
  },
  {
   "cell_type": "code",
   "execution_count": 3,
   "id": "6034314e",
   "metadata": {},
   "outputs": [
    {
     "data": {
      "text/plain": [
       "Ratan Tata Says, If The Death Of 65 Soldiers Increases The Popularity Of A Prime Minister, Then Nobody Can Save This Country"
      ]
     },
     "execution_count": 3,
     "metadata": {},
     "output_type": "execute_result"
    }
   ],
   "source": [
    "docs1[0]"
   ]
  },
  {
   "cell_type": "code",
   "execution_count": 4,
   "id": "a0600e03",
   "metadata": {},
   "outputs": [],
   "source": [
    "with open(\"sentences_with_entities_7548_to_end.pickle\", \"rb\") as f:\n",
    "    docs2 = pickle.load(f)"
   ]
  },
  {
   "cell_type": "code",
   "execution_count": 5,
   "id": "05924ccf",
   "metadata": {},
   "outputs": [
    {
     "data": {
      "text/plain": [
       "(7549,\n",
       " A Facebook post purportedly shows a graphic from the anti-gun violence group Moms Demand Action.)"
      ]
     },
     "execution_count": 5,
     "metadata": {},
     "output_type": "execute_result"
    }
   ],
   "source": [
    "docs2[0]"
   ]
  },
  {
   "cell_type": "code",
   "execution_count": 6,
   "id": "9460833e",
   "metadata": {},
   "outputs": [],
   "source": [
    "docs2_docs = [doc[1] for doc in docs2]"
   ]
  },
  {
   "cell_type": "code",
   "execution_count": 7,
   "id": "5d283341",
   "metadata": {},
   "outputs": [
    {
     "data": {
      "text/plain": [
       "A Facebook post purportedly shows a graphic from the anti-gun violence group Moms Demand Action."
      ]
     },
     "execution_count": 7,
     "metadata": {},
     "output_type": "execute_result"
    }
   ],
   "source": [
    "docs2_docs[0]"
   ]
  },
  {
   "cell_type": "code",
   "execution_count": 8,
   "id": "09d0db68",
   "metadata": {},
   "outputs": [],
   "source": [
    "docs = docs1 + docs2_docs"
   ]
  },
  {
   "cell_type": "code",
   "execution_count": 9,
   "id": "7089a3b6",
   "metadata": {},
   "outputs": [
    {
     "data": {
      "text/plain": [
       "(Ratan Tata, Prime Minister, This Country)"
      ]
     },
     "execution_count": 9,
     "metadata": {},
     "output_type": "execute_result"
    }
   ],
   "source": [
    "docs[0].ents"
   ]
  },
  {
   "cell_type": "code",
   "execution_count": 10,
   "id": "9be3f60b",
   "metadata": {},
   "outputs": [
    {
     "data": {
      "text/plain": [
       "'Ratan Tata Says, If The Death Of 65 Soldiers Increases The Popularity Of A Prime Minister, Then Nobody Can Save This Country'"
      ]
     },
     "execution_count": 10,
     "metadata": {},
     "output_type": "execute_result"
    }
   ],
   "source": [
    "docs[0].text"
   ]
  },
  {
   "cell_type": "code",
   "execution_count": 11,
   "id": "5d4b48c1",
   "metadata": {},
   "outputs": [
    {
     "data": {
      "text/plain": [
       "45875"
      ]
     },
     "execution_count": 11,
     "metadata": {},
     "output_type": "execute_result"
    }
   ],
   "source": [
    "len(docs)"
   ]
  },
  {
   "cell_type": "code",
   "execution_count": 12,
   "id": "437eb96d",
   "metadata": {},
   "outputs": [],
   "source": [
    "sentences = [doc.text for doc in docs]"
   ]
  },
  {
   "cell_type": "code",
   "execution_count": 13,
   "id": "4738e743",
   "metadata": {},
   "outputs": [],
   "source": [
    "entities = []\n",
    "edges = []\n",
    "\n",
    "for i, sent in enumerate(docs):\n",
    "    for ent in sent.ents:\n",
    "        entities.append(ent.text)\n",
    "        edges.append((sent.text, ent.text))"
   ]
  },
  {
   "cell_type": "code",
   "execution_count": 14,
   "id": "694a8436",
   "metadata": {},
   "outputs": [
    {
     "data": {
      "text/plain": [
       "['Ratan Tata', 'Prime Minister', 'This Country']"
      ]
     },
     "execution_count": 14,
     "metadata": {},
     "output_type": "execute_result"
    }
   ],
   "source": [
    "entities[:3]"
   ]
  },
  {
   "cell_type": "code",
   "execution_count": 15,
   "id": "1fd7c5e2",
   "metadata": {},
   "outputs": [
    {
     "data": {
      "text/plain": [
       "45875"
      ]
     },
     "execution_count": 15,
     "metadata": {},
     "output_type": "execute_result"
    }
   ],
   "source": [
    "len(sentences)"
   ]
  },
  {
   "cell_type": "code",
   "execution_count": 16,
   "id": "d68e9afa",
   "metadata": {},
   "outputs": [
    {
     "data": {
      "text/plain": [
       "3"
      ]
     },
     "execution_count": 16,
     "metadata": {},
     "output_type": "execute_result"
    }
   ],
   "source": [
    "len(docs[0].ents)"
   ]
  },
  {
   "cell_type": "code",
   "execution_count": 17,
   "id": "ca16e77c",
   "metadata": {},
   "outputs": [
    {
     "data": {
      "text/plain": [
       "[('Ratan Tata Says, If The Death Of 65 Soldiers Increases The Popularity Of A Prime Minister, Then Nobody Can Save This Country',\n",
       "  'Ratan Tata'),\n",
       " ('Ratan Tata Says, If The Death Of 65 Soldiers Increases The Popularity Of A Prime Minister, Then Nobody Can Save This Country',\n",
       "  'Prime Minister'),\n",
       " ('Ratan Tata Says, If The Death Of 65 Soldiers Increases The Popularity Of A Prime Minister, Then Nobody Can Save This Country',\n",
       "  'This Country'),\n",
       " ('The document that circulated did not come from the Civil Service Commission',\n",
       "  'Civil Service Commission'),\n",
       " ('News Outlets Did Not Report On Coronavirus Cases At Walmart, Amazon And Other Retailers',\n",
       "  'Coronavirus')]"
      ]
     },
     "execution_count": 17,
     "metadata": {},
     "output_type": "execute_result"
    }
   ],
   "source": [
    "edges[:5]"
   ]
  },
  {
   "cell_type": "code",
   "execution_count": 18,
   "id": "09c0a00f",
   "metadata": {},
   "outputs": [],
   "source": [
    "G = nx.Graph()"
   ]
  },
  {
   "cell_type": "code",
   "execution_count": 19,
   "id": "23cb7fd6",
   "metadata": {},
   "outputs": [],
   "source": [
    "G.add_nodes_from(sentences)\n",
    "G.add_nodes_from(entities)"
   ]
  },
  {
   "cell_type": "code",
   "execution_count": 20,
   "id": "26cbf7f2",
   "metadata": {},
   "outputs": [],
   "source": [
    "G.add_edges_from(edges)"
   ]
  },
  {
   "cell_type": "code",
   "execution_count": 80,
   "id": "9f6b5a0a",
   "metadata": {},
   "outputs": [],
   "source": [
    "mapping = {}\n",
    "\n",
    "for sent in sentences:\n",
    "    mapping[sent] = {\"type\": \"sentence\"}\n",
    "    \n",
    "for ent in entities:\n",
    "    mapping[ent] = {\"type\": \"entity\"}"
   ]
  },
  {
   "cell_type": "code",
   "execution_count": 28,
   "id": "b728760d",
   "metadata": {},
   "outputs": [],
   "source": [
    "nx.set_node_attributes(G, mapping)"
   ]
  },
  {
   "cell_type": "code",
   "execution_count": 21,
   "id": "2a8466e5",
   "metadata": {},
   "outputs": [],
   "source": [
    "from node2vec import Node2Vec"
   ]
  },
  {
   "cell_type": "code",
   "execution_count": 22,
   "id": "45234aa3",
   "metadata": {},
   "outputs": [
    {
     "data": {
      "application/vnd.jupyter.widget-view+json": {
       "model_id": "6d885f8dbae6483aaeb31c1cd64cf8c0",
       "version_major": 2,
       "version_minor": 0
      },
      "text/plain": [
       "Computing transition probabilities:   0%|          | 0/59809 [00:00<?, ?it/s]"
      ]
     },
     "metadata": {},
     "output_type": "display_data"
    },
    {
     "name": "stderr",
     "output_type": "stream",
     "text": [
      "Generating walks (CPU: 1): 100%|███████████████████████████████████████████████████████| 20/20 [02:21<00:00,  7.07s/it]\n"
     ]
    }
   ],
   "source": [
    "node2vec = Node2Vec(G, dimensions=64, walk_length=10, num_walks=20, workers=1)  # Use temp_folder for big graphs"
   ]
  },
  {
   "cell_type": "code",
   "execution_count": 23,
   "id": "76600205",
   "metadata": {},
   "outputs": [],
   "source": [
    "model = node2vec.fit(window=10, min_count=1, batch_words=4)"
   ]
  },
  {
   "cell_type": "code",
   "execution_count": 24,
   "id": "f2093b1d",
   "metadata": {},
   "outputs": [
    {
     "data": {
      "text/plain": [
       "[('This Country', 0.9196077585220337),\n",
       " ('Ratan Tata said that 2020 is a year to survive for businesses and they must not care about profit or loss',\n",
       "  0.8237733840942383),\n",
       " ('Ratan Tata', 0.820371150970459),\n",
       " ('Viral message attributed to Ratan Tata', 0.815273642539978),\n",
       " ('\"Singer Celine Dion Says: ‘I Can’t Even Look At An American Flag Any More, I Hate This Country.’\"',\n",
       "  0.8122323155403137),\n",
       " ('A post claiming that industrialist Ratan Tata had made a statement that he doesn’t ‘believe in taking the right decisions but he takes decisions and then make them right’',\n",
       "  0.8116405606269836),\n",
       " ('Ratan Tata has called for the selling of alcohol through Aadhaar cards',\n",
       "  0.8080866932868958),\n",
       " ('Ratan Tata has claimed experts have predicted the economic downfall, but we will overcome this',\n",
       "  0.804827094078064),\n",
       " ('Jane Fonda said \"I Swear That American Flag Is My House Carpet, I Hate Everything About This Country\"',\n",
       "  0.7920010089874268),\n",
       " ('Ratan Tata said, &quot;Government food subsidies should be stopped for liquor buyers.&quot;',\n",
       "  0.7863178253173828)]"
      ]
     },
     "execution_count": 24,
     "metadata": {},
     "output_type": "execute_result"
    }
   ],
   "source": [
    "model.wv.most_similar('Ratan Tata Says, If The Death Of 65 Soldiers Increases The Popularity Of A Prime Minister, Then Nobody Can Save This Country')"
   ]
  },
  {
   "cell_type": "code",
   "execution_count": 25,
   "id": "a9251e56",
   "metadata": {},
   "outputs": [],
   "source": [
    "r = model.wv.most_similar('Photo of Prime Minister Narendra Modi holding a massive roadshow',topn=len(G.nodes))"
   ]
  },
  {
   "cell_type": "code",
   "execution_count": 29,
   "id": "203fb191",
   "metadata": {},
   "outputs": [],
   "source": [
    "r_sent = []\n",
    "\n",
    "for bla in r:\n",
    "    if G.nodes[bla[0]][\"type\"] == \"sentence\":\n",
    "        r_sent.append(bla)"
   ]
  },
  {
   "cell_type": "code",
   "execution_count": 30,
   "id": "974dfd0b",
   "metadata": {},
   "outputs": [
    {
     "data": {
      "text/plain": [
       "[('Image Of A Poster Being Held By Two Men At A Protest Site Calling Prime Minister Narendra Modi A Thief',\n",
       "  0.932871401309967),\n",
       " ('Prime Minister Narendra Modi met four different leaders in different clothes on the same day',\n",
       "  0.9237555265426636),\n",
       " ('A photograph shows Prime Minister Narendra Modi waving an Islamic flag.',\n",
       "  0.9234981536865234),\n",
       " ('Clip shows Prime Minister Narendra Modi evading a question on petrol prices',\n",
       "  0.9232084155082703),\n",
       " ('O. Panneerselvam bowing before Prime Minister Narendra Modi',\n",
       "  0.9231763482093811),\n",
       " ('Image Of Prime Minister Narendra Modi Eating Multiple Dishes',\n",
       "  0.9138364791870117),\n",
       " ('Photo shoot of Narendra Modi with ducks.', 0.9137466549873352),\n",
       " ('Image shows Narendra Modis statue has been installed at Narendra Modi Chowk which is usually done after a persons death',\n",
       "  0.9086052775382996),\n",
       " ('Indian Prime Minister Narendra Modi has passed away due to reasons yet undisclosed.',\n",
       "  0.9073715806007385),\n",
       " ('Prime Minister Narendra Modi Wearing A Bohra Cap', 0.9065387845039368)]"
      ]
     },
     "execution_count": 30,
     "metadata": {},
     "output_type": "execute_result"
    }
   ],
   "source": [
    "r_sent[:10]"
   ]
  },
  {
   "cell_type": "markdown",
   "id": "296c4f2d",
   "metadata": {},
   "source": [
    "### With tweets"
   ]
  },
  {
   "cell_type": "code",
   "execution_count": 31,
   "id": "42986a9a",
   "metadata": {},
   "outputs": [],
   "source": [
    "with open(\"preprocessed_tweets.pickle\", \"rb\") as f:\n",
    "    tweets = pickle.load(f)"
   ]
  },
  {
   "cell_type": "code",
   "execution_count": 55,
   "id": "6e87112b",
   "metadata": {},
   "outputs": [],
   "source": [
    "with open(\"tweets_entities_spacy.json\", \"r\") as f:\n",
    "    tweet_entities = json.load(f)"
   ]
  },
  {
   "cell_type": "code",
   "execution_count": 35,
   "id": "ff4028e4",
   "metadata": {},
   "outputs": [
    {
     "data": {
      "text/plain": [
       "['CDC does not currently recommend the use of facemasks to help prevent novel Take everyday preventive actions, like staying home when you are sick and washing hands with soap and water, to help slow the spread of respiratory illness.',\n",
       " 'Election Fraud was inevitable. Democrats control media, big tech, corruption and manipulation.',\n",
       " 'Donald Trump is the first president in modern history did not start a new war.']"
      ]
     },
     "execution_count": 35,
     "metadata": {},
     "output_type": "execute_result"
    }
   ],
   "source": [
    "tweets[:3]"
   ]
  },
  {
   "cell_type": "code",
   "execution_count": 36,
   "id": "f80a78bb",
   "metadata": {},
   "outputs": [
    {
     "data": {
      "text/plain": [
       "[[['Centers for Disease Control and Prevention',\n",
       "   'https://www.wikidata.org/wiki/Q583725'],\n",
       "  ['Use', 'https://www.wikidata.org/wiki/Q7901733'],\n",
       "  ['Coronavirus', 'https://www.wikidata.org/wiki/Q290805'],\n",
       "  ['novel', 'https://www.wikidata.org/wiki/Q8261'],\n",
       "  ['hashtag', 'https://www.wikidata.org/wiki/Q278485'],\n",
       "  ['Preventive action', 'https://www.wikidata.org/wiki/Q2823701'],\n",
       "  ['washing', 'https://www.wikidata.org/wiki/Q23841'],\n",
       "  ['hand', 'https://www.wikidata.org/wiki/Q33767'],\n",
       "  ['soap opera', 'https://www.wikidata.org/wiki/Q23739'],\n",
       "  ['water', 'https://www.wikidata.org/wiki/Q283'],\n",
       "  ['spread', 'https://www.wikidata.org/wiki/Q1472481'],\n",
       "  ['disease', 'https://www.wikidata.org/wiki/Q12136']],\n",
       " [['electoral fraud', 'https://www.wikidata.org/wiki/Q692209'],\n",
       "  ['Democratic Party', 'https://www.wikidata.org/wiki/Q29552'],\n",
       "  ['tunica media', 'https://www.wikidata.org/wiki/Q1740954'],\n",
       "  ['Big Five', 'https://www.wikidata.org/wiki/Q65040888'],\n",
       "  ['corruption', 'https://www.wikidata.org/wiki/Q366'],\n",
       "  ['Manipulation', 'https://www.wikidata.org/wiki/Q1890426']],\n",
       " [['Donald Trump', 'https://www.wikidata.org/wiki/Q22686'],\n",
       "  ['The First President', 'https://www.wikidata.org/wiki/Q15905108'],\n",
       "  ['history', 'https://www.wikidata.org/wiki/Q309'],\n",
       "  ['New War', 'https://www.wikidata.org/wiki/Q18713744']]]"
      ]
     },
     "execution_count": 36,
     "metadata": {},
     "output_type": "execute_result"
    }
   ],
   "source": [
    "tweet_entities[:3]"
   ]
  },
  {
   "cell_type": "code",
   "execution_count": 40,
   "id": "b706dff0",
   "metadata": {},
   "outputs": [],
   "source": [
    "claims = pd.read_csv(\"claim_reviews_en.csv\")"
   ]
  },
  {
   "cell_type": "code",
   "execution_count": 38,
   "id": "0e17ea21",
   "metadata": {},
   "outputs": [],
   "source": [
    "with open(\"claims_entities_spacy.json\", \"r\") as f:\n",
    "    claims_entities = json.load(f)"
   ]
  },
  {
   "cell_type": "code",
   "execution_count": 39,
   "id": "4be9444b",
   "metadata": {},
   "outputs": [
    {
     "data": {
      "text/plain": [
       "[[['Ratan Tata', 'https://www.wikidata.org/wiki/Q333460'],\n",
       "  ['Death', 'https://www.wikidata.org/wiki/Q161936'],\n",
       "  ['Soldier', 'https://www.wikidata.org/wiki/Q1138936'],\n",
       "  ['Popularity', 'https://www.wikidata.org/wiki/Q7229765'],\n",
       "  ['Grand Chancellor', 'https://www.wikidata.org/wiki/Q1275294'],\n",
       "  ['Dennis Rodman', 'https://www.wikidata.org/wiki/Q201608']],\n",
       " [['document', 'https://www.wikidata.org/wiki/Q49848'],\n",
       "  ['Civil Service Commission', 'https://www.wikidata.org/wiki/Q13565023']],\n",
       " [['the media', 'https://www.wikidata.org/wiki/Q17502905'],\n",
       "  ['Case Western Reserve University',\n",
       "   'https://www.wikidata.org/wiki/Q1047060'],\n",
       "  ['Walmart', 'https://www.wikidata.org/wiki/Q483551'],\n",
       "  ['Amazon', 'https://www.wikidata.org/wiki/Q3884']]]"
      ]
     },
     "execution_count": 39,
     "metadata": {},
     "output_type": "execute_result"
    }
   ],
   "source": [
    "claims_entities[:3]"
   ]
  },
  {
   "cell_type": "code",
   "execution_count": 41,
   "id": "7a35a3d3",
   "metadata": {},
   "outputs": [
    {
     "data": {
      "text/html": [
       "<div>\n",
       "<style scoped>\n",
       "    .dataframe tbody tr th:only-of-type {\n",
       "        vertical-align: middle;\n",
       "    }\n",
       "\n",
       "    .dataframe tbody tr th {\n",
       "        vertical-align: top;\n",
       "    }\n",
       "\n",
       "    .dataframe thead th {\n",
       "        text-align: right;\n",
       "    }\n",
       "</style>\n",
       "<table border=\"1\" class=\"dataframe\">\n",
       "  <thead>\n",
       "    <tr style=\"text-align: right;\">\n",
       "      <th></th>\n",
       "      <th>claim_text</th>\n",
       "      <th>label</th>\n",
       "      <th>review_url</th>\n",
       "      <th>fact_checker</th>\n",
       "      <th>appearances</th>\n",
       "      <th>reviews</th>\n",
       "    </tr>\n",
       "  </thead>\n",
       "  <tbody>\n",
       "    <tr>\n",
       "      <th>0</th>\n",
       "      <td>Ratan Tata Says, If The Death Of 65 Soldiers I...</td>\n",
       "      <td>not_credible</td>\n",
       "      <td>https://www.boomlive.in/photoshopped-tweet-cla...</td>\n",
       "      <td>{'name': 'BOOM', 'country': 'India', 'language...</td>\n",
       "      <td>[]</td>\n",
       "      <td>[{'label': 'not_credible', 'original_label': '...</td>\n",
       "    </tr>\n",
       "    <tr>\n",
       "      <th>1</th>\n",
       "      <td>The document that circulated did not come from...</td>\n",
       "      <td>not_credible</td>\n",
       "      <td>https://www.rappler.com/newsbreak/fact-check/2...</td>\n",
       "      <td>{'name': 'Rappler', 'country': 'Philippines', ...</td>\n",
       "      <td>[]</td>\n",
       "      <td>[{'label': 'not_credible', 'original_label': '...</td>\n",
       "    </tr>\n",
       "    <tr>\n",
       "      <th>2</th>\n",
       "      <td>News Outlets Did Not Report On Coronavirus Cas...</td>\n",
       "      <td>not_credible</td>\n",
       "      <td>https://leadstories.com/hoax-alert/2020/04/fac...</td>\n",
       "      <td>{'name': 'Lead Stories', 'country': 'United St...</td>\n",
       "      <td>[]</td>\n",
       "      <td>[{'label': 'not_credible', 'original_label': '...</td>\n",
       "    </tr>\n",
       "  </tbody>\n",
       "</table>\n",
       "</div>"
      ],
      "text/plain": [
       "                                          claim_text         label  \\\n",
       "0  Ratan Tata Says, If The Death Of 65 Soldiers I...  not_credible   \n",
       "1  The document that circulated did not come from...  not_credible   \n",
       "2  News Outlets Did Not Report On Coronavirus Cas...  not_credible   \n",
       "\n",
       "                                          review_url  \\\n",
       "0  https://www.boomlive.in/photoshopped-tweet-cla...   \n",
       "1  https://www.rappler.com/newsbreak/fact-check/2...   \n",
       "2  https://leadstories.com/hoax-alert/2020/04/fac...   \n",
       "\n",
       "                                        fact_checker appearances  \\\n",
       "0  {'name': 'BOOM', 'country': 'India', 'language...          []   \n",
       "1  {'name': 'Rappler', 'country': 'Philippines', ...          []   \n",
       "2  {'name': 'Lead Stories', 'country': 'United St...          []   \n",
       "\n",
       "                                             reviews  \n",
       "0  [{'label': 'not_credible', 'original_label': '...  \n",
       "1  [{'label': 'not_credible', 'original_label': '...  \n",
       "2  [{'label': 'not_credible', 'original_label': '...  "
      ]
     },
     "execution_count": 41,
     "metadata": {},
     "output_type": "execute_result"
    }
   ],
   "source": [
    "claims.head(3)"
   ]
  },
  {
   "cell_type": "code",
   "execution_count": 42,
   "id": "44f1ea8e",
   "metadata": {},
   "outputs": [],
   "source": [
    "claims_text = claims['claim_text'].tolist()"
   ]
  },
  {
   "cell_type": "code",
   "execution_count": 43,
   "id": "629d3995",
   "metadata": {},
   "outputs": [
    {
     "data": {
      "text/plain": [
       "['Ratan Tata Says, If The Death Of 65 Soldiers Increases The Popularity Of A Prime Minister, Then Nobody Can Save This Country',\n",
       " 'The document that circulated did not come from the Civil Service Commission',\n",
       " 'News Outlets Did Not Report On Coronavirus Cases At Walmart, Amazon And Other Retailers']"
      ]
     },
     "execution_count": 43,
     "metadata": {},
     "output_type": "execute_result"
    }
   ],
   "source": [
    "claims_text[:3]"
   ]
  },
  {
   "cell_type": "code",
   "execution_count": 48,
   "id": "2cc5fb42",
   "metadata": {},
   "outputs": [
    {
     "data": {
      "text/plain": [
       "str"
      ]
     },
     "execution_count": 48,
     "metadata": {},
     "output_type": "execute_result"
    }
   ],
   "source": [
    "type(tweet_entities[0][0][0])"
   ]
  },
  {
   "cell_type": "code",
   "execution_count": 49,
   "id": "08eb44c5",
   "metadata": {},
   "outputs": [
    {
     "data": {
      "text/plain": [
       "('CDC does not currently recommend the use of facemasks to help prevent novel Take everyday preventive actions, like staying home when you are sick and washing hands with soap and water, to help slow the spread of respiratory illness.',\n",
       " [['Centers for Disease Control and Prevention',\n",
       "   'https://www.wikidata.org/wiki/Q583725'],\n",
       "  ['Use', 'https://www.wikidata.org/wiki/Q7901733'],\n",
       "  ['Coronavirus', 'https://www.wikidata.org/wiki/Q290805'],\n",
       "  ['novel', 'https://www.wikidata.org/wiki/Q8261'],\n",
       "  ['hashtag', 'https://www.wikidata.org/wiki/Q278485'],\n",
       "  ['Preventive action', 'https://www.wikidata.org/wiki/Q2823701'],\n",
       "  ['washing', 'https://www.wikidata.org/wiki/Q23841'],\n",
       "  ['hand', 'https://www.wikidata.org/wiki/Q33767'],\n",
       "  ['soap opera', 'https://www.wikidata.org/wiki/Q23739'],\n",
       "  ['water', 'https://www.wikidata.org/wiki/Q283'],\n",
       "  ['spread', 'https://www.wikidata.org/wiki/Q1472481'],\n",
       "  ['disease', 'https://www.wikidata.org/wiki/Q12136']])"
      ]
     },
     "execution_count": 49,
     "metadata": {},
     "output_type": "execute_result"
    }
   ],
   "source": [
    "tweets[0], tweet_entities[0]"
   ]
  },
  {
   "cell_type": "code",
   "execution_count": 58,
   "id": "f71c0449",
   "metadata": {},
   "outputs": [],
   "source": [
    "tweet_edges = []\n",
    "tweet_ents = []\n",
    "\n",
    "for i, sent in enumerate(tweet_entities):\n",
    "    for ent in sent:\n",
    "        tweet_ents.append(ent[0])\n",
    "        tweet_edges.append((tweets[i], ent[0]))"
   ]
  },
  {
   "cell_type": "code",
   "execution_count": 59,
   "id": "62ba27a2",
   "metadata": {},
   "outputs": [
    {
     "data": {
      "text/plain": [
       "[('CDC does not currently recommend the use of facemasks to help prevent novel Take everyday preventive actions, like staying home when you are sick and washing hands with soap and water, to help slow the spread of respiratory illness.',\n",
       "  'Centers for Disease Control and Prevention'),\n",
       " ('CDC does not currently recommend the use of facemasks to help prevent novel Take everyday preventive actions, like staying home when you are sick and washing hands with soap and water, to help slow the spread of respiratory illness.',\n",
       "  'Use'),\n",
       " ('CDC does not currently recommend the use of facemasks to help prevent novel Take everyday preventive actions, like staying home when you are sick and washing hands with soap and water, to help slow the spread of respiratory illness.',\n",
       "  'Coronavirus')]"
      ]
     },
     "execution_count": 59,
     "metadata": {},
     "output_type": "execute_result"
    }
   ],
   "source": [
    "tweet_edges[:3]"
   ]
  },
  {
   "cell_type": "code",
   "execution_count": 60,
   "id": "1728cea4",
   "metadata": {},
   "outputs": [
    {
     "data": {
      "text/plain": [
       "['Centers for Disease Control and Prevention', 'Use', 'Coronavirus']"
      ]
     },
     "execution_count": 60,
     "metadata": {},
     "output_type": "execute_result"
    }
   ],
   "source": [
    "tweet_ents[:3]"
   ]
  },
  {
   "cell_type": "code",
   "execution_count": 62,
   "id": "5149b827",
   "metadata": {},
   "outputs": [],
   "source": [
    "claim_edges = []\n",
    "claim_ents = []\n",
    "\n",
    "for i, sent in enumerate(claims_entities):\n",
    "    for ent in sent:\n",
    "        claim_ents.append(ent[0])\n",
    "        claim_edges.append((claims_text[i], ent[0]))"
   ]
  },
  {
   "cell_type": "code",
   "execution_count": 63,
   "id": "c1c64268",
   "metadata": {},
   "outputs": [
    {
     "data": {
      "text/plain": [
       "[('Ratan Tata Says, If The Death Of 65 Soldiers Increases The Popularity Of A Prime Minister, Then Nobody Can Save This Country',\n",
       "  'Ratan Tata'),\n",
       " ('Ratan Tata Says, If The Death Of 65 Soldiers Increases The Popularity Of A Prime Minister, Then Nobody Can Save This Country',\n",
       "  'Death'),\n",
       " ('Ratan Tata Says, If The Death Of 65 Soldiers Increases The Popularity Of A Prime Minister, Then Nobody Can Save This Country',\n",
       "  'Soldier')]"
      ]
     },
     "execution_count": 63,
     "metadata": {},
     "output_type": "execute_result"
    }
   ],
   "source": [
    "claim_edges[:3]"
   ]
  },
  {
   "cell_type": "code",
   "execution_count": 64,
   "id": "67889654",
   "metadata": {},
   "outputs": [
    {
     "data": {
      "text/plain": [
       "['Ratan Tata', 'Death', 'Soldier']"
      ]
     },
     "execution_count": 64,
     "metadata": {},
     "output_type": "execute_result"
    }
   ],
   "source": [
    "claim_ents[:3]"
   ]
  },
  {
   "cell_type": "code",
   "execution_count": 66,
   "id": "3fcbc801",
   "metadata": {},
   "outputs": [],
   "source": [
    "combined_ents = list(set(claim_ents + tweet_ents))"
   ]
  },
  {
   "cell_type": "code",
   "execution_count": 67,
   "id": "edd6adee",
   "metadata": {},
   "outputs": [
    {
     "data": {
      "text/plain": [
       "23806"
      ]
     },
     "execution_count": 67,
     "metadata": {},
     "output_type": "execute_result"
    }
   ],
   "source": [
    "len(combined_ents)"
   ]
  },
  {
   "cell_type": "code",
   "execution_count": 70,
   "id": "b7a8f8a3",
   "metadata": {},
   "outputs": [],
   "source": [
    "combined_ents = [ent for ent in combined_ents if ent is not None]"
   ]
  },
  {
   "cell_type": "code",
   "execution_count": 71,
   "id": "1416771d",
   "metadata": {},
   "outputs": [
    {
     "data": {
      "text/plain": [
       "23805"
      ]
     },
     "execution_count": 71,
     "metadata": {},
     "output_type": "execute_result"
    }
   ],
   "source": [
    "len(combined_ents)"
   ]
  },
  {
   "cell_type": "code",
   "execution_count": 72,
   "id": "ace84230",
   "metadata": {},
   "outputs": [],
   "source": [
    "G2 = nx.Graph()"
   ]
  },
  {
   "cell_type": "code",
   "execution_count": 73,
   "id": "a562419d",
   "metadata": {},
   "outputs": [],
   "source": [
    "G2.add_nodes_from(claims_text)\n",
    "G2.add_nodes_from(tweets)\n",
    "G2.add_nodes_from(combined_ents)"
   ]
  },
  {
   "cell_type": "code",
   "execution_count": 75,
   "id": "1f0d91d3",
   "metadata": {},
   "outputs": [],
   "source": [
    "claim_edges = [edge for edge in claim_edges if edge[0] is not None and edge[1] is not None]\n",
    "tweet_edges = [edge for edge in tweet_edges if edge[0] is not None and edge[1] is not None]"
   ]
  },
  {
   "cell_type": "code",
   "execution_count": 76,
   "id": "469ceaff",
   "metadata": {},
   "outputs": [],
   "source": [
    "G2.add_edges_from(claim_edges)\n",
    "G2.add_edges_from(tweet_edges)"
   ]
  },
  {
   "cell_type": "code",
   "execution_count": 78,
   "id": "aac29774",
   "metadata": {},
   "outputs": [],
   "source": [
    "mapping2 = {}\n",
    "\n",
    "for claim in claims_text:\n",
    "    mapping2[claim] = {\"type\": \"claim\"}\n",
    "    \n",
    "for tweet in tweets:\n",
    "    mapping2[tweet] = {\"type\": \"tweet\"}\n",
    "    \n",
    "for ent in combined_ents:\n",
    "    mapping2[ent] = {\"type\": \"entity\"}"
   ]
  },
  {
   "cell_type": "code",
   "execution_count": 79,
   "id": "58c8cfe7",
   "metadata": {},
   "outputs": [],
   "source": [
    "nx.set_node_attributes(G2, mapping2)"
   ]
  },
  {
   "cell_type": "code",
   "execution_count": 81,
   "id": "99f9faf3",
   "metadata": {},
   "outputs": [
    {
     "data": {
      "application/vnd.jupyter.widget-view+json": {
       "model_id": "111baa74249e4453bf65dc2bce196821",
       "version_major": 2,
       "version_minor": 0
      },
      "text/plain": [
       "Computing transition probabilities:   0%|          | 0/72948 [00:00<?, ?it/s]"
      ]
     },
     "metadata": {},
     "output_type": "display_data"
    },
    {
     "name": "stderr",
     "output_type": "stream",
     "text": [
      "Generating walks (CPU: 1): 100%|███████████████████████████████████████████████████████| 20/20 [04:31<00:00, 13.60s/it]\n"
     ]
    }
   ],
   "source": [
    "node2vec2 = Node2Vec(G2, dimensions=64, walk_length=10, num_walks=20, workers=1)  # Use temp_folder for big graphs"
   ]
  },
  {
   "cell_type": "code",
   "execution_count": 82,
   "id": "abcc8606",
   "metadata": {},
   "outputs": [],
   "source": [
    "model2 = node2vec2.fit(window=100, min_count=1, batch_words=16)"
   ]
  },
  {
   "cell_type": "code",
   "execution_count": 83,
   "id": "14e045b7",
   "metadata": {},
   "outputs": [
    {
     "data": {
      "text/plain": [
       "[('Popularity', 0.9513153433799744),\n",
       " ('Ratan Tata', 0.711036205291748),\n",
       " ('Soldier', 0.7054051160812378),\n",
       " ('Dennis Rodman', 0.6594432592391968),\n",
       " ('Punjabi Artist Impersonating As Indian Soldier', 0.6507119536399841),\n",
       " ('Death', 0.640994668006897),\n",
       " ('Grand Chancellor', 0.6386310458183289),\n",
       " ('Soldiers are paid N65,000 monthly', 0.6264833807945251),\n",
       " ('Stairs', 0.614574134349823),\n",
       " ('Deaths rose by 650 above average during the UK heatwave',\n",
       "  0.6121979355812073)]"
      ]
     },
     "execution_count": 83,
     "metadata": {},
     "output_type": "execute_result"
    }
   ],
   "source": [
    "model2.wv.most_similar('Ratan Tata Says, If The Death Of 65 Soldiers Increases The Popularity Of A Prime Minister, Then Nobody Can Save This Country')"
   ]
  },
  {
   "cell_type": "code",
   "execution_count": 93,
   "id": "a092e3e4",
   "metadata": {},
   "outputs": [],
   "source": [
    "# r = model2.wv.most_similar('Photo of Prime Minister Narendra Modi holding a massive roadshow',topn=len(G2.nodes))\n",
    "r = model2.wv.most_similar('Donald Trump is the first president in modern history did not start a new war.', topn=len(G2.nodes))"
   ]
  },
  {
   "cell_type": "code",
   "execution_count": 94,
   "id": "0c8161cd",
   "metadata": {},
   "outputs": [],
   "source": [
    "r_sent = []\n",
    "\n",
    "for bla in r:\n",
    "    if G2.nodes[bla[0]][\"type\"] == \"claim\" or G2.nodes[bla[0]][\"type\"] == \"tweet\":\n",
    "        r_sent.append((bla[0], G2.nodes[bla[0]][\"type\"], bla[1]))"
   ]
  },
  {
   "cell_type": "code",
   "execution_count": 95,
   "id": "fed33ed8",
   "metadata": {},
   "outputs": [
    {
     "data": {
      "text/plain": [
       "[('Says Barack Obama \"is the first president in modern history not to have a single year of 3 percent growth.\"',\n",
       "  'claim',\n",
       "  0.7230109572410583),\n",
       " ('Calus has falsified histories written by his Psions to make him happy',\n",
       "  'tweet',\n",
       "  0.7198453545570374),\n",
       " ('Says Donald Trump \"has a long history of exporting jobs overseas.\"',\n",
       "  'claim',\n",
       "  0.7024901509284973),\n",
       " ('The Jamkaran mosque in Iran raised a red flag over its dome for the first time in history.',\n",
       "  'claim',\n",
       "  0.6885107159614563),\n",
       " ('\"There’s more Hoosiers going to work than ever before.\"',\n",
       "  'claim',\n",
       "  0.6795364618301392),\n",
       " ('Says there’s \"never (been) so many apprehensions ever in our history.\"',\n",
       "  'claim',\n",
       "  0.6733711957931519),\n",
       " ('Trump\\'s \"budget reduced the deficit by $3 trillion, which is one of the largest in history.\"',\n",
       "  'claim',\n",
       "  0.6515135169029236),\n",
       " ('\"Today, there are more Hoosiers going to work than ever before in the 200-year history of the great state of Indiana.\"',\n",
       "  'claim',\n",
       "  0.6508753299713135),\n",
       " ('Jim Jordan said he tolerated Obama for 8 years in a defense of Trump.',\n",
       "  'claim',\n",
       "  0.6499488353729248),\n",
       " ('shows a Time Magazine cover that calls former President Barack Obama “the kingpin of the biggest political scandal in modern history.”',\n",
       "  'claim',\n",
       "  0.6493858098983765)]"
      ]
     },
     "execution_count": 95,
     "metadata": {},
     "output_type": "execute_result"
    }
   ],
   "source": [
    "r_sent[:10]"
   ]
  }
 ],
 "metadata": {
  "kernelspec": {
   "display_name": "Python 3 (ipykernel)",
   "language": "python",
   "name": "python3"
  },
  "language_info": {
   "codemirror_mode": {
    "name": "ipython",
    "version": 3
   },
   "file_extension": ".py",
   "mimetype": "text/x-python",
   "name": "python",
   "nbconvert_exporter": "python",
   "pygments_lexer": "ipython3",
   "version": "3.10.8"
  }
 },
 "nbformat": 4,
 "nbformat_minor": 5
}
