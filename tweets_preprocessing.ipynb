{
 "cells": [
  {
   "cell_type": "code",
   "execution_count": 1,
   "id": "a1a9f4be",
   "metadata": {},
   "outputs": [],
   "source": [
    "import re\n",
    "import json\n",
    "import pickle\n",
    "import random\n",
    "import pandas as pd"
   ]
  },
  {
   "cell_type": "code",
   "execution_count": 2,
   "id": "1ab9eb63",
   "metadata": {},
   "outputs": [],
   "source": [
    "data = pd.read_csv(\"birdwatch_tweets.csv\")"
   ]
  },
  {
   "cell_type": "code",
   "execution_count": 3,
   "id": "8be23017",
   "metadata": {},
   "outputs": [],
   "source": [
    "with open(\"tweets_entities_spacy.json\", \"r\") as f:\n",
    "    tweets = json.load(f)"
   ]
  },
  {
   "cell_type": "code",
   "execution_count": 4,
   "id": "9665a3c6",
   "metadata": {},
   "outputs": [
    {
     "data": {
      "text/html": [
       "<div>\n",
       "<style scoped>\n",
       "    .dataframe tbody tr th:only-of-type {\n",
       "        vertical-align: middle;\n",
       "    }\n",
       "\n",
       "    .dataframe tbody tr th {\n",
       "        vertical-align: top;\n",
       "    }\n",
       "\n",
       "    .dataframe thead th {\n",
       "        text-align: right;\n",
       "    }\n",
       "</style>\n",
       "<table border=\"1\" class=\"dataframe\">\n",
       "  <thead>\n",
       "    <tr style=\"text-align: right;\">\n",
       "      <th></th>\n",
       "      <th>tweet</th>\n",
       "    </tr>\n",
       "  </thead>\n",
       "  <tbody>\n",
       "    <tr>\n",
       "      <th>0</th>\n",
       "      <td>CDC does not currently recommend the use of fa...</td>\n",
       "    </tr>\n",
       "    <tr>\n",
       "      <th>1</th>\n",
       "      <td>@RonaldKlain Election Fraud was inevitable. De...</td>\n",
       "    </tr>\n",
       "    <tr>\n",
       "      <th>2</th>\n",
       "      <td>Donald Trump is the first president in modern ...</td>\n",
       "    </tr>\n",
       "    <tr>\n",
       "      <th>3</th>\n",
       "      <td>First they came for our Free Speech, then they...</td>\n",
       "    </tr>\n",
       "    <tr>\n",
       "      <th>4</th>\n",
       "      <td>Yes, I want somebody to shoot Nancy Pelosi in ...</td>\n",
       "    </tr>\n",
       "  </tbody>\n",
       "</table>\n",
       "</div>"
      ],
      "text/plain": [
       "                                               tweet\n",
       "0  CDC does not currently recommend the use of fa...\n",
       "1  @RonaldKlain Election Fraud was inevitable. De...\n",
       "2  Donald Trump is the first president in modern ...\n",
       "3  First they came for our Free Speech, then they...\n",
       "4  Yes, I want somebody to shoot Nancy Pelosi in ..."
      ]
     },
     "execution_count": 4,
     "metadata": {},
     "output_type": "execute_result"
    }
   ],
   "source": [
    "data.head()"
   ]
  },
  {
   "cell_type": "code",
   "execution_count": 5,
   "id": "a3e46794",
   "metadata": {},
   "outputs": [
    {
     "data": {
      "text/plain": [
       "[['Centers for Disease Control and Prevention',\n",
       "  'https://www.wikidata.org/wiki/Q583725'],\n",
       " ['Use', 'https://www.wikidata.org/wiki/Q7901733'],\n",
       " ['Coronavirus', 'https://www.wikidata.org/wiki/Q290805'],\n",
       " ['novel', 'https://www.wikidata.org/wiki/Q8261'],\n",
       " ['hashtag', 'https://www.wikidata.org/wiki/Q278485'],\n",
       " ['Preventive action', 'https://www.wikidata.org/wiki/Q2823701'],\n",
       " ['washing', 'https://www.wikidata.org/wiki/Q23841'],\n",
       " ['hand', 'https://www.wikidata.org/wiki/Q33767'],\n",
       " ['soap opera', 'https://www.wikidata.org/wiki/Q23739'],\n",
       " ['water', 'https://www.wikidata.org/wiki/Q283'],\n",
       " ['spread', 'https://www.wikidata.org/wiki/Q1472481'],\n",
       " ['disease', 'https://www.wikidata.org/wiki/Q12136']]"
      ]
     },
     "execution_count": 5,
     "metadata": {},
     "output_type": "execute_result"
    }
   ],
   "source": [
    "tweets[0]"
   ]
  },
  {
   "cell_type": "code",
   "execution_count": 6,
   "id": "83b5fc02",
   "metadata": {},
   "outputs": [],
   "source": [
    "tweet_text = data['tweet'].tolist()"
   ]
  },
  {
   "cell_type": "code",
   "execution_count": 7,
   "id": "d92313ea",
   "metadata": {},
   "outputs": [
    {
     "data": {
      "text/plain": [
       "['CDC does not currently recommend the use of facemasks to help prevent novel #coronavirus. Take everyday preventive actions, like staying home when you are sick and washing hands with soap and water, to help slow the spread of respiratory illness. #COVID19 https://t.co/uArGZTJhXj https://t.co/yzWTSgt2IV',\n",
       " '@RonaldKlain Election Fraud was inevitable. Democrats control media, big tech, corruption and manipulation.',\n",
       " 'Donald Trump is the first president in modern history did not start a new war.',\n",
       " 'First they came for our Free Speech, then they came for our Free Markets, next they’ll come for our Free Shipping on orders $50 or more with promo code: FREEDOM50',\n",
       " 'Yes, I want somebody to shoot Nancy Pelosi in the head and kill FBI agents and arrest teen survivors of school shootings for treason — but will the fake news media tell you that I like my kids?  No.  And that’s why we need to impeach Section 230 https://t.co/QjaStaHyoi']"
      ]
     },
     "execution_count": 7,
     "metadata": {},
     "output_type": "execute_result"
    }
   ],
   "source": [
    "tweet_text[:5]"
   ]
  },
  {
   "cell_type": "code",
   "execution_count": 20,
   "id": "29f8b6ed",
   "metadata": {},
   "outputs": [
    {
     "data": {
      "text/plain": [
       "['@AyannaPressley Reminder: https://t.co/UG4IsDfrgc',\n",
       " 'Hospitals are full because medical professionals are leaving. When they say the beds are full, they don’t mean it literally. It means there’s not enough nurses or doctors per patient. You’re welcome. Turn off the tv already. 🤡  #Covid_19 #IwillNOTComply',\n",
       " 'Inflation ⬆️\\nBorder crossings ⬆️\\nDebt ⬆️\\nCrime ⬆️\\n\\nThese are the consequences of Joe Biden in the Oval Office.',\n",
       " 'My heart breaks for Officer Gordon Beesley.\\n\\nBLUE LIVES MATTER! Pray for the security of the men and women who selflessly serve our communities. https://t.co/BX17buiJlO',\n",
       " '@DIEBO37 https://t.co/YyG2mx4jMQ']"
      ]
     },
     "execution_count": 20,
     "metadata": {},
     "output_type": "execute_result"
    }
   ],
   "source": [
    "random.sample(tweet_text, 5)"
   ]
  },
  {
   "cell_type": "markdown",
   "id": "aaa30ec7",
   "metadata": {},
   "source": [
    "* remove links\n",
    "* remove hashtags ? (more comparable with claims)\n",
    "* remove mentions of usernames (@username)\n",
    "* remove all emojis or some (replace others with words, ie :) will be removed but ⬆️ will be replaced with up --> 'Inflation ⬆️\\nBorder crossings ⬆️\\nDebt ⬆️\\nCrime ⬆️\\n\\nThese are the consequences of Joe Biden in the Oval Office.')\n",
    "* "
   ]
  },
  {
   "cell_type": "code",
   "execution_count": 21,
   "id": "08f91cac",
   "metadata": {},
   "outputs": [
    {
     "name": "stdout",
     "output_type": "stream",
     "text": [
      "4050 President @JoeBiden and House Democrats’ reckless spending has caused the Producer Price Index, a key inflation measure, to hit a new record high. Inflation is taxation and it is hurting hardworking Americans. https://t.co/uwHTj3SzcN\n",
      "7937 Inflation is running rampant due in part to out-of-control spending from President Biden and Speaker Pelosi.\n",
      "\n",
      "Make no mistake → with inflation rising at the fastest pace in 13 years, your hard-earned money is worth less in Joe Biden’s America.\n",
      "7947 Inflation is a tax on every single American. \n",
      " \n",
      "It’s the highest it’s been in 13 years. \n",
      " \n",
      "And it’s a direct result of Democrats’ reckless, excessive spending.\n",
      "8615 Inflation ⬆️\n",
      "Border crossings ⬆️\n",
      "Debt ⬆️\n",
      "Crime ⬆️\n",
      "\n",
      "These are the consequences of Joe Biden in the Oval Office.\n"
     ]
    }
   ],
   "source": [
    "for i, t in enumerate(tweet_text):\n",
    "    if 'Inflation ' in t:\n",
    "        print(i, t)"
   ]
  },
  {
   "cell_type": "code",
   "execution_count": 25,
   "id": "8483c8b5",
   "metadata": {},
   "outputs": [
    {
     "data": {
      "text/plain": [
       "'Inflation ⬆️\\nBorder crossings ⬆️\\nDebt ⬆️\\nCrime ⬆️\\n\\nThese are the consequences of Joe Biden in the Oval Office.'"
      ]
     },
     "execution_count": 25,
     "metadata": {},
     "output_type": "execute_result"
    }
   ],
   "source": [
    "tweet_text[8615]"
   ]
  },
  {
   "cell_type": "code",
   "execution_count": 29,
   "id": "80424a44",
   "metadata": {},
   "outputs": [
    {
     "data": {
      "text/plain": [
       "'@AyannaPressley Reminder: '"
      ]
     },
     "execution_count": 29,
     "metadata": {},
     "output_type": "execute_result"
    }
   ],
   "source": [
    "re.sub(\"https://[^ ]*\", \"\", '@AyannaPressley Reminder: https://t.co/UG4IsDfrgc')"
   ]
  },
  {
   "cell_type": "code",
   "execution_count": 30,
   "id": "e20dddf6",
   "metadata": {},
   "outputs": [
    {
     "data": {
      "text/plain": [
       "' Reminder: https://t.co/UG4IsDfrgc'"
      ]
     },
     "execution_count": 30,
     "metadata": {},
     "output_type": "execute_result"
    }
   ],
   "source": [
    "re.sub(\"@[^ ]*\", \"\", '@AyannaPressley Reminder: https://t.co/UG4IsDfrgc')"
   ]
  },
  {
   "cell_type": "code",
   "execution_count": 31,
   "id": "a4899c28",
   "metadata": {},
   "outputs": [
    {
     "data": {
      "text/plain": [
       "'@AyannaPressley Reminder: https://t.co/UG4IsDfrgc '"
      ]
     },
     "execution_count": 31,
     "metadata": {},
     "output_type": "execute_result"
    }
   ],
   "source": [
    "re.sub(\"#[^ ]*\", \"\", '@AyannaPressley Reminder: https://t.co/UG4IsDfrgc #link')"
   ]
  },
  {
   "cell_type": "code",
   "execution_count": 34,
   "id": "30f72e84",
   "metadata": {},
   "outputs": [
    {
     "data": {
      "text/plain": [
       "'  Reminder:    '"
      ]
     },
     "execution_count": 34,
     "metadata": {},
     "output_type": "execute_result"
    }
   ],
   "source": [
    "re.sub(\"#[^ ]*|https://[^ ]*|@[^ ]*\", \"\", '@AyannaPressley Reminder: https://t.co/UG4IsDfrgc #link')"
   ]
  },
  {
   "cell_type": "code",
   "execution_count": 36,
   "id": "788fb4ec",
   "metadata": {},
   "outputs": [
    {
     "data": {
      "text/plain": [
       "'Reminder:'"
      ]
     },
     "execution_count": 36,
     "metadata": {},
     "output_type": "execute_result"
    }
   ],
   "source": [
    "re.sub(\"  *\", \" \", re.sub(\"#[^ ]*|https://[^ ]*|@[^ ]*\", \"\", '@AyannaPressley Reminder: https://t.co/UG4IsDfrgc #link')).strip()"
   ]
  },
  {
   "cell_type": "code",
   "execution_count": 37,
   "id": "13bdc51a",
   "metadata": {},
   "outputs": [],
   "source": [
    "preprocessed_tweets = []\n",
    "\n",
    "for tweet in tweet_text:\n",
    "    tweet = re.sub(\"#[^ ]*|https://[^ ]*|@[^ ]*\", \"\", tweet)\n",
    "    tweet = re.sub(\"  *\", \" \", tweet).strip()\n",
    "    preprocessed_tweets.append(tweet)"
   ]
  },
  {
   "cell_type": "code",
   "execution_count": 39,
   "id": "ea03ba7b",
   "metadata": {},
   "outputs": [
    {
     "data": {
      "text/plain": [
       "['CDC does not currently recommend the use of facemasks to help prevent novel Take everyday preventive actions, like staying home when you are sick and washing hands with soap and water, to help slow the spread of respiratory illness.',\n",
       " 'Election Fraud was inevitable. Democrats control media, big tech, corruption and manipulation.',\n",
       " 'Donald Trump is the first president in modern history did not start a new war.',\n",
       " 'First they came for our Free Speech, then they came for our Free Markets, next they’ll come for our Free Shipping on orders $50 or more with promo code: FREEDOM50',\n",
       " 'Yes, I want somebody to shoot Nancy Pelosi in the head and kill FBI agents and arrest teen survivors of school shootings for treason — but will the fake news media tell you that I like my kids? No. And that’s why we need to impeach Section 230',\n",
       " 'insider at just sent me these internal emails... wtf??\\n\\n$GME $NOK $BB $AMC',\n",
       " 'This is untrue. Please do not spread false statements about vaccines.',\n",
       " 'To remind u what BLM did. Disqualify! RT movement nominated for Nobel peace prize.',\n",
       " 'Black Lives Matter is a racist, domestic terror organization and should be dealt with just as ISIS and al Qaeda have been.',\n",
       " 'Go get those Antifa bastards! And the random anarchists. And the Boogaloo Boys. And the BLM people. All those fascist thugs need to be dealt with. How dare they dress like Trump supporters and make it look like it was Trump supporters that caused all the violence at the capitol.',\n",
       " 'Breitbart undermining its own transphobia by using a photo of a trans man forced to compete against girls in an article arguing in favor of the kind of policy that required him to do so🤯\\n\\nif only its audience was smart enough to figure this out too',\n",
       " 'I have made $100k with $DOGE so far, and will be giving away $2000 today to anyone who follows and retweets',\n",
       " 'On a day in which is trending, please never forget the time that staged a photo shoot dressed in all white at a parking lot to spread lies about immigrant children in cages. \\n\\nFaking her own attempted murder was the next logical step.',\n",
       " '*FACT CHECK* \\n\\nI have not once discounted your fear. We were ALL terrified that day. \\n\\nI’m stating the fact that insurrectionists were never in our hallway... because they weren’t. I deal in facts. Unlike you, apparently.',\n",
       " 'És la vacuna. Segur',\n",
       " 'Trevor Bauer and the have a deal.',\n",
       " 'Bottom line: Thank God for baseload energy made up of fossil fuels. \\n\\nHad our grid been more reliant on the wind turbines that froze, the outages would have been much worse.',\n",
       " 'This raises the obvious question: can we ever rely on renewables to power the grid during extreme weather?\\n\\nNo, you need gas or nuclear. \\n\\nAnd subsidizing investment in wind has pushed gas and nuclear out. \\n\\nNow we live with the consequences.',\n",
       " 'Rush Limbaugh had a regular radio segment where he would read off the names of gay people who died of AIDS and celebrate it and play horns and bells and stuff.',\n",
       " 'Ben Rhodes told that — and all Jews — are “corrupt and cruel.” While this view is taking root among some Democrats, does President Biden agree? I hope not.']"
      ]
     },
     "execution_count": 39,
     "metadata": {},
     "output_type": "execute_result"
    }
   ],
   "source": [
    "preprocessed_tweets[:20]"
   ]
  },
  {
   "cell_type": "code",
   "execution_count": 41,
   "id": "da6d66c8",
   "metadata": {},
   "outputs": [],
   "source": [
    "with open(\"preprocessed_tweets.pickle\", \"wb\") as f:\n",
    "    pickle.dump(preprocessed_tweets, f)"
   ]
  }
 ],
 "metadata": {
  "kernelspec": {
   "display_name": "Python 3 (ipykernel)",
   "language": "python",
   "name": "python3"
  },
  "language_info": {
   "codemirror_mode": {
    "name": "ipython",
    "version": 3
   },
   "file_extension": ".py",
   "mimetype": "text/x-python",
   "name": "python",
   "nbconvert_exporter": "python",
   "pygments_lexer": "ipython3",
   "version": "3.10.8"
  }
 },
 "nbformat": 4,
 "nbformat_minor": 5
}
