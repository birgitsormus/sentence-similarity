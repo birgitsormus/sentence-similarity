{
 "cells": [
  {
   "cell_type": "markdown",
   "metadata": {},
   "source": [
    "### Data"
   ]
  },
  {
   "cell_type": "code",
   "execution_count": 1,
   "metadata": {},
   "outputs": [],
   "source": [
    "import pandas as pd\n",
    "\n",
    "data = pd.read_csv('claim_reviews_en.csv')"
   ]
  },
  {
   "cell_type": "code",
   "execution_count": 4,
   "metadata": {},
   "outputs": [],
   "source": [
    "tweets = pd.read_csv('birdwatch_tweets.csv')"
   ]
  },
  {
   "cell_type": "code",
   "execution_count": 2,
   "metadata": {
    "scrolled": true
   },
   "outputs": [
    {
     "data": {
      "text/html": [
       "<div>\n",
       "<style scoped>\n",
       "    .dataframe tbody tr th:only-of-type {\n",
       "        vertical-align: middle;\n",
       "    }\n",
       "\n",
       "    .dataframe tbody tr th {\n",
       "        vertical-align: top;\n",
       "    }\n",
       "\n",
       "    .dataframe thead th {\n",
       "        text-align: right;\n",
       "    }\n",
       "</style>\n",
       "<table border=\"1\" class=\"dataframe\">\n",
       "  <thead>\n",
       "    <tr style=\"text-align: right;\">\n",
       "      <th></th>\n",
       "      <th>claim_text</th>\n",
       "      <th>label</th>\n",
       "      <th>review_url</th>\n",
       "      <th>fact_checker</th>\n",
       "      <th>appearances</th>\n",
       "      <th>reviews</th>\n",
       "    </tr>\n",
       "  </thead>\n",
       "  <tbody>\n",
       "    <tr>\n",
       "      <th>0</th>\n",
       "      <td>Ratan Tata Says, If The Death Of 65 Soldiers I...</td>\n",
       "      <td>not_credible</td>\n",
       "      <td>https://www.boomlive.in/photoshopped-tweet-cla...</td>\n",
       "      <td>{'name': 'BOOM', 'country': 'India', 'language...</td>\n",
       "      <td>[]</td>\n",
       "      <td>[{'label': 'not_credible', 'original_label': '...</td>\n",
       "    </tr>\n",
       "    <tr>\n",
       "      <th>1</th>\n",
       "      <td>The document that circulated did not come from...</td>\n",
       "      <td>not_credible</td>\n",
       "      <td>https://www.rappler.com/newsbreak/fact-check/2...</td>\n",
       "      <td>{'name': 'Rappler', 'country': 'Philippines', ...</td>\n",
       "      <td>[]</td>\n",
       "      <td>[{'label': 'not_credible', 'original_label': '...</td>\n",
       "    </tr>\n",
       "    <tr>\n",
       "      <th>2</th>\n",
       "      <td>News Outlets Did Not Report On Coronavirus Cas...</td>\n",
       "      <td>not_credible</td>\n",
       "      <td>https://leadstories.com/hoax-alert/2020/04/fac...</td>\n",
       "      <td>{'name': 'Lead Stories', 'country': 'United St...</td>\n",
       "      <td>[]</td>\n",
       "      <td>[{'label': 'not_credible', 'original_label': '...</td>\n",
       "    </tr>\n",
       "    <tr>\n",
       "      <th>3</th>\n",
       "      <td>RSS built the 6000-bed COVID centre in Indore</td>\n",
       "      <td>not_credible</td>\n",
       "      <td>https://www.altnews.in/rss-hasnt-build-second-...</td>\n",
       "      <td>{'name': 'Pravda Media Foundation', 'country':...</td>\n",
       "      <td>[]</td>\n",
       "      <td>[{'label': 'not_credible', 'original_label': '...</td>\n",
       "    </tr>\n",
       "    <tr>\n",
       "      <th>4</th>\n",
       "      <td>La justice belge a suspendu Covid Safe Ticket,...</td>\n",
       "      <td>not_verifiable</td>\n",
       "      <td>https://www.20minutes.fr/societe/3202587-20211...</td>\n",
       "      <td>{'name': '20 Minutes Fake off', 'country': 'Fr...</td>\n",
       "      <td>[]</td>\n",
       "      <td>[{'label': 'not_verifiable', 'original_label':...</td>\n",
       "    </tr>\n",
       "  </tbody>\n",
       "</table>\n",
       "</div>"
      ],
      "text/plain": [
       "                                          claim_text           label  \\\n",
       "0  Ratan Tata Says, If The Death Of 65 Soldiers I...    not_credible   \n",
       "1  The document that circulated did not come from...    not_credible   \n",
       "2  News Outlets Did Not Report On Coronavirus Cas...    not_credible   \n",
       "3      RSS built the 6000-bed COVID centre in Indore    not_credible   \n",
       "4  La justice belge a suspendu Covid Safe Ticket,...  not_verifiable   \n",
       "\n",
       "                                          review_url  \\\n",
       "0  https://www.boomlive.in/photoshopped-tweet-cla...   \n",
       "1  https://www.rappler.com/newsbreak/fact-check/2...   \n",
       "2  https://leadstories.com/hoax-alert/2020/04/fac...   \n",
       "3  https://www.altnews.in/rss-hasnt-build-second-...   \n",
       "4  https://www.20minutes.fr/societe/3202587-20211...   \n",
       "\n",
       "                                        fact_checker appearances  \\\n",
       "0  {'name': 'BOOM', 'country': 'India', 'language...          []   \n",
       "1  {'name': 'Rappler', 'country': 'Philippines', ...          []   \n",
       "2  {'name': 'Lead Stories', 'country': 'United St...          []   \n",
       "3  {'name': 'Pravda Media Foundation', 'country':...          []   \n",
       "4  {'name': '20 Minutes Fake off', 'country': 'Fr...          []   \n",
       "\n",
       "                                             reviews  \n",
       "0  [{'label': 'not_credible', 'original_label': '...  \n",
       "1  [{'label': 'not_credible', 'original_label': '...  \n",
       "2  [{'label': 'not_credible', 'original_label': '...  \n",
       "3  [{'label': 'not_credible', 'original_label': '...  \n",
       "4  [{'label': 'not_verifiable', 'original_label':...  "
      ]
     },
     "execution_count": 2,
     "metadata": {},
     "output_type": "execute_result"
    }
   ],
   "source": [
    "data.head()"
   ]
  },
  {
   "cell_type": "code",
   "execution_count": 3,
   "metadata": {},
   "outputs": [],
   "source": [
    "sents = data.claim_text"
   ]
  },
  {
   "cell_type": "code",
   "execution_count": 5,
   "metadata": {},
   "outputs": [],
   "source": [
    "embeddings = model.encode(sents)"
   ]
  },
  {
   "cell_type": "markdown",
   "metadata": {},
   "source": [
    "### Similarities between sentences with cosine similarities"
   ]
  },
  {
   "cell_type": "code",
   "execution_count": 6,
   "metadata": {},
   "outputs": [],
   "source": [
    "from sentence_transformers import util"
   ]
  },
  {
   "cell_type": "code",
   "execution_count": 8,
   "metadata": {},
   "outputs": [],
   "source": [
    "#Compute cosine-similarities\n",
    "cosine_scores = util.cos_sim(embeddings, embeddings)"
   ]
  },
  {
   "cell_type": "code",
   "execution_count": 13,
   "metadata": {},
   "outputs": [],
   "source": [
    "import numpy as np\n",
    "similar_sents = np.argsort(cosine_scores[0])"
   ]
  },
  {
   "cell_type": "code",
   "execution_count": 21,
   "metadata": {},
   "outputs": [
    {
     "data": {
      "text/plain": [
       "tensor([ 8854, 17103, 14655,  2721, 30283, 37469,  3043, 24539, 43465,     0])"
      ]
     },
     "execution_count": 21,
     "metadata": {},
     "output_type": "execute_result"
    }
   ],
   "source": [
    "similar_sents[-10:]"
   ]
  },
  {
   "cell_type": "code",
   "execution_count": 22,
   "metadata": {},
   "outputs": [
    {
     "name": "stdout",
     "output_type": "stream",
     "text": [
      "Industrialist Ratan Tata speaks on the Indian economy bouncing back post COVID-19 pandemic.\n",
      "Ratan Tata Has Stated That Tata Group Will Not Recruit Students From Jawaharlal Nehru University\n",
      "A post claiming that industrialist Ratan Tata had made a statement that he doesn’t ‘believe in taking the right decisions but he takes decisions and then make them right’\n",
      "Tweet from Indian businessman Ratan Tata insulting PM Modi\n",
      "Ratan Tata said, &quot;Government food subsidies should be stopped for liquor buyers.&quot;\n",
      "Ratan Tata talk about Indian economy amid COVID-19 crisis\n",
      "Ratan Tata said that experts predict a downfall of the Indian economy but we will bounce back\n",
      "Ratan Tata said that 2020 is a year to survive for businesses and they must not care about profit or loss\n",
      "Ratan Tata has claimed experts have predicted the economic downfall, but we will overcome this\n",
      "Ratan Tata Says, If The Death Of 65 Soldiers Increases The Popularity Of A Prime Minister, Then Nobody Can Save This Country\n"
     ]
    }
   ],
   "source": [
    "for i in list(similar_sents[-10:]):\n",
    "    print(sents[int(i)])"
   ]
  },
  {
   "cell_type": "markdown",
   "metadata": {},
   "source": [
    "### Sentences similar to given sentence"
   ]
  },
  {
   "cell_type": "code",
   "execution_count": 23,
   "metadata": {},
   "outputs": [],
   "source": [
    "sent = \"Donald Trump tests positive for Coronavirus\""
   ]
  },
  {
   "cell_type": "code",
   "execution_count": 24,
   "metadata": {},
   "outputs": [],
   "source": [
    "sent_embed = model.encode(sent)"
   ]
  },
  {
   "cell_type": "code",
   "execution_count": 33,
   "metadata": {},
   "outputs": [],
   "source": [
    "sent_cosines = util.cos_sim(sent_embed,embeddings)"
   ]
  },
  {
   "cell_type": "code",
   "execution_count": 34,
   "metadata": {},
   "outputs": [],
   "source": [
    "similar_sents = np.argsort(sent_cosines)"
   ]
  },
  {
   "cell_type": "code",
   "execution_count": 37,
   "metadata": {},
   "outputs": [
    {
     "name": "stdout",
     "output_type": "stream",
     "text": [
      "On Sept. 18, 2020, Twitter user @JohnCammo predicted that U.S. President Donald Trump would announce in October that he had tested positive for COVID-19.\n",
      "Donald Trump concealed the danger posed by the coronavirus\n",
      "This report says Pope Francis tested positive for novel coronavirus\n",
      "Nigerian President Muhammadu Buhari tests positive for coronavirus\n",
      "Claims that Daniel Radcliffe has tested positive for coronavirus.\n",
      "Joe Biden Tests Positive For Coronavirus\n",
      "Joe Biden Tests Positive For Coronavirus\n",
      "Video Shows Fox News reports Donald Trump tests positive for COVID-19\n",
      "Brazilian president, Jair Bolsonaro has tested positive for the novel coronavirus\n",
      "U.S. President Donald Trump said he &quot;tested very positively&quot; for COVID-19, meaning his test results came back negative, and he did not have the coronavirus disease.\n"
     ]
    }
   ],
   "source": [
    "for i in list(similar_sents[0][-10:]):\n",
    "    print(sents[int(i)])"
   ]
  },
  {
   "cell_type": "markdown",
   "metadata": {},
   "source": [
    "### Paraphrase mining"
   ]
  },
  {
   "cell_type": "code",
   "execution_count": 38,
   "metadata": {},
   "outputs": [],
   "source": [
    "paraphrases = util.paraphrase_mining(model, sents)"
   ]
  }
 ],
 "metadata": {
  "kernelspec": {
   "display_name": "Python 3",
   "language": "python",
   "name": "python3"
  },
  "language_info": {
   "codemirror_mode": {
    "name": "ipython",
    "version": 3
   },
   "file_extension": ".py",
   "mimetype": "text/x-python",
   "name": "python",
   "nbconvert_exporter": "python",
   "pygments_lexer": "ipython3",
   "version": "3.6.12"
  }
 },
 "nbformat": 4,
 "nbformat_minor": 4
}
