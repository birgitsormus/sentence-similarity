{
 "cells": [
  {
   "cell_type": "code",
   "execution_count": 1,
   "id": "fe4cad2b",
   "metadata": {},
   "outputs": [],
   "source": [
    "import pickle"
   ]
  },
  {
   "cell_type": "code",
   "execution_count": 2,
   "id": "30207899",
   "metadata": {},
   "outputs": [],
   "source": [
    "with open(\"sentences_with_entities_7548_to_end.pickle\", \"rb\") as f:\n",
    "    docs = pickle.load(f)"
   ]
  },
  {
   "cell_type": "code",
   "execution_count": 3,
   "id": "97360317",
   "metadata": {},
   "outputs": [
    {
     "data": {
      "text/plain": [
       "38327"
      ]
     },
     "execution_count": 3,
     "metadata": {},
     "output_type": "execute_result"
    }
   ],
   "source": [
    "len(docs)"
   ]
  },
  {
   "cell_type": "code",
   "execution_count": 5,
   "id": "4fe6a084",
   "metadata": {},
   "outputs": [],
   "source": [
    "doc_idx = [d[0] for d in docs]"
   ]
  },
  {
   "cell_type": "code",
   "execution_count": 4,
   "id": "be52c57d",
   "metadata": {},
   "outputs": [
    {
     "data": {
      "text/plain": [
       "(7549,\n",
       " A Facebook post purportedly shows a graphic from the anti-gun violence group Moms Demand Action.)"
      ]
     },
     "execution_count": 4,
     "metadata": {},
     "output_type": "execute_result"
    }
   ],
   "source": [
    "docs[0]"
   ]
  },
  {
   "cell_type": "code",
   "execution_count": 6,
   "id": "902bfb25",
   "metadata": {},
   "outputs": [
    {
     "data": {
      "text/plain": [
       "(47107,\n",
       " \"We admit about 100,000 permanent immigrants from the Middle East every year.\")"
      ]
     },
     "execution_count": 6,
     "metadata": {},
     "output_type": "execute_result"
    }
   ],
   "source": [
    "docs[-1]"
   ]
  },
  {
   "cell_type": "code",
   "execution_count": 7,
   "id": "cf79483f",
   "metadata": {},
   "outputs": [],
   "source": [
    "missing_idx = []\n",
    "\n",
    "for i in range(7549, 47107):\n",
    "    if i not in doc_idx:\n",
    "        missing_idx.append(i)"
   ]
  },
  {
   "cell_type": "code",
   "execution_count": 8,
   "id": "a9edd867",
   "metadata": {},
   "outputs": [
    {
     "data": {
      "text/plain": [
       "1232"
      ]
     },
     "execution_count": 8,
     "metadata": {},
     "output_type": "execute_result"
    }
   ],
   "source": [
    "len(missing_idx)"
   ]
  }
 ],
 "metadata": {
  "kernelspec": {
   "display_name": "Python 3 (ipykernel)",
   "language": "python",
   "name": "python3"
  },
  "language_info": {
   "codemirror_mode": {
    "name": "ipython",
    "version": 3
   },
   "file_extension": ".py",
   "mimetype": "text/x-python",
   "name": "python",
   "nbconvert_exporter": "python",
   "pygments_lexer": "ipython3",
   "version": "3.10.8"
  }
 },
 "nbformat": 4,
 "nbformat_minor": 5
}
